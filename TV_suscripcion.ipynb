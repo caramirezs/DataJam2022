{
 "cells": [
  {
   "cell_type": "code",
   "execution_count": 1,
   "outputs": [],
   "source": [
    "import pandas as pd"
   ],
   "metadata": {
    "collapsed": false,
    "pycharm": {
     "name": "#%%\n"
    }
   }
  },
  {
   "cell_type": "markdown",
   "source": [
    "# Suscriptores de TV\n",
    "Primero se cargan los datos extraidos de postdata y se organiza un dataframe desde el año 2013"
   ],
   "metadata": {
    "collapsed": false,
    "pycharm": {
     "name": "#%% md\n"
    }
   }
  },
  {
   "cell_type": "code",
   "execution_count": 306,
   "outputs": [],
   "source": [
    "df_1 = pd.read_csv('./bases_datos/suscriptores_tv_p1.csv', low_memory=False)\n",
    "df_2 = pd.read_csv('./bases_datos/suscriptores_tv_p2.csv', low_memory=False)\n",
    "df_tv_sucrp = pd.concat([df_1,df_2])\n",
    "\n",
    "# Eliminar datos anteriones a 2013\n",
    "df_tv_sucrp = df_tv_sucrp.iloc[1703:]\n",
    "df_tv_sucrp.reset_index(drop=True, inplace=True)\n",
    "\n",
    "# Crear una columna con los datos temporales\n",
    "df_tv_sucrp['datetime']=  df_tv_sucrp.apply(lambda row: f'{row.anno}/{str(row.mes + 3*(row.trimestre-1)).zfill(2)}', axis=1)\n",
    "\n",
    "# Organizar el dataframe\n",
    "lista_columnas = ['datetime', 'id_operador', 'operador', 'id_departamento', 'departamento', 'id_municipio', 'municipio', 'suscriptores', 'entry_id']\n",
    "df_tv_sucrp = df_tv_sucrp[lista_columnas]\n",
    "\n",
    "# Eliminar entradas que no tienen datos por departamento\n",
    "df_tv_sucrp = df_tv_sucrp.dropna(subset=['departamento', 'suscriptores'])\n",
    "\n",
    "# Eliminar entradas con suscriptores = 0\n",
    "df_tv_sucrp = df_tv_sucrp[df_tv_sucrp.suscriptores != 0]\n",
    "df_tv_sucrp.reset_index(drop=True, inplace=True)\n",
    "\n",
    "# Lista de los años / meses\n",
    "datetime_list = df_tv_sucrp.datetime.unique()\n",
    "#Lista departamentos\n",
    "dpto_list = df_tv_sucrp.departamento.unique()\n",
    "# Lista municipios\n",
    "mpio_list = df_tv_sucrp.municipio.unique()"
   ],
   "metadata": {
    "collapsed": false,
    "pycharm": {
     "name": "#%%\n"
    }
   }
  },
  {
   "cell_type": "code",
   "execution_count": 307,
   "outputs": [
    {
     "data": {
      "text/plain": "       datetime  id_operador  \\\n0       2013/01    800075305   \n1       2013/01    800132211   \n2       2013/01    800132211   \n3       2013/01    800179562   \n4       2013/01    800193670   \n...         ...          ...   \n507524  2022/03    901453896   \n507525  2022/03    901453896   \n507526  2022/03    901460140   \n507527  2022/03    901491625   \n507528  2022/03    901501135   \n\n                                                 operador  id_departamento  \\\n0       INGENIERIA EN POTENCIA ELECTRICA Y COMUNICACIO...               54   \n1                                   H V TELEVISION S.A.S.               11   \n2                                   H V TELEVISION S.A.S.               25   \n3                         LEGON TELECOMUNICACIONES S.A.S.                5   \n4       PROMOTORA DE TELEVISION. INTERNET Y COMUNICACI...               66   \n...                                                   ...              ...   \n507524                            FIBERLINKNETWORKS S.A.S                5   \n507525                            FIBERLINKNETWORKS S.A.S               86   \n507526                 DIGI COMUNICACIONES TV. NET S.A.S.               13   \n507527                       VITEL COMUNICACIONES NET SAS               68   \n507528                                  TUNET-WORK S.A.S.               54   \n\n              departamento  id_municipio        municipio  suscriptores  \\\n0       NORTE DE SANTANDER         54498            OCAÑA          1452   \n1              BOGOTÁ D.C.         11001     BOGOTÁ, D.C.          7664   \n2             CUNDINAMARCA         25754           SOACHA         27790   \n3                ANTIOQUIA          5154         CAUCASIA           365   \n4                RISARALDA         66088  BELÉN DE UMBRÍA          1591   \n...                    ...           ...              ...           ...   \n507524           ANTIOQUIA          5736          SEGOVIA           903   \n507525            PUTUMAYO         86568      PUERTO ASÍS           135   \n507526             BOLÍVAR         13650     SAN FERNANDO            49   \n507527           SANTANDER         68276    FLORIDABLANCA           142   \n507528  NORTE DE SANTANDER         54405       LOS PATIOS           115   \n\n        entry_id  \n0           1705  \n1           1706  \n2           1708  \n3           1709  \n4           1710  \n...          ...  \n507524    546737  \n507525    546738  \n507526    546739  \n507527    546740  \n507528    546741  \n\n[507529 rows x 9 columns]",
      "text/html": "<div>\n<style scoped>\n    .dataframe tbody tr th:only-of-type {\n        vertical-align: middle;\n    }\n\n    .dataframe tbody tr th {\n        vertical-align: top;\n    }\n\n    .dataframe thead th {\n        text-align: right;\n    }\n</style>\n<table border=\"1\" class=\"dataframe\">\n  <thead>\n    <tr style=\"text-align: right;\">\n      <th></th>\n      <th>datetime</th>\n      <th>id_operador</th>\n      <th>operador</th>\n      <th>id_departamento</th>\n      <th>departamento</th>\n      <th>id_municipio</th>\n      <th>municipio</th>\n      <th>suscriptores</th>\n      <th>entry_id</th>\n    </tr>\n  </thead>\n  <tbody>\n    <tr>\n      <th>0</th>\n      <td>2013/01</td>\n      <td>800075305</td>\n      <td>INGENIERIA EN POTENCIA ELECTRICA Y COMUNICACIO...</td>\n      <td>54</td>\n      <td>NORTE DE SANTANDER</td>\n      <td>54498</td>\n      <td>OCAÑA</td>\n      <td>1452</td>\n      <td>1705</td>\n    </tr>\n    <tr>\n      <th>1</th>\n      <td>2013/01</td>\n      <td>800132211</td>\n      <td>H V TELEVISION S.A.S.</td>\n      <td>11</td>\n      <td>BOGOTÁ D.C.</td>\n      <td>11001</td>\n      <td>BOGOTÁ, D.C.</td>\n      <td>7664</td>\n      <td>1706</td>\n    </tr>\n    <tr>\n      <th>2</th>\n      <td>2013/01</td>\n      <td>800132211</td>\n      <td>H V TELEVISION S.A.S.</td>\n      <td>25</td>\n      <td>CUNDINAMARCA</td>\n      <td>25754</td>\n      <td>SOACHA</td>\n      <td>27790</td>\n      <td>1708</td>\n    </tr>\n    <tr>\n      <th>3</th>\n      <td>2013/01</td>\n      <td>800179562</td>\n      <td>LEGON TELECOMUNICACIONES S.A.S.</td>\n      <td>5</td>\n      <td>ANTIOQUIA</td>\n      <td>5154</td>\n      <td>CAUCASIA</td>\n      <td>365</td>\n      <td>1709</td>\n    </tr>\n    <tr>\n      <th>4</th>\n      <td>2013/01</td>\n      <td>800193670</td>\n      <td>PROMOTORA DE TELEVISION. INTERNET Y COMUNICACI...</td>\n      <td>66</td>\n      <td>RISARALDA</td>\n      <td>66088</td>\n      <td>BELÉN DE UMBRÍA</td>\n      <td>1591</td>\n      <td>1710</td>\n    </tr>\n    <tr>\n      <th>...</th>\n      <td>...</td>\n      <td>...</td>\n      <td>...</td>\n      <td>...</td>\n      <td>...</td>\n      <td>...</td>\n      <td>...</td>\n      <td>...</td>\n      <td>...</td>\n    </tr>\n    <tr>\n      <th>507524</th>\n      <td>2022/03</td>\n      <td>901453896</td>\n      <td>FIBERLINKNETWORKS S.A.S</td>\n      <td>5</td>\n      <td>ANTIOQUIA</td>\n      <td>5736</td>\n      <td>SEGOVIA</td>\n      <td>903</td>\n      <td>546737</td>\n    </tr>\n    <tr>\n      <th>507525</th>\n      <td>2022/03</td>\n      <td>901453896</td>\n      <td>FIBERLINKNETWORKS S.A.S</td>\n      <td>86</td>\n      <td>PUTUMAYO</td>\n      <td>86568</td>\n      <td>PUERTO ASÍS</td>\n      <td>135</td>\n      <td>546738</td>\n    </tr>\n    <tr>\n      <th>507526</th>\n      <td>2022/03</td>\n      <td>901460140</td>\n      <td>DIGI COMUNICACIONES TV. NET S.A.S.</td>\n      <td>13</td>\n      <td>BOLÍVAR</td>\n      <td>13650</td>\n      <td>SAN FERNANDO</td>\n      <td>49</td>\n      <td>546739</td>\n    </tr>\n    <tr>\n      <th>507527</th>\n      <td>2022/03</td>\n      <td>901491625</td>\n      <td>VITEL COMUNICACIONES NET SAS</td>\n      <td>68</td>\n      <td>SANTANDER</td>\n      <td>68276</td>\n      <td>FLORIDABLANCA</td>\n      <td>142</td>\n      <td>546740</td>\n    </tr>\n    <tr>\n      <th>507528</th>\n      <td>2022/03</td>\n      <td>901501135</td>\n      <td>TUNET-WORK S.A.S.</td>\n      <td>54</td>\n      <td>NORTE DE SANTANDER</td>\n      <td>54405</td>\n      <td>LOS PATIOS</td>\n      <td>115</td>\n      <td>546741</td>\n    </tr>\n  </tbody>\n</table>\n<p>507529 rows × 9 columns</p>\n</div>"
     },
     "execution_count": 307,
     "metadata": {},
     "output_type": "execute_result"
    }
   ],
   "source": [
    "df_tv_sucrp"
   ],
   "metadata": {
    "collapsed": false,
    "pycharm": {
     "name": "#%%\n"
    }
   }
  },
  {
   "cell_type": "markdown",
   "source": [
    "Ahora se extrae la lista de los municipios y departamentos junto con los id de cada uno"
   ],
   "metadata": {
    "collapsed": false,
    "pycharm": {
     "name": "#%% md\n"
    }
   }
  },
  {
   "cell_type": "code",
   "execution_count": 285,
   "outputs": [
    {
     "data": {
      "text/plain": "      id_departamento departamento  id_municipio       municipio\n0                   5    ANTIOQUIA          5001        MEDELLÍN\n1                   5    ANTIOQUIA          5002       ABEJORRAL\n2                   5    ANTIOQUIA          5004        ABRIAQUÍ\n3                   5    ANTIOQUIA          5021      ALEJANDRÍA\n4                   5    ANTIOQUIA          5030           AMAGÁ\n...               ...          ...           ...             ...\n1117               99      VICHADA         99001  PUERTO CARREÑO\n1118               99      VICHADA         99524    LA PRIMAVERA\n1119               99      VICHADA         99624   SANTA ROSALÍA\n1120               99      VICHADA         99773        CUMARIBO\n1121               13      BOLÍVAR         99999             NaN\n\n[1122 rows x 4 columns]",
      "text/html": "<div>\n<style scoped>\n    .dataframe tbody tr th:only-of-type {\n        vertical-align: middle;\n    }\n\n    .dataframe tbody tr th {\n        vertical-align: top;\n    }\n\n    .dataframe thead th {\n        text-align: right;\n    }\n</style>\n<table border=\"1\" class=\"dataframe\">\n  <thead>\n    <tr style=\"text-align: right;\">\n      <th></th>\n      <th>id_departamento</th>\n      <th>departamento</th>\n      <th>id_municipio</th>\n      <th>municipio</th>\n    </tr>\n  </thead>\n  <tbody>\n    <tr>\n      <th>0</th>\n      <td>5</td>\n      <td>ANTIOQUIA</td>\n      <td>5001</td>\n      <td>MEDELLÍN</td>\n    </tr>\n    <tr>\n      <th>1</th>\n      <td>5</td>\n      <td>ANTIOQUIA</td>\n      <td>5002</td>\n      <td>ABEJORRAL</td>\n    </tr>\n    <tr>\n      <th>2</th>\n      <td>5</td>\n      <td>ANTIOQUIA</td>\n      <td>5004</td>\n      <td>ABRIAQUÍ</td>\n    </tr>\n    <tr>\n      <th>3</th>\n      <td>5</td>\n      <td>ANTIOQUIA</td>\n      <td>5021</td>\n      <td>ALEJANDRÍA</td>\n    </tr>\n    <tr>\n      <th>4</th>\n      <td>5</td>\n      <td>ANTIOQUIA</td>\n      <td>5030</td>\n      <td>AMAGÁ</td>\n    </tr>\n    <tr>\n      <th>...</th>\n      <td>...</td>\n      <td>...</td>\n      <td>...</td>\n      <td>...</td>\n    </tr>\n    <tr>\n      <th>1117</th>\n      <td>99</td>\n      <td>VICHADA</td>\n      <td>99001</td>\n      <td>PUERTO CARREÑO</td>\n    </tr>\n    <tr>\n      <th>1118</th>\n      <td>99</td>\n      <td>VICHADA</td>\n      <td>99524</td>\n      <td>LA PRIMAVERA</td>\n    </tr>\n    <tr>\n      <th>1119</th>\n      <td>99</td>\n      <td>VICHADA</td>\n      <td>99624</td>\n      <td>SANTA ROSALÍA</td>\n    </tr>\n    <tr>\n      <th>1120</th>\n      <td>99</td>\n      <td>VICHADA</td>\n      <td>99773</td>\n      <td>CUMARIBO</td>\n    </tr>\n    <tr>\n      <th>1121</th>\n      <td>13</td>\n      <td>BOLÍVAR</td>\n      <td>99999</td>\n      <td>NaN</td>\n    </tr>\n  </tbody>\n</table>\n<p>1122 rows × 4 columns</p>\n</div>"
     },
     "execution_count": 285,
     "metadata": {},
     "output_type": "execute_result"
    }
   ],
   "source": [
    "# Lista de municipios y departamentos con códigos, se necesita para más adelante\n",
    "lista_dpto_mpio = df_tv_sucrp[['id_departamento', 'departamento', 'id_municipio', 'municipio']].drop_duplicates().sort_values(by=['id_municipio'])\n",
    "lista_dpto_mpio.reset_index(drop=True, inplace=True)\n",
    "lista_dpto_mpio"
   ],
   "metadata": {
    "collapsed": false,
    "pycharm": {
     "name": "#%%\n"
    }
   }
  },
  {
   "cell_type": "markdown",
   "source": [
    "# Suscriptores por municipio"
   ],
   "metadata": {
    "collapsed": false,
    "pycharm": {
     "name": "#%% md\n"
    }
   }
  },
  {
   "cell_type": "markdown",
   "source": [
    "## Suscriptores por municipio con operador"
   ],
   "metadata": {
    "collapsed": false,
    "pycharm": {
     "name": "#%% md\n"
    }
   }
  },
  {
   "cell_type": "code",
   "execution_count": 312,
   "outputs": [],
   "source": [
    "lista_dpto_mpio_operador= df_tv_sucrp.groupby(['datetime', 'id_departamento', 'departamento', 'id_municipio', 'municipio', 'operador'])['suscriptores'].sum()\n",
    "lista_dpto_mpio_operador.to_csv('./bases_datos/suscriptores_tv_mpio_operador.csv')\n",
    "lista_dpto_mpio_operador = pd.read_csv('./bases_datos/suscriptores_tv_mpio_operador.csv', index_col=0)\n",
    "lista_dpto_mpio_operador = lista_dpto_mpio_operador.sort_values(by=['datetime', 'departamento','municipio', 'suscriptores'], ascending=[True, True, True, False])\n",
    "# Se guarda la vase de datos de suscriptores por municipio por operador\n",
    "lista_dpto_mpio_operador.to_csv('./bases_datos/suscriptores_tv_mpio_operador.csv')"
   ],
   "metadata": {
    "collapsed": false,
    "pycharm": {
     "name": "#%%\n"
    }
   }
  },
  {
   "cell_type": "code",
   "execution_count": 313,
   "outputs": [
    {
     "data": {
      "text/plain": "       datetime  id_departamento departamento  id_municipio       municipio  \\\n0       2013/01               91     AMAZONAS         91263      EL ENCANTO   \n1       2013/01               91     AMAZONAS         91405     LA CHORRERA   \n2       2013/01               91     AMAZONAS         91407      LA PEDRERA   \n3       2013/01               91     AMAZONAS         91001         LETICIA   \n4       2013/01               91     AMAZONAS         91001         LETICIA   \n...         ...              ...          ...           ...             ...   \n362114  2022/03               99      VICHADA         99001  PUERTO CARREÑO   \n362115  2022/03               99      VICHADA         99001  PUERTO CARREÑO   \n362116  2022/03               99      VICHADA         99001  PUERTO CARREÑO   \n362117  2022/03               99      VICHADA         99624   SANTA ROSALÍA   \n362118  2022/03               99      VICHADA         99624   SANTA ROSALÍA   \n\n                                       operador  suscriptores  \n0                         DIRECTV COLOMBIA LTDA             3  \n1                         DIRECTV COLOMBIA LTDA             9  \n2                         DIRECTV COLOMBIA LTDA             2  \n3                          TELMEX COLOMBIA S.A.          2475  \n4                         DIRECTV COLOMBIA LTDA          1323  \n...                                         ...           ...  \n362114                    DIRECTV COLOMBIA LTDA          1632  \n362115      COMUNICACION CELULAR S A COMCEL S A           535  \n362116  COLOMBIA TELECOMUNICACIONES S.A. E.S.P.           146  \n362117                    DIRECTV COLOMBIA LTDA           122  \n362118  COLOMBIA TELECOMUNICACIONES S.A. E.S.P.             1  \n\n[362119 rows x 7 columns]",
      "text/html": "<div>\n<style scoped>\n    .dataframe tbody tr th:only-of-type {\n        vertical-align: middle;\n    }\n\n    .dataframe tbody tr th {\n        vertical-align: top;\n    }\n\n    .dataframe thead th {\n        text-align: right;\n    }\n</style>\n<table border=\"1\" class=\"dataframe\">\n  <thead>\n    <tr style=\"text-align: right;\">\n      <th></th>\n      <th>datetime</th>\n      <th>id_departamento</th>\n      <th>departamento</th>\n      <th>id_municipio</th>\n      <th>municipio</th>\n      <th>operador</th>\n      <th>suscriptores</th>\n    </tr>\n  </thead>\n  <tbody>\n    <tr>\n      <th>0</th>\n      <td>2013/01</td>\n      <td>91</td>\n      <td>AMAZONAS</td>\n      <td>91263</td>\n      <td>EL ENCANTO</td>\n      <td>DIRECTV COLOMBIA LTDA</td>\n      <td>3</td>\n    </tr>\n    <tr>\n      <th>1</th>\n      <td>2013/01</td>\n      <td>91</td>\n      <td>AMAZONAS</td>\n      <td>91405</td>\n      <td>LA CHORRERA</td>\n      <td>DIRECTV COLOMBIA LTDA</td>\n      <td>9</td>\n    </tr>\n    <tr>\n      <th>2</th>\n      <td>2013/01</td>\n      <td>91</td>\n      <td>AMAZONAS</td>\n      <td>91407</td>\n      <td>LA PEDRERA</td>\n      <td>DIRECTV COLOMBIA LTDA</td>\n      <td>2</td>\n    </tr>\n    <tr>\n      <th>3</th>\n      <td>2013/01</td>\n      <td>91</td>\n      <td>AMAZONAS</td>\n      <td>91001</td>\n      <td>LETICIA</td>\n      <td>TELMEX COLOMBIA S.A.</td>\n      <td>2475</td>\n    </tr>\n    <tr>\n      <th>4</th>\n      <td>2013/01</td>\n      <td>91</td>\n      <td>AMAZONAS</td>\n      <td>91001</td>\n      <td>LETICIA</td>\n      <td>DIRECTV COLOMBIA LTDA</td>\n      <td>1323</td>\n    </tr>\n    <tr>\n      <th>...</th>\n      <td>...</td>\n      <td>...</td>\n      <td>...</td>\n      <td>...</td>\n      <td>...</td>\n      <td>...</td>\n      <td>...</td>\n    </tr>\n    <tr>\n      <th>362114</th>\n      <td>2022/03</td>\n      <td>99</td>\n      <td>VICHADA</td>\n      <td>99001</td>\n      <td>PUERTO CARREÑO</td>\n      <td>DIRECTV COLOMBIA LTDA</td>\n      <td>1632</td>\n    </tr>\n    <tr>\n      <th>362115</th>\n      <td>2022/03</td>\n      <td>99</td>\n      <td>VICHADA</td>\n      <td>99001</td>\n      <td>PUERTO CARREÑO</td>\n      <td>COMUNICACION CELULAR S A COMCEL S A</td>\n      <td>535</td>\n    </tr>\n    <tr>\n      <th>362116</th>\n      <td>2022/03</td>\n      <td>99</td>\n      <td>VICHADA</td>\n      <td>99001</td>\n      <td>PUERTO CARREÑO</td>\n      <td>COLOMBIA TELECOMUNICACIONES S.A. E.S.P.</td>\n      <td>146</td>\n    </tr>\n    <tr>\n      <th>362117</th>\n      <td>2022/03</td>\n      <td>99</td>\n      <td>VICHADA</td>\n      <td>99624</td>\n      <td>SANTA ROSALÍA</td>\n      <td>DIRECTV COLOMBIA LTDA</td>\n      <td>122</td>\n    </tr>\n    <tr>\n      <th>362118</th>\n      <td>2022/03</td>\n      <td>99</td>\n      <td>VICHADA</td>\n      <td>99624</td>\n      <td>SANTA ROSALÍA</td>\n      <td>COLOMBIA TELECOMUNICACIONES S.A. E.S.P.</td>\n      <td>1</td>\n    </tr>\n  </tbody>\n</table>\n<p>362119 rows × 7 columns</p>\n</div>"
     },
     "execution_count": 313,
     "metadata": {},
     "output_type": "execute_result"
    }
   ],
   "source": [
    "lista_dpto_mpio_operador = pd.read_csv('./bases_datos/suscriptores_tv_mpio_operador.csv')\n",
    "lista_dpto_mpio_operador"
   ],
   "metadata": {
    "collapsed": false,
    "pycharm": {
     "name": "#%%\n"
    }
   }
  },
  {
   "cell_type": "markdown",
   "source": [
    "## Suscriptores por municipio sin operador"
   ],
   "metadata": {
    "collapsed": false,
    "pycharm": {
     "name": "#%% md\n"
    }
   }
  },
  {
   "cell_type": "code",
   "execution_count": 320,
   "outputs": [],
   "source": [
    "df_tv_sucrp_mpio= df_tv_sucrp.groupby(['datetime', 'id_departamento', 'departamento', 'id_municipio', 'municipio'])['suscriptores'].sum()\n",
    "df_tv_sucrp_mpio.to_csv('./bases_datos/suscriptores_tv_mpio.csv')\n",
    "df_tv_sucrp_mpio = pd.read_csv('./bases_datos/suscriptores_tv_mpio.csv', index_col=0)\n",
    "df_tv_sucrp_mpio = df_tv_sucrp_mpio.sort_values(by=['datetime', 'suscriptores'], ascending=[True, False])\n",
    "# Se guarda la vase de datos de suscriptores por municipio por operador\n",
    "df_tv_sucrp_mpio.to_csv('./bases_datos/suscriptores_tv_mpio.csv')"
   ],
   "metadata": {
    "collapsed": false,
    "pycharm": {
     "name": "#%%\n"
    }
   }
  },
  {
   "cell_type": "code",
   "execution_count": 322,
   "outputs": [
    {
     "data": {
      "text/plain": "       datetime  id_departamento     departamento  id_municipio  \\\n0       2013/01               11      BOGOTÁ D.C.         11001   \n1       2013/01                5        ANTIOQUIA          5001   \n2       2013/01               76  VALLE DEL CAUCA         76001   \n3       2013/01                8        ATLÁNTICO          8001   \n4       2013/01               13          BOLÍVAR         13001   \n...         ...              ...              ...           ...   \n122648  2022/03               97           VAUPÉS         97889   \n122649  2022/03               52           NARIÑO         52565   \n122650  2022/03               94          GUAINÍA         94887   \n122651  2022/03               91         AMAZONAS         91430   \n122652  2022/03               97           VAUPÉS         97511   \n\n                  municipio  suscriptores  \n0              BOGOTÁ, D.C.       1049966  \n1                  MEDELLÍN        429656  \n2                      CALI        317193  \n3              BARRANQUILLA        136635  \n4       CARTAGENA DE INDIAS        105065  \n...                     ...           ...  \n122648             YAVARATÉ             4  \n122649          PROVIDENCIA             3  \n122650            PANA PANA             2  \n122651          LA VICTORIA             1  \n122652                PACOA             1  \n\n[122653 rows x 6 columns]",
      "text/html": "<div>\n<style scoped>\n    .dataframe tbody tr th:only-of-type {\n        vertical-align: middle;\n    }\n\n    .dataframe tbody tr th {\n        vertical-align: top;\n    }\n\n    .dataframe thead th {\n        text-align: right;\n    }\n</style>\n<table border=\"1\" class=\"dataframe\">\n  <thead>\n    <tr style=\"text-align: right;\">\n      <th></th>\n      <th>datetime</th>\n      <th>id_departamento</th>\n      <th>departamento</th>\n      <th>id_municipio</th>\n      <th>municipio</th>\n      <th>suscriptores</th>\n    </tr>\n  </thead>\n  <tbody>\n    <tr>\n      <th>0</th>\n      <td>2013/01</td>\n      <td>11</td>\n      <td>BOGOTÁ D.C.</td>\n      <td>11001</td>\n      <td>BOGOTÁ, D.C.</td>\n      <td>1049966</td>\n    </tr>\n    <tr>\n      <th>1</th>\n      <td>2013/01</td>\n      <td>5</td>\n      <td>ANTIOQUIA</td>\n      <td>5001</td>\n      <td>MEDELLÍN</td>\n      <td>429656</td>\n    </tr>\n    <tr>\n      <th>2</th>\n      <td>2013/01</td>\n      <td>76</td>\n      <td>VALLE DEL CAUCA</td>\n      <td>76001</td>\n      <td>CALI</td>\n      <td>317193</td>\n    </tr>\n    <tr>\n      <th>3</th>\n      <td>2013/01</td>\n      <td>8</td>\n      <td>ATLÁNTICO</td>\n      <td>8001</td>\n      <td>BARRANQUILLA</td>\n      <td>136635</td>\n    </tr>\n    <tr>\n      <th>4</th>\n      <td>2013/01</td>\n      <td>13</td>\n      <td>BOLÍVAR</td>\n      <td>13001</td>\n      <td>CARTAGENA DE INDIAS</td>\n      <td>105065</td>\n    </tr>\n    <tr>\n      <th>...</th>\n      <td>...</td>\n      <td>...</td>\n      <td>...</td>\n      <td>...</td>\n      <td>...</td>\n      <td>...</td>\n    </tr>\n    <tr>\n      <th>122648</th>\n      <td>2022/03</td>\n      <td>97</td>\n      <td>VAUPÉS</td>\n      <td>97889</td>\n      <td>YAVARATÉ</td>\n      <td>4</td>\n    </tr>\n    <tr>\n      <th>122649</th>\n      <td>2022/03</td>\n      <td>52</td>\n      <td>NARIÑO</td>\n      <td>52565</td>\n      <td>PROVIDENCIA</td>\n      <td>3</td>\n    </tr>\n    <tr>\n      <th>122650</th>\n      <td>2022/03</td>\n      <td>94</td>\n      <td>GUAINÍA</td>\n      <td>94887</td>\n      <td>PANA PANA</td>\n      <td>2</td>\n    </tr>\n    <tr>\n      <th>122651</th>\n      <td>2022/03</td>\n      <td>91</td>\n      <td>AMAZONAS</td>\n      <td>91430</td>\n      <td>LA VICTORIA</td>\n      <td>1</td>\n    </tr>\n    <tr>\n      <th>122652</th>\n      <td>2022/03</td>\n      <td>97</td>\n      <td>VAUPÉS</td>\n      <td>97511</td>\n      <td>PACOA</td>\n      <td>1</td>\n    </tr>\n  </tbody>\n</table>\n<p>122653 rows × 6 columns</p>\n</div>"
     },
     "execution_count": 322,
     "metadata": {},
     "output_type": "execute_result"
    }
   ],
   "source": [
    "df_tv_sucrp_dpto = pd.read_csv('./bases_datos/suscriptores_tv_mpio.csv')\n",
    "df_tv_sucrp_dpto"
   ],
   "metadata": {
    "collapsed": false,
    "pycharm": {
     "name": "#%%\n"
    }
   }
  },
  {
   "cell_type": "markdown",
   "source": [
    "Organizar los datos por municipio"
   ],
   "metadata": {
    "collapsed": false,
    "pycharm": {
     "name": "#%% md\n"
    }
   }
  },
  {
   "cell_type": "code",
   "execution_count": 323,
   "outputs": [
    {
     "data": {
      "text/plain": "      departamento       municipio 2013/01 2013/02 2013/03 2013/04 2013/05  \\\n5001     ANTIOQUIA        MEDELLÍN  429656  434842  437496  440099  441941   \n5002     ANTIOQUIA       ABEJORRAL     121     122     139     137     140   \n5004     ANTIOQUIA        ABRIAQUÍ      31      13      12      10      10   \n5021     ANTIOQUIA      ALEJANDRÍA      58      54      60      66      66   \n5030     ANTIOQUIA           AMAGÁ    1610    1721    1801    1758    1692   \n...            ...             ...     ...     ...     ...     ...     ...   \n97889       VAUPÉS        YAVARATÉ       1       1       1       1       1   \n99001      VICHADA  PUERTO CARREÑO    1823    1750    1765    1794    1811   \n99524      VICHADA    LA PRIMAVERA     151     162     170     174     186   \n99624      VICHADA   SANTA ROSALÍA     115     117     122     125     128   \n99773      VICHADA        CUMARIBO     362     357     338     337     343   \n\n      2013/06 2013/07 2013/08  ... 2021/06 2021/07 2021/08 2021/09 2021/10  \\\n5001   442715  441317  442757  ...  564524  566002  568814  572539  578213   \n5002      156     150     160  ...     444     452     464     467     503   \n5004       19      23      24  ...     354     342     363     362     382   \n5021       65      67      69  ...     147     141     135     128     127   \n5030     1589    1604    1619  ...    1945    1954    1261    1238    1768   \n...       ...     ...     ...  ...     ...     ...     ...     ...     ...   \n97889     NaN     NaN     NaN  ...       4       3       4       3       1   \n99001    1814    1867    1884  ...    2347    2307    2270    2278    2249   \n99524     188     193     200  ...     367     358     374     380     370   \n99624     120     126     130  ...     127     128     131     131     125   \n99773     329     350     345  ...     826     772     730     696     624   \n\n      2021/11 2021/12 2022/01 2022/02 2022/03  \n5001   585230  587439  594804  599744  603056  \n5002      521     517     538     529     540  \n5004      417     393     405     384     369  \n5021      128     165     142     142     136  \n5030     1717    1684    1651    1638    1615  \n...       ...     ...     ...     ...     ...  \n97889       2       4       3       4       4  \n99001    2310    2281    2291    2262    2313  \n99524     389     402     453     427     461  \n99624     131     122     127     124     123  \n99773     686     738     724     706     823  \n\n[1121 rows x 113 columns]",
      "text/html": "<div>\n<style scoped>\n    .dataframe tbody tr th:only-of-type {\n        vertical-align: middle;\n    }\n\n    .dataframe tbody tr th {\n        vertical-align: top;\n    }\n\n    .dataframe thead th {\n        text-align: right;\n    }\n</style>\n<table border=\"1\" class=\"dataframe\">\n  <thead>\n    <tr style=\"text-align: right;\">\n      <th></th>\n      <th>departamento</th>\n      <th>municipio</th>\n      <th>2013/01</th>\n      <th>2013/02</th>\n      <th>2013/03</th>\n      <th>2013/04</th>\n      <th>2013/05</th>\n      <th>2013/06</th>\n      <th>2013/07</th>\n      <th>2013/08</th>\n      <th>...</th>\n      <th>2021/06</th>\n      <th>2021/07</th>\n      <th>2021/08</th>\n      <th>2021/09</th>\n      <th>2021/10</th>\n      <th>2021/11</th>\n      <th>2021/12</th>\n      <th>2022/01</th>\n      <th>2022/02</th>\n      <th>2022/03</th>\n    </tr>\n  </thead>\n  <tbody>\n    <tr>\n      <th>5001</th>\n      <td>ANTIOQUIA</td>\n      <td>MEDELLÍN</td>\n      <td>429656</td>\n      <td>434842</td>\n      <td>437496</td>\n      <td>440099</td>\n      <td>441941</td>\n      <td>442715</td>\n      <td>441317</td>\n      <td>442757</td>\n      <td>...</td>\n      <td>564524</td>\n      <td>566002</td>\n      <td>568814</td>\n      <td>572539</td>\n      <td>578213</td>\n      <td>585230</td>\n      <td>587439</td>\n      <td>594804</td>\n      <td>599744</td>\n      <td>603056</td>\n    </tr>\n    <tr>\n      <th>5002</th>\n      <td>ANTIOQUIA</td>\n      <td>ABEJORRAL</td>\n      <td>121</td>\n      <td>122</td>\n      <td>139</td>\n      <td>137</td>\n      <td>140</td>\n      <td>156</td>\n      <td>150</td>\n      <td>160</td>\n      <td>...</td>\n      <td>444</td>\n      <td>452</td>\n      <td>464</td>\n      <td>467</td>\n      <td>503</td>\n      <td>521</td>\n      <td>517</td>\n      <td>538</td>\n      <td>529</td>\n      <td>540</td>\n    </tr>\n    <tr>\n      <th>5004</th>\n      <td>ANTIOQUIA</td>\n      <td>ABRIAQUÍ</td>\n      <td>31</td>\n      <td>13</td>\n      <td>12</td>\n      <td>10</td>\n      <td>10</td>\n      <td>19</td>\n      <td>23</td>\n      <td>24</td>\n      <td>...</td>\n      <td>354</td>\n      <td>342</td>\n      <td>363</td>\n      <td>362</td>\n      <td>382</td>\n      <td>417</td>\n      <td>393</td>\n      <td>405</td>\n      <td>384</td>\n      <td>369</td>\n    </tr>\n    <tr>\n      <th>5021</th>\n      <td>ANTIOQUIA</td>\n      <td>ALEJANDRÍA</td>\n      <td>58</td>\n      <td>54</td>\n      <td>60</td>\n      <td>66</td>\n      <td>66</td>\n      <td>65</td>\n      <td>67</td>\n      <td>69</td>\n      <td>...</td>\n      <td>147</td>\n      <td>141</td>\n      <td>135</td>\n      <td>128</td>\n      <td>127</td>\n      <td>128</td>\n      <td>165</td>\n      <td>142</td>\n      <td>142</td>\n      <td>136</td>\n    </tr>\n    <tr>\n      <th>5030</th>\n      <td>ANTIOQUIA</td>\n      <td>AMAGÁ</td>\n      <td>1610</td>\n      <td>1721</td>\n      <td>1801</td>\n      <td>1758</td>\n      <td>1692</td>\n      <td>1589</td>\n      <td>1604</td>\n      <td>1619</td>\n      <td>...</td>\n      <td>1945</td>\n      <td>1954</td>\n      <td>1261</td>\n      <td>1238</td>\n      <td>1768</td>\n      <td>1717</td>\n      <td>1684</td>\n      <td>1651</td>\n      <td>1638</td>\n      <td>1615</td>\n    </tr>\n    <tr>\n      <th>...</th>\n      <td>...</td>\n      <td>...</td>\n      <td>...</td>\n      <td>...</td>\n      <td>...</td>\n      <td>...</td>\n      <td>...</td>\n      <td>...</td>\n      <td>...</td>\n      <td>...</td>\n      <td>...</td>\n      <td>...</td>\n      <td>...</td>\n      <td>...</td>\n      <td>...</td>\n      <td>...</td>\n      <td>...</td>\n      <td>...</td>\n      <td>...</td>\n      <td>...</td>\n      <td>...</td>\n    </tr>\n    <tr>\n      <th>97889</th>\n      <td>VAUPÉS</td>\n      <td>YAVARATÉ</td>\n      <td>1</td>\n      <td>1</td>\n      <td>1</td>\n      <td>1</td>\n      <td>1</td>\n      <td>NaN</td>\n      <td>NaN</td>\n      <td>NaN</td>\n      <td>...</td>\n      <td>4</td>\n      <td>3</td>\n      <td>4</td>\n      <td>3</td>\n      <td>1</td>\n      <td>2</td>\n      <td>4</td>\n      <td>3</td>\n      <td>4</td>\n      <td>4</td>\n    </tr>\n    <tr>\n      <th>99001</th>\n      <td>VICHADA</td>\n      <td>PUERTO CARREÑO</td>\n      <td>1823</td>\n      <td>1750</td>\n      <td>1765</td>\n      <td>1794</td>\n      <td>1811</td>\n      <td>1814</td>\n      <td>1867</td>\n      <td>1884</td>\n      <td>...</td>\n      <td>2347</td>\n      <td>2307</td>\n      <td>2270</td>\n      <td>2278</td>\n      <td>2249</td>\n      <td>2310</td>\n      <td>2281</td>\n      <td>2291</td>\n      <td>2262</td>\n      <td>2313</td>\n    </tr>\n    <tr>\n      <th>99524</th>\n      <td>VICHADA</td>\n      <td>LA PRIMAVERA</td>\n      <td>151</td>\n      <td>162</td>\n      <td>170</td>\n      <td>174</td>\n      <td>186</td>\n      <td>188</td>\n      <td>193</td>\n      <td>200</td>\n      <td>...</td>\n      <td>367</td>\n      <td>358</td>\n      <td>374</td>\n      <td>380</td>\n      <td>370</td>\n      <td>389</td>\n      <td>402</td>\n      <td>453</td>\n      <td>427</td>\n      <td>461</td>\n    </tr>\n    <tr>\n      <th>99624</th>\n      <td>VICHADA</td>\n      <td>SANTA ROSALÍA</td>\n      <td>115</td>\n      <td>117</td>\n      <td>122</td>\n      <td>125</td>\n      <td>128</td>\n      <td>120</td>\n      <td>126</td>\n      <td>130</td>\n      <td>...</td>\n      <td>127</td>\n      <td>128</td>\n      <td>131</td>\n      <td>131</td>\n      <td>125</td>\n      <td>131</td>\n      <td>122</td>\n      <td>127</td>\n      <td>124</td>\n      <td>123</td>\n    </tr>\n    <tr>\n      <th>99773</th>\n      <td>VICHADA</td>\n      <td>CUMARIBO</td>\n      <td>362</td>\n      <td>357</td>\n      <td>338</td>\n      <td>337</td>\n      <td>343</td>\n      <td>329</td>\n      <td>350</td>\n      <td>345</td>\n      <td>...</td>\n      <td>826</td>\n      <td>772</td>\n      <td>730</td>\n      <td>696</td>\n      <td>624</td>\n      <td>686</td>\n      <td>738</td>\n      <td>724</td>\n      <td>706</td>\n      <td>823</td>\n    </tr>\n  </tbody>\n</table>\n<p>1121 rows × 113 columns</p>\n</div>"
     },
     "execution_count": 323,
     "metadata": {},
     "output_type": "execute_result"
    }
   ],
   "source": [
    "df = pd.DataFrame(columns=datetime_list)\n",
    "for index, municipio_info in lista_dpto_mpio.iterrows():\n",
    "    df_dpto_temp = df_tv_sucrp_dpto[df_tv_sucrp_dpto['id_municipio'] == municipio_info['id_municipio']].drop(['id_departamento', 'departamento','id_municipio', 'municipio'], axis=1)\n",
    "    df_dpto_temp = df_dpto_temp.rename(columns = {'suscriptores': municipio_info['id_municipio']}).set_index(['datetime']).T\n",
    "    df_dpto_temp['municipio'] = municipio_info['municipio']\n",
    "    df_dpto_temp['departamento'] = municipio_info['departamento']\n",
    "    df = pd.concat([df, df_dpto_temp])\n",
    "\n",
    "new_columns = list(df.columns)[:-2]\n",
    "new_columns.insert(0, 'departamento')\n",
    "new_columns.insert(1, 'municipio')\n",
    "df = df[new_columns]\n",
    "df.dropna(subset=['municipio'], inplace=True)\n",
    "df.to_csv('./bases_datos/suscriptores_tv_mpio_2.csv')\n",
    "df"
   ],
   "metadata": {
    "collapsed": false,
    "pycharm": {
     "name": "#%%\n"
    }
   }
  },
  {
   "cell_type": "markdown",
   "source": [
    "## Cruce de los datos de suscripción con los de vivienda (DANE)"
   ],
   "metadata": {
    "collapsed": false,
    "pycharm": {
     "name": "#%% md\n"
    }
   }
  },
  {
   "cell_type": "code",
   "execution_count": 324,
   "outputs": [
    {
     "data": {
      "text/plain": "               depto            mpio      2013      2014      2015      2016  \\\nmpio_id_x                                                                      \n5001.0     Antioquia        Medellín  731307.0  757919.0  785770.0  815365.0   \n5002.0     Antioquia       Abejorral    8743.0    8944.0    9052.0    9171.0   \n5004.0     Antioquia        Abriaquí    1105.0    1122.0    1142.0    1166.0   \n5021.0     Antioquia      Alejandría    2123.0    2205.0    2291.0    2322.0   \n5030.0     Antioquia           Amagá   10302.0   10711.0   11138.0   11405.0   \n...              ...             ...       ...       ...       ...       ...   \n97889.0       Vaupés   Yavaraté (CD)     107.0     113.0     117.0     120.0   \n99001.0      Vichada  Puerto Carreño    6088.0    6310.0    6557.0    6809.0   \n99524.0      Vichada    La Primavera    2776.0    2920.0    3071.0    3223.0   \n99624.0      Vichada   Santa Rosalía     867.0     934.0    1001.0    1051.0   \n99773.0      Vichada        Cumaribo   12394.0   13041.0   13726.0   14493.0   \n\n               2017      2018      2019      2020  ...       2026       2027  \\\nmpio_id_x                                          ...                         \n5001.0     847631.0  875182.0  912028.0  947700.0  ...  1159832.0  1196061.0   \n5002.0       9323.0    9363.0    9478.0    9607.0  ...    11256.0    11543.0   \n5004.0       1193.0    1237.0    1255.0    1273.0  ...     1542.0     1579.0   \n5021.0       2371.0    2520.0    2582.0    2642.0  ...     3069.0     3156.0   \n5030.0      11672.0   12046.0   12351.0   12649.0  ...    15038.0    15435.0   \n...             ...       ...       ...       ...  ...        ...        ...   \n97889.0       124.0     188.0     188.0     188.0  ...      194.0      197.0   \n99001.0      7076.0    7414.0    7667.0    7878.0  ...     8957.0     9138.0   \n99524.0      3401.0    3532.0    3649.0    3752.0  ...     4250.0     4375.0   \n99624.0      1118.0    1261.0    1318.0    1370.0  ...     1540.0     1576.0   \n99773.0     15342.0   16286.0   17274.0   18217.0  ...    22828.0    23675.0   \n\n                2028       2029       2030       2031       2032       2033  \\\nmpio_id_x                                                                     \n5001.0     1231192.0  1264978.0  1297160.0  1328247.0  1358721.0  1388597.0   \n5002.0       11833.0    12133.0    12421.0    12711.0    13002.0    13300.0   \n5004.0        1618.0     1655.0     1701.0     1736.0     1782.0     1817.0   \n5021.0        3243.0     3330.0     3406.0     3493.0     3570.0     3645.0   \n5030.0       15830.0    16231.0    16626.0    17032.0    17423.0    17807.0   \n...              ...        ...        ...        ...        ...        ...   \n97889.0        199.0      201.0      213.0      227.0      242.0      258.0   \n99001.0       9301.0     9495.0     9750.0    10003.0    10239.0    10485.0   \n99524.0       4500.0     4623.0     4764.0     4897.0     5033.0     5169.0   \n99624.0       1620.0     1670.0     1719.0     1769.0     1821.0     1866.0   \n99773.0      24580.0    25498.0    26424.0    27398.0    28398.0    29427.0   \n\n                2034       2035  \nmpio_id_x                        \n5001.0     1417922.0  1446673.0  \n5002.0       13597.0    13868.0  \n5004.0        1861.0     1898.0  \n5021.0        3735.0     3810.0  \n5030.0       18192.0    18570.0  \n...              ...        ...  \n97889.0        277.0      297.0  \n99001.0      10729.0    10959.0  \n99524.0       5299.0     5426.0  \n99624.0       1918.0     1966.0  \n99773.0      30477.0    31560.0  \n\n[1122 rows x 25 columns]",
      "text/html": "<div>\n<style scoped>\n    .dataframe tbody tr th:only-of-type {\n        vertical-align: middle;\n    }\n\n    .dataframe tbody tr th {\n        vertical-align: top;\n    }\n\n    .dataframe thead th {\n        text-align: right;\n    }\n</style>\n<table border=\"1\" class=\"dataframe\">\n  <thead>\n    <tr style=\"text-align: right;\">\n      <th></th>\n      <th>depto</th>\n      <th>mpio</th>\n      <th>2013</th>\n      <th>2014</th>\n      <th>2015</th>\n      <th>2016</th>\n      <th>2017</th>\n      <th>2018</th>\n      <th>2019</th>\n      <th>2020</th>\n      <th>...</th>\n      <th>2026</th>\n      <th>2027</th>\n      <th>2028</th>\n      <th>2029</th>\n      <th>2030</th>\n      <th>2031</th>\n      <th>2032</th>\n      <th>2033</th>\n      <th>2034</th>\n      <th>2035</th>\n    </tr>\n    <tr>\n      <th>mpio_id_x</th>\n      <th></th>\n      <th></th>\n      <th></th>\n      <th></th>\n      <th></th>\n      <th></th>\n      <th></th>\n      <th></th>\n      <th></th>\n      <th></th>\n      <th></th>\n      <th></th>\n      <th></th>\n      <th></th>\n      <th></th>\n      <th></th>\n      <th></th>\n      <th></th>\n      <th></th>\n      <th></th>\n      <th></th>\n    </tr>\n  </thead>\n  <tbody>\n    <tr>\n      <th>5001.0</th>\n      <td>Antioquia</td>\n      <td>Medellín</td>\n      <td>731307.0</td>\n      <td>757919.0</td>\n      <td>785770.0</td>\n      <td>815365.0</td>\n      <td>847631.0</td>\n      <td>875182.0</td>\n      <td>912028.0</td>\n      <td>947700.0</td>\n      <td>...</td>\n      <td>1159832.0</td>\n      <td>1196061.0</td>\n      <td>1231192.0</td>\n      <td>1264978.0</td>\n      <td>1297160.0</td>\n      <td>1328247.0</td>\n      <td>1358721.0</td>\n      <td>1388597.0</td>\n      <td>1417922.0</td>\n      <td>1446673.0</td>\n    </tr>\n    <tr>\n      <th>5002.0</th>\n      <td>Antioquia</td>\n      <td>Abejorral</td>\n      <td>8743.0</td>\n      <td>8944.0</td>\n      <td>9052.0</td>\n      <td>9171.0</td>\n      <td>9323.0</td>\n      <td>9363.0</td>\n      <td>9478.0</td>\n      <td>9607.0</td>\n      <td>...</td>\n      <td>11256.0</td>\n      <td>11543.0</td>\n      <td>11833.0</td>\n      <td>12133.0</td>\n      <td>12421.0</td>\n      <td>12711.0</td>\n      <td>13002.0</td>\n      <td>13300.0</td>\n      <td>13597.0</td>\n      <td>13868.0</td>\n    </tr>\n    <tr>\n      <th>5004.0</th>\n      <td>Antioquia</td>\n      <td>Abriaquí</td>\n      <td>1105.0</td>\n      <td>1122.0</td>\n      <td>1142.0</td>\n      <td>1166.0</td>\n      <td>1193.0</td>\n      <td>1237.0</td>\n      <td>1255.0</td>\n      <td>1273.0</td>\n      <td>...</td>\n      <td>1542.0</td>\n      <td>1579.0</td>\n      <td>1618.0</td>\n      <td>1655.0</td>\n      <td>1701.0</td>\n      <td>1736.0</td>\n      <td>1782.0</td>\n      <td>1817.0</td>\n      <td>1861.0</td>\n      <td>1898.0</td>\n    </tr>\n    <tr>\n      <th>5021.0</th>\n      <td>Antioquia</td>\n      <td>Alejandría</td>\n      <td>2123.0</td>\n      <td>2205.0</td>\n      <td>2291.0</td>\n      <td>2322.0</td>\n      <td>2371.0</td>\n      <td>2520.0</td>\n      <td>2582.0</td>\n      <td>2642.0</td>\n      <td>...</td>\n      <td>3069.0</td>\n      <td>3156.0</td>\n      <td>3243.0</td>\n      <td>3330.0</td>\n      <td>3406.0</td>\n      <td>3493.0</td>\n      <td>3570.0</td>\n      <td>3645.0</td>\n      <td>3735.0</td>\n      <td>3810.0</td>\n    </tr>\n    <tr>\n      <th>5030.0</th>\n      <td>Antioquia</td>\n      <td>Amagá</td>\n      <td>10302.0</td>\n      <td>10711.0</td>\n      <td>11138.0</td>\n      <td>11405.0</td>\n      <td>11672.0</td>\n      <td>12046.0</td>\n      <td>12351.0</td>\n      <td>12649.0</td>\n      <td>...</td>\n      <td>15038.0</td>\n      <td>15435.0</td>\n      <td>15830.0</td>\n      <td>16231.0</td>\n      <td>16626.0</td>\n      <td>17032.0</td>\n      <td>17423.0</td>\n      <td>17807.0</td>\n      <td>18192.0</td>\n      <td>18570.0</td>\n    </tr>\n    <tr>\n      <th>...</th>\n      <td>...</td>\n      <td>...</td>\n      <td>...</td>\n      <td>...</td>\n      <td>...</td>\n      <td>...</td>\n      <td>...</td>\n      <td>...</td>\n      <td>...</td>\n      <td>...</td>\n      <td>...</td>\n      <td>...</td>\n      <td>...</td>\n      <td>...</td>\n      <td>...</td>\n      <td>...</td>\n      <td>...</td>\n      <td>...</td>\n      <td>...</td>\n      <td>...</td>\n      <td>...</td>\n    </tr>\n    <tr>\n      <th>97889.0</th>\n      <td>Vaupés</td>\n      <td>Yavaraté (CD)</td>\n      <td>107.0</td>\n      <td>113.0</td>\n      <td>117.0</td>\n      <td>120.0</td>\n      <td>124.0</td>\n      <td>188.0</td>\n      <td>188.0</td>\n      <td>188.0</td>\n      <td>...</td>\n      <td>194.0</td>\n      <td>197.0</td>\n      <td>199.0</td>\n      <td>201.0</td>\n      <td>213.0</td>\n      <td>227.0</td>\n      <td>242.0</td>\n      <td>258.0</td>\n      <td>277.0</td>\n      <td>297.0</td>\n    </tr>\n    <tr>\n      <th>99001.0</th>\n      <td>Vichada</td>\n      <td>Puerto Carreño</td>\n      <td>6088.0</td>\n      <td>6310.0</td>\n      <td>6557.0</td>\n      <td>6809.0</td>\n      <td>7076.0</td>\n      <td>7414.0</td>\n      <td>7667.0</td>\n      <td>7878.0</td>\n      <td>...</td>\n      <td>8957.0</td>\n      <td>9138.0</td>\n      <td>9301.0</td>\n      <td>9495.0</td>\n      <td>9750.0</td>\n      <td>10003.0</td>\n      <td>10239.0</td>\n      <td>10485.0</td>\n      <td>10729.0</td>\n      <td>10959.0</td>\n    </tr>\n    <tr>\n      <th>99524.0</th>\n      <td>Vichada</td>\n      <td>La Primavera</td>\n      <td>2776.0</td>\n      <td>2920.0</td>\n      <td>3071.0</td>\n      <td>3223.0</td>\n      <td>3401.0</td>\n      <td>3532.0</td>\n      <td>3649.0</td>\n      <td>3752.0</td>\n      <td>...</td>\n      <td>4250.0</td>\n      <td>4375.0</td>\n      <td>4500.0</td>\n      <td>4623.0</td>\n      <td>4764.0</td>\n      <td>4897.0</td>\n      <td>5033.0</td>\n      <td>5169.0</td>\n      <td>5299.0</td>\n      <td>5426.0</td>\n    </tr>\n    <tr>\n      <th>99624.0</th>\n      <td>Vichada</td>\n      <td>Santa Rosalía</td>\n      <td>867.0</td>\n      <td>934.0</td>\n      <td>1001.0</td>\n      <td>1051.0</td>\n      <td>1118.0</td>\n      <td>1261.0</td>\n      <td>1318.0</td>\n      <td>1370.0</td>\n      <td>...</td>\n      <td>1540.0</td>\n      <td>1576.0</td>\n      <td>1620.0</td>\n      <td>1670.0</td>\n      <td>1719.0</td>\n      <td>1769.0</td>\n      <td>1821.0</td>\n      <td>1866.0</td>\n      <td>1918.0</td>\n      <td>1966.0</td>\n    </tr>\n    <tr>\n      <th>99773.0</th>\n      <td>Vichada</td>\n      <td>Cumaribo</td>\n      <td>12394.0</td>\n      <td>13041.0</td>\n      <td>13726.0</td>\n      <td>14493.0</td>\n      <td>15342.0</td>\n      <td>16286.0</td>\n      <td>17274.0</td>\n      <td>18217.0</td>\n      <td>...</td>\n      <td>22828.0</td>\n      <td>23675.0</td>\n      <td>24580.0</td>\n      <td>25498.0</td>\n      <td>26424.0</td>\n      <td>27398.0</td>\n      <td>28398.0</td>\n      <td>29427.0</td>\n      <td>30477.0</td>\n      <td>31560.0</td>\n    </tr>\n  </tbody>\n</table>\n<p>1122 rows × 25 columns</p>\n</div>"
     },
     "execution_count": 324,
     "metadata": {},
     "output_type": "execute_result"
    }
   ],
   "source": [
    "df_viv1=pd.read_excel(\"./dane/vivi1.xlsx\",sheet_name=\"esta\")[1:]\n",
    "df_viv2=pd.read_excel(\"./dane/vivi2.xlsx\",sheet_name=\"esta\")[1:]\n",
    "df_viv=df_viv1.merge(df_viv2,on=[\"depto\",\"mpio\",\"tipo\"],how='outer').fillna(0)\n",
    "del df_viv2,df_viv1\n",
    "df_viv = df_viv[df_viv['tipo']=='Total'].drop(['depto_id_x', 'tipo', 'depto_id_y', 'mpio_id_y',\n",
    "                                               2005, 2006, 2007, 2008, 2009, 2010, 2011,\n",
    "                                               2012], axis=1)\n",
    "df_viv.columns = df_viv.columns.astype(str)\n",
    "df_viv.set_index('mpio_id_x', inplace=True)\n",
    "df_viv"
   ],
   "metadata": {
    "collapsed": false,
    "pycharm": {
     "name": "#%%\n"
    }
   }
  },
  {
   "cell_type": "code",
   "execution_count": 325,
   "outputs": [],
   "source": [
    "lista_info = list()\n",
    "for index, row in df.iterrows():\n",
    "    new_row = [row.name,  row['departamento'], row['municipio']]\n",
    "    for date in datetime_list:\n",
    "        new_row.append(round(row[date] / df_viv.loc[index][date[:-3]] * 100, 2))\n",
    "    lista_info.append(new_row)\n",
    "df_tv_suscrip_percent = pd.DataFrame(lista_info, columns=df.columns.insert(0,'municipio_id'))\n",
    "df_tv_suscrip_percent.set_index(['municipio_id'], inplace=True)\n",
    "df_tv_suscrip_percent = df_tv_suscrip_percent.fillna(0)\n",
    "# Guardar los datos\n",
    "df_tv_suscrip_percent.to_csv('./bases_datos/suscriptores_tv_mpio_porcentaje.csv')"
   ],
   "metadata": {
    "collapsed": false,
    "pycharm": {
     "name": "#%%\n"
    }
   }
  },
  {
   "cell_type": "code",
   "execution_count": 326,
   "outputs": [
    {
     "data": {
      "text/plain": "             departamento       municipio  2013/01  2013/02  2013/03  2013/04  \\\nmunicipio_id                                                                    \n5001            ANTIOQUIA        MEDELLÍN    58.75    59.46    59.82    60.18   \n5002            ANTIOQUIA       ABEJORRAL     1.38     1.40     1.59     1.57   \n5004            ANTIOQUIA        ABRIAQUÍ     2.81     1.18     1.09     0.90   \n5021            ANTIOQUIA      ALEJANDRÍA     2.73     2.54     2.83     3.11   \n5030            ANTIOQUIA           AMAGÁ    15.63    16.71    17.48    17.06   \n...                   ...             ...      ...      ...      ...      ...   \n97889              VAUPÉS        YAVARATÉ     0.93     0.93     0.93     0.93   \n99001             VICHADA  PUERTO CARREÑO    29.94    28.75    28.99    29.47   \n99524             VICHADA    LA PRIMAVERA     5.44     5.84     6.12     6.27   \n99624             VICHADA   SANTA ROSALÍA    13.26    13.49    14.07    14.42   \n99773             VICHADA        CUMARIBO     2.92     2.88     2.73     2.72   \n\n              2013/05  2013/06  2013/07  2013/08  ...  2021/06  2021/07  \\\nmunicipio_id                                      ...                     \n5001            60.43    60.54    60.35    60.54  ...    57.57    57.72   \n5002             1.60     1.78     1.72     1.83  ...     4.49     4.57   \n5004             0.90     1.72     2.08     2.17  ...    26.74    25.83   \n5021             3.11     3.06     3.16     3.25  ...     5.41     5.19   \n5030            16.42    15.42    15.57    15.72  ...    14.94    15.01   \n...               ...      ...      ...      ...  ...      ...      ...   \n97889            0.93     0.00     0.00     0.00  ...     2.13     1.60   \n99001           29.75    29.80    30.67    30.95  ...    29.04    28.54   \n99524            6.70     6.77     6.95     7.20  ...     9.59     9.35   \n99624           14.76    13.84    14.53    14.99  ...     9.08     9.15   \n99773            2.77     2.65     2.82     2.78  ...     4.35     4.06   \n\n              2021/08  2021/09  2021/10  2021/11  2021/12  2022/01  2022/02  \\\nmunicipio_id                                                                  \n5001            58.01    58.39    58.96    59.68    59.91    58.64    59.13   \n5002             4.69     4.72     5.08     5.27     5.23     5.31     5.22   \n5004            27.42    27.34    28.85    31.50    29.68    29.48    27.95   \n5021             4.97     4.71     4.67     4.71     6.07     5.10     5.10   \n5030             9.69     9.51    13.58    13.19    12.94    12.29    12.19   \n...               ...      ...      ...      ...      ...      ...      ...   \n97889            2.13     1.60     0.53     1.06     2.13     1.60     2.13   \n99001           28.08    28.18    27.82    28.58    28.22    27.76    27.41   \n99524            9.77     9.93     9.67    10.16    10.50    11.63    10.97   \n99624            9.36     9.36     8.93     9.36     8.72     8.92     8.71   \n99773            3.84     3.66     3.29     3.61     3.89     3.67     3.58   \n\n              2022/03  \nmunicipio_id           \n5001            59.46  \n5002             5.33  \n5004            26.86  \n5021             4.88  \n5030            12.02  \n...               ...  \n97889            2.13  \n99001           28.03  \n99524           11.84  \n99624            8.64  \n99773            4.17  \n\n[1121 rows x 113 columns]",
      "text/html": "<div>\n<style scoped>\n    .dataframe tbody tr th:only-of-type {\n        vertical-align: middle;\n    }\n\n    .dataframe tbody tr th {\n        vertical-align: top;\n    }\n\n    .dataframe thead th {\n        text-align: right;\n    }\n</style>\n<table border=\"1\" class=\"dataframe\">\n  <thead>\n    <tr style=\"text-align: right;\">\n      <th></th>\n      <th>departamento</th>\n      <th>municipio</th>\n      <th>2013/01</th>\n      <th>2013/02</th>\n      <th>2013/03</th>\n      <th>2013/04</th>\n      <th>2013/05</th>\n      <th>2013/06</th>\n      <th>2013/07</th>\n      <th>2013/08</th>\n      <th>...</th>\n      <th>2021/06</th>\n      <th>2021/07</th>\n      <th>2021/08</th>\n      <th>2021/09</th>\n      <th>2021/10</th>\n      <th>2021/11</th>\n      <th>2021/12</th>\n      <th>2022/01</th>\n      <th>2022/02</th>\n      <th>2022/03</th>\n    </tr>\n    <tr>\n      <th>municipio_id</th>\n      <th></th>\n      <th></th>\n      <th></th>\n      <th></th>\n      <th></th>\n      <th></th>\n      <th></th>\n      <th></th>\n      <th></th>\n      <th></th>\n      <th></th>\n      <th></th>\n      <th></th>\n      <th></th>\n      <th></th>\n      <th></th>\n      <th></th>\n      <th></th>\n      <th></th>\n      <th></th>\n      <th></th>\n    </tr>\n  </thead>\n  <tbody>\n    <tr>\n      <th>5001</th>\n      <td>ANTIOQUIA</td>\n      <td>MEDELLÍN</td>\n      <td>58.75</td>\n      <td>59.46</td>\n      <td>59.82</td>\n      <td>60.18</td>\n      <td>60.43</td>\n      <td>60.54</td>\n      <td>60.35</td>\n      <td>60.54</td>\n      <td>...</td>\n      <td>57.57</td>\n      <td>57.72</td>\n      <td>58.01</td>\n      <td>58.39</td>\n      <td>58.96</td>\n      <td>59.68</td>\n      <td>59.91</td>\n      <td>58.64</td>\n      <td>59.13</td>\n      <td>59.46</td>\n    </tr>\n    <tr>\n      <th>5002</th>\n      <td>ANTIOQUIA</td>\n      <td>ABEJORRAL</td>\n      <td>1.38</td>\n      <td>1.40</td>\n      <td>1.59</td>\n      <td>1.57</td>\n      <td>1.60</td>\n      <td>1.78</td>\n      <td>1.72</td>\n      <td>1.83</td>\n      <td>...</td>\n      <td>4.49</td>\n      <td>4.57</td>\n      <td>4.69</td>\n      <td>4.72</td>\n      <td>5.08</td>\n      <td>5.27</td>\n      <td>5.23</td>\n      <td>5.31</td>\n      <td>5.22</td>\n      <td>5.33</td>\n    </tr>\n    <tr>\n      <th>5004</th>\n      <td>ANTIOQUIA</td>\n      <td>ABRIAQUÍ</td>\n      <td>2.81</td>\n      <td>1.18</td>\n      <td>1.09</td>\n      <td>0.90</td>\n      <td>0.90</td>\n      <td>1.72</td>\n      <td>2.08</td>\n      <td>2.17</td>\n      <td>...</td>\n      <td>26.74</td>\n      <td>25.83</td>\n      <td>27.42</td>\n      <td>27.34</td>\n      <td>28.85</td>\n      <td>31.50</td>\n      <td>29.68</td>\n      <td>29.48</td>\n      <td>27.95</td>\n      <td>26.86</td>\n    </tr>\n    <tr>\n      <th>5021</th>\n      <td>ANTIOQUIA</td>\n      <td>ALEJANDRÍA</td>\n      <td>2.73</td>\n      <td>2.54</td>\n      <td>2.83</td>\n      <td>3.11</td>\n      <td>3.11</td>\n      <td>3.06</td>\n      <td>3.16</td>\n      <td>3.25</td>\n      <td>...</td>\n      <td>5.41</td>\n      <td>5.19</td>\n      <td>4.97</td>\n      <td>4.71</td>\n      <td>4.67</td>\n      <td>4.71</td>\n      <td>6.07</td>\n      <td>5.10</td>\n      <td>5.10</td>\n      <td>4.88</td>\n    </tr>\n    <tr>\n      <th>5030</th>\n      <td>ANTIOQUIA</td>\n      <td>AMAGÁ</td>\n      <td>15.63</td>\n      <td>16.71</td>\n      <td>17.48</td>\n      <td>17.06</td>\n      <td>16.42</td>\n      <td>15.42</td>\n      <td>15.57</td>\n      <td>15.72</td>\n      <td>...</td>\n      <td>14.94</td>\n      <td>15.01</td>\n      <td>9.69</td>\n      <td>9.51</td>\n      <td>13.58</td>\n      <td>13.19</td>\n      <td>12.94</td>\n      <td>12.29</td>\n      <td>12.19</td>\n      <td>12.02</td>\n    </tr>\n    <tr>\n      <th>...</th>\n      <td>...</td>\n      <td>...</td>\n      <td>...</td>\n      <td>...</td>\n      <td>...</td>\n      <td>...</td>\n      <td>...</td>\n      <td>...</td>\n      <td>...</td>\n      <td>...</td>\n      <td>...</td>\n      <td>...</td>\n      <td>...</td>\n      <td>...</td>\n      <td>...</td>\n      <td>...</td>\n      <td>...</td>\n      <td>...</td>\n      <td>...</td>\n      <td>...</td>\n      <td>...</td>\n    </tr>\n    <tr>\n      <th>97889</th>\n      <td>VAUPÉS</td>\n      <td>YAVARATÉ</td>\n      <td>0.93</td>\n      <td>0.93</td>\n      <td>0.93</td>\n      <td>0.93</td>\n      <td>0.93</td>\n      <td>0.00</td>\n      <td>0.00</td>\n      <td>0.00</td>\n      <td>...</td>\n      <td>2.13</td>\n      <td>1.60</td>\n      <td>2.13</td>\n      <td>1.60</td>\n      <td>0.53</td>\n      <td>1.06</td>\n      <td>2.13</td>\n      <td>1.60</td>\n      <td>2.13</td>\n      <td>2.13</td>\n    </tr>\n    <tr>\n      <th>99001</th>\n      <td>VICHADA</td>\n      <td>PUERTO CARREÑO</td>\n      <td>29.94</td>\n      <td>28.75</td>\n      <td>28.99</td>\n      <td>29.47</td>\n      <td>29.75</td>\n      <td>29.80</td>\n      <td>30.67</td>\n      <td>30.95</td>\n      <td>...</td>\n      <td>29.04</td>\n      <td>28.54</td>\n      <td>28.08</td>\n      <td>28.18</td>\n      <td>27.82</td>\n      <td>28.58</td>\n      <td>28.22</td>\n      <td>27.76</td>\n      <td>27.41</td>\n      <td>28.03</td>\n    </tr>\n    <tr>\n      <th>99524</th>\n      <td>VICHADA</td>\n      <td>LA PRIMAVERA</td>\n      <td>5.44</td>\n      <td>5.84</td>\n      <td>6.12</td>\n      <td>6.27</td>\n      <td>6.70</td>\n      <td>6.77</td>\n      <td>6.95</td>\n      <td>7.20</td>\n      <td>...</td>\n      <td>9.59</td>\n      <td>9.35</td>\n      <td>9.77</td>\n      <td>9.93</td>\n      <td>9.67</td>\n      <td>10.16</td>\n      <td>10.50</td>\n      <td>11.63</td>\n      <td>10.97</td>\n      <td>11.84</td>\n    </tr>\n    <tr>\n      <th>99624</th>\n      <td>VICHADA</td>\n      <td>SANTA ROSALÍA</td>\n      <td>13.26</td>\n      <td>13.49</td>\n      <td>14.07</td>\n      <td>14.42</td>\n      <td>14.76</td>\n      <td>13.84</td>\n      <td>14.53</td>\n      <td>14.99</td>\n      <td>...</td>\n      <td>9.08</td>\n      <td>9.15</td>\n      <td>9.36</td>\n      <td>9.36</td>\n      <td>8.93</td>\n      <td>9.36</td>\n      <td>8.72</td>\n      <td>8.92</td>\n      <td>8.71</td>\n      <td>8.64</td>\n    </tr>\n    <tr>\n      <th>99773</th>\n      <td>VICHADA</td>\n      <td>CUMARIBO</td>\n      <td>2.92</td>\n      <td>2.88</td>\n      <td>2.73</td>\n      <td>2.72</td>\n      <td>2.77</td>\n      <td>2.65</td>\n      <td>2.82</td>\n      <td>2.78</td>\n      <td>...</td>\n      <td>4.35</td>\n      <td>4.06</td>\n      <td>3.84</td>\n      <td>3.66</td>\n      <td>3.29</td>\n      <td>3.61</td>\n      <td>3.89</td>\n      <td>3.67</td>\n      <td>3.58</td>\n      <td>4.17</td>\n    </tr>\n  </tbody>\n</table>\n<p>1121 rows × 113 columns</p>\n</div>"
     },
     "execution_count": 326,
     "metadata": {},
     "output_type": "execute_result"
    }
   ],
   "source": [
    "df_tv_suscrip_percent"
   ],
   "metadata": {
    "collapsed": false,
    "pycharm": {
     "name": "#%%\n"
    }
   }
  },
  {
   "cell_type": "markdown",
   "source": [
    "# Suscripotores por departamento"
   ],
   "metadata": {
    "collapsed": false,
    "pycharm": {
     "name": "#%% md\n"
    }
   }
  },
  {
   "cell_type": "markdown",
   "source": [
    "## Suscriptores por departamento con operador"
   ],
   "metadata": {
    "collapsed": false,
    "pycharm": {
     "name": "#%% md\n"
    }
   }
  },
  {
   "cell_type": "code",
   "execution_count": 331,
   "outputs": [],
   "source": [
    "lista_dpto_operador= df_tv_sucrp.groupby(['datetime', 'id_departamento', 'departamento', 'operador'])['suscriptores'].sum()\n",
    "lista_dpto_operador.to_csv('./bases_datos/suscriptores_tv_dpto_operador.csv')\n",
    "lista_dpto_operador = pd.read_csv('./bases_datos/suscriptores_tv_dpto_operador.csv', index_col=0)\n",
    "lista_dpto_operador = lista_dpto_operador.sort_values(by=['datetime', 'departamento', 'suscriptores'], ascending=[True, True, False])\n",
    "# Se guarda la vase de datos de suscriptores por municipio por operador\n",
    "lista_dpto_operador.to_csv('./bases_datos/suscriptores_tv_dpto_operador.csv')"
   ],
   "metadata": {
    "collapsed": false,
    "pycharm": {
     "name": "#%%\n"
    }
   }
  },
  {
   "cell_type": "code",
   "execution_count": 332,
   "outputs": [
    {
     "data": {
      "text/plain": "      datetime  id_departamento departamento  \\\n0      2013/01               91     AMAZONAS   \n1      2013/01               91     AMAZONAS   \n2      2013/01               91     AMAZONAS   \n3      2013/01                5    ANTIOQUIA   \n4      2013/01                5    ANTIOQUIA   \n...        ...              ...          ...   \n33219  2022/03               97       VAUPÉS   \n33220  2022/03               97       VAUPÉS   \n33221  2022/03               99      VICHADA   \n33222  2022/03               99      VICHADA   \n33223  2022/03               99      VICHADA   \n\n                                      operador  suscriptores  \n0                         TELMEX COLOMBIA S.A.          2475  \n1                        DIRECTV COLOMBIA LTDA          1381  \n2      COLOMBIA TELECOMUNICACIONES S.A. E.S.P.           292  \n3              UNE EPM TELECOMUNICACIONES S.A.        528197  \n4                         TELMEX COLOMBIA S.A.        162782  \n...                                        ...           ...  \n33219      COMUNICACION CELULAR S A COMCEL S A           241  \n33220  COLOMBIA TELECOMUNICACIONES S.A. E.S.P.            56  \n33221                    DIRECTV COLOMBIA LTDA          2926  \n33222      COMUNICACION CELULAR S A COMCEL S A           647  \n33223  COLOMBIA TELECOMUNICACIONES S.A. E.S.P.           147  \n\n[33224 rows x 5 columns]",
      "text/html": "<div>\n<style scoped>\n    .dataframe tbody tr th:only-of-type {\n        vertical-align: middle;\n    }\n\n    .dataframe tbody tr th {\n        vertical-align: top;\n    }\n\n    .dataframe thead th {\n        text-align: right;\n    }\n</style>\n<table border=\"1\" class=\"dataframe\">\n  <thead>\n    <tr style=\"text-align: right;\">\n      <th></th>\n      <th>datetime</th>\n      <th>id_departamento</th>\n      <th>departamento</th>\n      <th>operador</th>\n      <th>suscriptores</th>\n    </tr>\n  </thead>\n  <tbody>\n    <tr>\n      <th>0</th>\n      <td>2013/01</td>\n      <td>91</td>\n      <td>AMAZONAS</td>\n      <td>TELMEX COLOMBIA S.A.</td>\n      <td>2475</td>\n    </tr>\n    <tr>\n      <th>1</th>\n      <td>2013/01</td>\n      <td>91</td>\n      <td>AMAZONAS</td>\n      <td>DIRECTV COLOMBIA LTDA</td>\n      <td>1381</td>\n    </tr>\n    <tr>\n      <th>2</th>\n      <td>2013/01</td>\n      <td>91</td>\n      <td>AMAZONAS</td>\n      <td>COLOMBIA TELECOMUNICACIONES S.A. E.S.P.</td>\n      <td>292</td>\n    </tr>\n    <tr>\n      <th>3</th>\n      <td>2013/01</td>\n      <td>5</td>\n      <td>ANTIOQUIA</td>\n      <td>UNE EPM TELECOMUNICACIONES S.A.</td>\n      <td>528197</td>\n    </tr>\n    <tr>\n      <th>4</th>\n      <td>2013/01</td>\n      <td>5</td>\n      <td>ANTIOQUIA</td>\n      <td>TELMEX COLOMBIA S.A.</td>\n      <td>162782</td>\n    </tr>\n    <tr>\n      <th>...</th>\n      <td>...</td>\n      <td>...</td>\n      <td>...</td>\n      <td>...</td>\n      <td>...</td>\n    </tr>\n    <tr>\n      <th>33219</th>\n      <td>2022/03</td>\n      <td>97</td>\n      <td>VAUPÉS</td>\n      <td>COMUNICACION CELULAR S A COMCEL S A</td>\n      <td>241</td>\n    </tr>\n    <tr>\n      <th>33220</th>\n      <td>2022/03</td>\n      <td>97</td>\n      <td>VAUPÉS</td>\n      <td>COLOMBIA TELECOMUNICACIONES S.A. E.S.P.</td>\n      <td>56</td>\n    </tr>\n    <tr>\n      <th>33221</th>\n      <td>2022/03</td>\n      <td>99</td>\n      <td>VICHADA</td>\n      <td>DIRECTV COLOMBIA LTDA</td>\n      <td>2926</td>\n    </tr>\n    <tr>\n      <th>33222</th>\n      <td>2022/03</td>\n      <td>99</td>\n      <td>VICHADA</td>\n      <td>COMUNICACION CELULAR S A COMCEL S A</td>\n      <td>647</td>\n    </tr>\n    <tr>\n      <th>33223</th>\n      <td>2022/03</td>\n      <td>99</td>\n      <td>VICHADA</td>\n      <td>COLOMBIA TELECOMUNICACIONES S.A. E.S.P.</td>\n      <td>147</td>\n    </tr>\n  </tbody>\n</table>\n<p>33224 rows × 5 columns</p>\n</div>"
     },
     "execution_count": 332,
     "metadata": {},
     "output_type": "execute_result"
    }
   ],
   "source": [
    "lista_dpto_operador = pd.read_csv('./bases_datos/suscriptores_tv_dpto_operador.csv')\n",
    "lista_dpto_operador"
   ],
   "metadata": {
    "collapsed": false,
    "pycharm": {
     "name": "#%%\n"
    }
   }
  },
  {
   "cell_type": "markdown",
   "source": [
    "## Suscriptores por departamento sin operador"
   ],
   "metadata": {
    "collapsed": false,
    "pycharm": {
     "name": "#%% md\n"
    }
   }
  },
  {
   "cell_type": "code",
   "execution_count": 333,
   "outputs": [],
   "source": [
    "lista_dpto= df_tv_sucrp.groupby(['datetime', 'id_departamento', 'departamento'])['suscriptores'].sum()\n",
    "lista_dpto.to_csv('./bases_datos/suscriptores_tv_dpto.csv')\n",
    "lista_dpto = pd.read_csv('./bases_datos/suscriptores_tv_dpto.csv', index_col=0)\n",
    "lista_dpto = lista_dpto.sort_values(by=['datetime', 'departamento', 'suscriptores'], ascending=[True, True, False])\n",
    "# Se guarda la vase de datos de suscriptores por municipio por operador\n",
    "lista_dpto.to_csv('./bases_datos/suscriptores_tv_dpto.csv')"
   ],
   "metadata": {
    "collapsed": false,
    "pycharm": {
     "name": "#%%\n"
    }
   }
  },
  {
   "cell_type": "code",
   "execution_count": 334,
   "outputs": [
    {
     "data": {
      "text/plain": "     datetime  id_departamento  \\\n0     2013/01               91   \n1     2013/01                5   \n2     2013/01               81   \n3     2013/01               88   \n4     2013/01                8   \n...       ...              ...   \n3658  2022/03               70   \n3659  2022/03               73   \n3660  2022/03               76   \n3661  2022/03               97   \n3662  2022/03               99   \n\n                                           departamento  suscriptores  \n0                                              AMAZONAS          4148  \n1                                             ANTIOQUIA        806450  \n2                                                ARAUCA         10189  \n3     ARCHIPIÉLAGO DE SAN ANDRÉS, PROVIDENCIA Y SANT...          6444  \n4                                             ATLÁNTICO        197265  \n...                                                 ...           ...  \n3658                                              SUCRE         57844  \n3659                                             TOLIMA        149179  \n3660                                    VALLE DEL CAUCA        660366  \n3661                                             VAUPÉS          1924  \n3662                                            VICHADA          3720  \n\n[3663 rows x 4 columns]",
      "text/html": "<div>\n<style scoped>\n    .dataframe tbody tr th:only-of-type {\n        vertical-align: middle;\n    }\n\n    .dataframe tbody tr th {\n        vertical-align: top;\n    }\n\n    .dataframe thead th {\n        text-align: right;\n    }\n</style>\n<table border=\"1\" class=\"dataframe\">\n  <thead>\n    <tr style=\"text-align: right;\">\n      <th></th>\n      <th>datetime</th>\n      <th>id_departamento</th>\n      <th>departamento</th>\n      <th>suscriptores</th>\n    </tr>\n  </thead>\n  <tbody>\n    <tr>\n      <th>0</th>\n      <td>2013/01</td>\n      <td>91</td>\n      <td>AMAZONAS</td>\n      <td>4148</td>\n    </tr>\n    <tr>\n      <th>1</th>\n      <td>2013/01</td>\n      <td>5</td>\n      <td>ANTIOQUIA</td>\n      <td>806450</td>\n    </tr>\n    <tr>\n      <th>2</th>\n      <td>2013/01</td>\n      <td>81</td>\n      <td>ARAUCA</td>\n      <td>10189</td>\n    </tr>\n    <tr>\n      <th>3</th>\n      <td>2013/01</td>\n      <td>88</td>\n      <td>ARCHIPIÉLAGO DE SAN ANDRÉS, PROVIDENCIA Y SANT...</td>\n      <td>6444</td>\n    </tr>\n    <tr>\n      <th>4</th>\n      <td>2013/01</td>\n      <td>8</td>\n      <td>ATLÁNTICO</td>\n      <td>197265</td>\n    </tr>\n    <tr>\n      <th>...</th>\n      <td>...</td>\n      <td>...</td>\n      <td>...</td>\n      <td>...</td>\n    </tr>\n    <tr>\n      <th>3658</th>\n      <td>2022/03</td>\n      <td>70</td>\n      <td>SUCRE</td>\n      <td>57844</td>\n    </tr>\n    <tr>\n      <th>3659</th>\n      <td>2022/03</td>\n      <td>73</td>\n      <td>TOLIMA</td>\n      <td>149179</td>\n    </tr>\n    <tr>\n      <th>3660</th>\n      <td>2022/03</td>\n      <td>76</td>\n      <td>VALLE DEL CAUCA</td>\n      <td>660366</td>\n    </tr>\n    <tr>\n      <th>3661</th>\n      <td>2022/03</td>\n      <td>97</td>\n      <td>VAUPÉS</td>\n      <td>1924</td>\n    </tr>\n    <tr>\n      <th>3662</th>\n      <td>2022/03</td>\n      <td>99</td>\n      <td>VICHADA</td>\n      <td>3720</td>\n    </tr>\n  </tbody>\n</table>\n<p>3663 rows × 4 columns</p>\n</div>"
     },
     "execution_count": 334,
     "metadata": {},
     "output_type": "execute_result"
    }
   ],
   "source": [
    "lista_dpto = pd.read_csv('./bases_datos/suscriptores_tv_dpto.csv')\n",
    "lista_dpto"
   ],
   "metadata": {
    "collapsed": false,
    "pycharm": {
     "name": "#%%\n"
    }
   }
  },
  {
   "cell_type": "code",
   "execution_count": null,
   "outputs": [],
   "source": [],
   "metadata": {
    "collapsed": false,
    "pycharm": {
     "name": "#%%\n"
    }
   }
  },
  {
   "cell_type": "markdown",
   "source": [
    "## Operadores"
   ],
   "metadata": {
    "collapsed": false,
    "pycharm": {
     "name": "#%% md\n"
    }
   }
  }
 ],
 "metadata": {
  "kernelspec": {
   "display_name": "Python 3",
   "language": "python",
   "name": "python3"
  },
  "language_info": {
   "codemirror_mode": {
    "name": "ipython",
    "version": 2
   },
   "file_extension": ".py",
   "mimetype": "text/x-python",
   "name": "python",
   "nbconvert_exporter": "python",
   "pygments_lexer": "ipython2",
   "version": "2.7.6"
  }
 },
 "nbformat": 4,
 "nbformat_minor": 0
}