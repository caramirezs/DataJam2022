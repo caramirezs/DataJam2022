{
 "cells": [
  {
   "cell_type": "code",
   "execution_count": 1,
   "outputs": [],
   "source": [
    "import pandas as pd"
   ],
   "metadata": {
    "collapsed": false,
    "pycharm": {
     "name": "#%%\n"
    }
   }
  },
  {
   "cell_type": "markdown",
   "source": [
    "# Suscriptores de TV\n",
    "Primero se cargan los datos extraidos de postdata y se organiza un dataframe desde el año 2013"
   ],
   "metadata": {
    "collapsed": false,
    "pycharm": {
     "name": "#%% md\n"
    }
   }
  },
  {
   "cell_type": "code",
   "execution_count": 306,
   "outputs": [],
   "source": [
    "df_1 = pd.read_csv('./bases_datos/suscriptores_tv_p1.csv', low_memory=False)\n",
    "df_2 = pd.read_csv('./bases_datos/suscriptores_tv_p2.csv', low_memory=False)\n",
    "df_tv_sucrp = pd.concat([df_1,df_2])\n",
    "\n",
    "# Eliminar datos anteriones a 2013\n",
    "df_tv_sucrp = df_tv_sucrp.iloc[1703:]\n",
    "df_tv_sucrp.reset_index(drop=True, inplace=True)\n",
    "\n",
    "# Crear una columna con los datos temporales\n",
    "df_tv_sucrp['datetime']=  df_tv_sucrp.apply(lambda row: f'{row.anno}/{str(row.mes + 3*(row.trimestre-1)).zfill(2)}', axis=1)\n",
    "\n",
    "# Organizar el dataframe\n",
    "lista_columnas = ['datetime', 'id_operador', 'operador', 'id_departamento', 'departamento', 'id_municipio', 'municipio', 'suscriptores', 'entry_id']\n",
    "df_tv_sucrp = df_tv_sucrp[lista_columnas]\n",
    "\n",
    "# Eliminar entradas que no tienen datos por departamento\n",
    "df_tv_sucrp = df_tv_sucrp.dropna(subset=['departamento', 'suscriptores'])\n",
    "\n",
    "# Eliminar entradas con suscriptores = 0\n",
    "df_tv_sucrp = df_tv_sucrp[df_tv_sucrp.suscriptores != 0]\n",
    "df_tv_sucrp.reset_index(drop=True, inplace=True)\n",
    "\n",
    "# Lista de los años / meses\n",
    "datetime_list = df_tv_sucrp.datetime.unique()\n",
    "#Lista departamentos\n",
    "dpto_list = df_tv_sucrp.departamento.unique()\n",
    "# Lista municipios\n",
    "mpio_list = df_tv_sucrp.municipio.unique()"
   ],
   "metadata": {
    "collapsed": false,
    "pycharm": {
     "name": "#%%\n"
    }
   }
  },
  {
   "cell_type": "code",
   "execution_count": 307,
   "outputs": [
    {
     "data": {
      "text/plain": "       datetime  id_operador  \\\n0       2013/01    800075305   \n1       2013/01    800132211   \n2       2013/01    800132211   \n3       2013/01    800179562   \n4       2013/01    800193670   \n...         ...          ...   \n507524  2022/03    901453896   \n507525  2022/03    901453896   \n507526  2022/03    901460140   \n507527  2022/03    901491625   \n507528  2022/03    901501135   \n\n                                                 operador  id_departamento  \\\n0       INGENIERIA EN POTENCIA ELECTRICA Y COMUNICACIO...               54   \n1                                   H V TELEVISION S.A.S.               11   \n2                                   H V TELEVISION S.A.S.               25   \n3                         LEGON TELECOMUNICACIONES S.A.S.                5   \n4       PROMOTORA DE TELEVISION. INTERNET Y COMUNICACI...               66   \n...                                                   ...              ...   \n507524                            FIBERLINKNETWORKS S.A.S                5   \n507525                            FIBERLINKNETWORKS S.A.S               86   \n507526                 DIGI COMUNICACIONES TV. NET S.A.S.               13   \n507527                       VITEL COMUNICACIONES NET SAS               68   \n507528                                  TUNET-WORK S.A.S.               54   \n\n              departamento  id_municipio        municipio  suscriptores  \\\n0       NORTE DE SANTANDER         54498            OCAÑA          1452   \n1              BOGOTÁ D.C.         11001     BOGOTÁ, D.C.          7664   \n2             CUNDINAMARCA         25754           SOACHA         27790   \n3                ANTIOQUIA          5154         CAUCASIA           365   \n4                RISARALDA         66088  BELÉN DE UMBRÍA          1591   \n...                    ...           ...              ...           ...   \n507524           ANTIOQUIA          5736          SEGOVIA           903   \n507525            PUTUMAYO         86568      PUERTO ASÍS           135   \n507526             BOLÍVAR         13650     SAN FERNANDO            49   \n507527           SANTANDER         68276    FLORIDABLANCA           142   \n507528  NORTE DE SANTANDER         54405       LOS PATIOS           115   \n\n        entry_id  \n0           1705  \n1           1706  \n2           1708  \n3           1709  \n4           1710  \n...          ...  \n507524    546737  \n507525    546738  \n507526    546739  \n507527    546740  \n507528    546741  \n\n[507529 rows x 9 columns]",
      "text/html": "<div>\n<style scoped>\n    .dataframe tbody tr th:only-of-type {\n        vertical-align: middle;\n    }\n\n    .dataframe tbody tr th {\n        vertical-align: top;\n    }\n\n    .dataframe thead th {\n        text-align: right;\n    }\n</style>\n<table border=\"1\" class=\"dataframe\">\n  <thead>\n    <tr style=\"text-align: right;\">\n      <th></th>\n      <th>datetime</th>\n      <th>id_operador</th>\n      <th>operador</th>\n      <th>id_departamento</th>\n      <th>departamento</th>\n      <th>id_municipio</th>\n      <th>municipio</th>\n      <th>suscriptores</th>\n      <th>entry_id</th>\n    </tr>\n  </thead>\n  <tbody>\n    <tr>\n      <th>0</th>\n      <td>2013/01</td>\n      <td>800075305</td>\n      <td>INGENIERIA EN POTENCIA ELECTRICA Y COMUNICACIO...</td>\n      <td>54</td>\n      <td>NORTE DE SANTANDER</td>\n      <td>54498</td>\n      <td>OCAÑA</td>\n      <td>1452</td>\n      <td>1705</td>\n    </tr>\n    <tr>\n      <th>1</th>\n      <td>2013/01</td>\n      <td>800132211</td>\n      <td>H V TELEVISION S.A.S.</td>\n      <td>11</td>\n      <td>BOGOTÁ D.C.</td>\n      <td>11001</td>\n      <td>BOGOTÁ, D.C.</td>\n      <td>7664</td>\n      <td>1706</td>\n    </tr>\n    <tr>\n      <th>2</th>\n      <td>2013/01</td>\n      <td>800132211</td>\n      <td>H V TELEVISION S.A.S.</td>\n      <td>25</td>\n      <td>CUNDINAMARCA</td>\n      <td>25754</td>\n      <td>SOACHA</td>\n      <td>27790</td>\n      <td>1708</td>\n    </tr>\n    <tr>\n      <th>3</th>\n      <td>2013/01</td>\n      <td>800179562</td>\n      <td>LEGON TELECOMUNICACIONES S.A.S.</td>\n      <td>5</td>\n      <td>ANTIOQUIA</td>\n      <td>5154</td>\n      <td>CAUCASIA</td>\n      <td>365</td>\n      <td>1709</td>\n    </tr>\n    <tr>\n      <th>4</th>\n      <td>2013/01</td>\n      <td>800193670</td>\n      <td>PROMOTORA DE TELEVISION. INTERNET Y COMUNICACI...</td>\n      <td>66</td>\n      <td>RISARALDA</td>\n      <td>66088</td>\n      <td>BELÉN DE UMBRÍA</td>\n      <td>1591</td>\n      <td>1710</td>\n    </tr>\n    <tr>\n      <th>...</th>\n      <td>...</td>\n      <td>...</td>\n      <td>...</td>\n      <td>...</td>\n      <td>...</td>\n      <td>...</td>\n      <td>...</td>\n      <td>...</td>\n      <td>...</td>\n    </tr>\n    <tr>\n      <th>507524</th>\n      <td>2022/03</td>\n      <td>901453896</td>\n      <td>FIBERLINKNETWORKS S.A.S</td>\n      <td>5</td>\n      <td>ANTIOQUIA</td>\n      <td>5736</td>\n      <td>SEGOVIA</td>\n      <td>903</td>\n      <td>546737</td>\n    </tr>\n    <tr>\n      <th>507525</th>\n      <td>2022/03</td>\n      <td>901453896</td>\n      <td>FIBERLINKNETWORKS S.A.S</td>\n      <td>86</td>\n      <td>PUTUMAYO</td>\n      <td>86568</td>\n      <td>PUERTO ASÍS</td>\n      <td>135</td>\n      <td>546738</td>\n    </tr>\n    <tr>\n      <th>507526</th>\n      <td>2022/03</td>\n      <td>901460140</td>\n      <td>DIGI COMUNICACIONES TV. NET S.A.S.</td>\n      <td>13</td>\n      <td>BOLÍVAR</td>\n      <td>13650</td>\n      <td>SAN FERNANDO</td>\n      <td>49</td>\n      <td>546739</td>\n    </tr>\n    <tr>\n      <th>507527</th>\n      <td>2022/03</td>\n      <td>901491625</td>\n      <td>VITEL COMUNICACIONES NET SAS</td>\n      <td>68</td>\n      <td>SANTANDER</td>\n      <td>68276</td>\n      <td>FLORIDABLANCA</td>\n      <td>142</td>\n      <td>546740</td>\n    </tr>\n    <tr>\n      <th>507528</th>\n      <td>2022/03</td>\n      <td>901501135</td>\n      <td>TUNET-WORK S.A.S.</td>\n      <td>54</td>\n      <td>NORTE DE SANTANDER</td>\n      <td>54405</td>\n      <td>LOS PATIOS</td>\n      <td>115</td>\n      <td>546741</td>\n    </tr>\n  </tbody>\n</table>\n<p>507529 rows × 9 columns</p>\n</div>"
     },
     "execution_count": 307,
     "metadata": {},
     "output_type": "execute_result"
    }
   ],
   "source": [
    "df_tv_sucrp"
   ],
   "metadata": {
    "collapsed": false,
    "pycharm": {
     "name": "#%%\n"
    }
   }
  },
  {
   "cell_type": "markdown",
   "source": [
    "Ahora se extrae la lista de los municipios y departamentos junto con los id de cada uno"
   ],
   "metadata": {
    "collapsed": false,
    "pycharm": {
     "name": "#%% md\n"
    }
   }
  },
  {
   "cell_type": "code",
   "execution_count": 285,
   "outputs": [
    {
     "data": {
      "text/plain": "      id_departamento departamento  id_municipio       municipio\n0                   5    ANTIOQUIA          5001        MEDELLÍN\n1                   5    ANTIOQUIA          5002       ABEJORRAL\n2                   5    ANTIOQUIA          5004        ABRIAQUÍ\n3                   5    ANTIOQUIA          5021      ALEJANDRÍA\n4                   5    ANTIOQUIA          5030           AMAGÁ\n...               ...          ...           ...             ...\n1117               99      VICHADA         99001  PUERTO CARREÑO\n1118               99      VICHADA         99524    LA PRIMAVERA\n1119               99      VICHADA         99624   SANTA ROSALÍA\n1120               99      VICHADA         99773        CUMARIBO\n1121               13      BOLÍVAR         99999             NaN\n\n[1122 rows x 4 columns]",
      "text/html": "<div>\n<style scoped>\n    .dataframe tbody tr th:only-of-type {\n        vertical-align: middle;\n    }\n\n    .dataframe tbody tr th {\n        vertical-align: top;\n    }\n\n    .dataframe thead th {\n        text-align: right;\n    }\n</style>\n<table border=\"1\" class=\"dataframe\">\n  <thead>\n    <tr style=\"text-align: right;\">\n      <th></th>\n      <th>id_departamento</th>\n      <th>departamento</th>\n      <th>id_municipio</th>\n      <th>municipio</th>\n    </tr>\n  </thead>\n  <tbody>\n    <tr>\n      <th>0</th>\n      <td>5</td>\n      <td>ANTIOQUIA</td>\n      <td>5001</td>\n      <td>MEDELLÍN</td>\n    </tr>\n    <tr>\n      <th>1</th>\n      <td>5</td>\n      <td>ANTIOQUIA</td>\n      <td>5002</td>\n      <td>ABEJORRAL</td>\n    </tr>\n    <tr>\n      <th>2</th>\n      <td>5</td>\n      <td>ANTIOQUIA</td>\n      <td>5004</td>\n      <td>ABRIAQUÍ</td>\n    </tr>\n    <tr>\n      <th>3</th>\n      <td>5</td>\n      <td>ANTIOQUIA</td>\n      <td>5021</td>\n      <td>ALEJANDRÍA</td>\n    </tr>\n    <tr>\n      <th>4</th>\n      <td>5</td>\n      <td>ANTIOQUIA</td>\n      <td>5030</td>\n      <td>AMAGÁ</td>\n    </tr>\n    <tr>\n      <th>...</th>\n      <td>...</td>\n      <td>...</td>\n      <td>...</td>\n      <td>...</td>\n    </tr>\n    <tr>\n      <th>1117</th>\n      <td>99</td>\n      <td>VICHADA</td>\n      <td>99001</td>\n      <td>PUERTO CARREÑO</td>\n    </tr>\n    <tr>\n      <th>1118</th>\n      <td>99</td>\n      <td>VICHADA</td>\n      <td>99524</td>\n      <td>LA PRIMAVERA</td>\n    </tr>\n    <tr>\n      <th>1119</th>\n      <td>99</td>\n      <td>VICHADA</td>\n      <td>99624</td>\n      <td>SANTA ROSALÍA</td>\n    </tr>\n    <tr>\n      <th>1120</th>\n      <td>99</td>\n      <td>VICHADA</td>\n      <td>99773</td>\n      <td>CUMARIBO</td>\n    </tr>\n    <tr>\n      <th>1121</th>\n      <td>13</td>\n      <td>BOLÍVAR</td>\n      <td>99999</td>\n      <td>NaN</td>\n    </tr>\n  </tbody>\n</table>\n<p>1122 rows × 4 columns</p>\n</div>"
     },
     "execution_count": 285,
     "metadata": {},
     "output_type": "execute_result"
    }
   ],
   "source": [
    "# Lista de municipios y departamentos con códigos, se necesita para más adelante\n",
    "lista_dpto_mpio = df_tv_sucrp[['id_departamento', 'departamento', 'id_municipio', 'municipio']].drop_duplicates().sort_values(by=['id_municipio'])\n",
    "lista_dpto_mpio.reset_index(drop=True, inplace=True)\n",
    "lista_dpto_mpio"
   ],
   "metadata": {
    "collapsed": false,
    "pycharm": {
     "name": "#%%\n"
    }
   }
  },
  {
   "cell_type": "markdown",
   "source": [
    "# Suscriptores por municipio"
   ],
   "metadata": {
    "collapsed": false,
    "pycharm": {
     "name": "#%% md\n"
    }
   }
  },
  {
   "cell_type": "markdown",
   "source": [
    "## Suscriptores por municipio con operador"
   ],
   "metadata": {
    "collapsed": false,
    "pycharm": {
     "name": "#%% md\n"
    }
   }
  },
  {
   "cell_type": "code",
   "execution_count": 312,
   "outputs": [],
   "source": [
    "lista_dpto_mpio_operador= df_tv_sucrp.groupby(['datetime', 'id_departamento', 'departamento', 'id_municipio', 'municipio', 'operador'])['suscriptores'].sum()\n",
    "lista_dpto_mpio_operador.to_csv('./bases_datos/suscriptores_tv_mpio_operador.csv')\n",
    "lista_dpto_mpio_operador = pd.read_csv('./bases_datos/suscriptores_tv_mpio_operador.csv', index_col=0)\n",
    "lista_dpto_mpio_operador = lista_dpto_mpio_operador.sort_values(by=['datetime', 'departamento','municipio', 'suscriptores'], ascending=[True, True, True, False])\n",
    "# Se guarda la vase de datos de suscriptores por municipio por operador\n",
    "lista_dpto_mpio_operador.to_csv('./bases_datos/suscriptores_tv_mpio_operador.csv')"
   ],
   "metadata": {
    "collapsed": false,
    "pycharm": {
     "name": "#%%\n"
    }
   }
  },
  {
   "cell_type": "code",
   "execution_count": 313,
   "outputs": [
    {
     "data": {
      "text/plain": "       datetime  id_departamento departamento  id_municipio       municipio  \\\n0       2013/01               91     AMAZONAS         91263      EL ENCANTO   \n1       2013/01               91     AMAZONAS         91405     LA CHORRERA   \n2       2013/01               91     AMAZONAS         91407      LA PEDRERA   \n3       2013/01               91     AMAZONAS         91001         LETICIA   \n4       2013/01               91     AMAZONAS         91001         LETICIA   \n...         ...              ...          ...           ...             ...   \n362114  2022/03               99      VICHADA         99001  PUERTO CARREÑO   \n362115  2022/03               99      VICHADA         99001  PUERTO CARREÑO   \n362116  2022/03               99      VICHADA         99001  PUERTO CARREÑO   \n362117  2022/03               99      VICHADA         99624   SANTA ROSALÍA   \n362118  2022/03               99      VICHADA         99624   SANTA ROSALÍA   \n\n                                       operador  suscriptores  \n0                         DIRECTV COLOMBIA LTDA             3  \n1                         DIRECTV COLOMBIA LTDA             9  \n2                         DIRECTV COLOMBIA LTDA             2  \n3                          TELMEX COLOMBIA S.A.          2475  \n4                         DIRECTV COLOMBIA LTDA          1323  \n...                                         ...           ...  \n362114                    DIRECTV COLOMBIA LTDA          1632  \n362115      COMUNICACION CELULAR S A COMCEL S A           535  \n362116  COLOMBIA TELECOMUNICACIONES S.A. E.S.P.           146  \n362117                    DIRECTV COLOMBIA LTDA           122  \n362118  COLOMBIA TELECOMUNICACIONES S.A. E.S.P.             1  \n\n[362119 rows x 7 columns]",
      "text/html": "<div>\n<style scoped>\n    .dataframe tbody tr th:only-of-type {\n        vertical-align: middle;\n    }\n\n    .dataframe tbody tr th {\n        vertical-align: top;\n    }\n\n    .dataframe thead th {\n        text-align: right;\n    }\n</style>\n<table border=\"1\" class=\"dataframe\">\n  <thead>\n    <tr style=\"text-align: right;\">\n      <th></th>\n      <th>datetime</th>\n      <th>id_departamento</th>\n      <th>departamento</th>\n      <th>id_municipio</th>\n      <th>municipio</th>\n      <th>operador</th>\n      <th>suscriptores</th>\n    </tr>\n  </thead>\n  <tbody>\n    <tr>\n      <th>0</th>\n      <td>2013/01</td>\n      <td>91</td>\n      <td>AMAZONAS</td>\n      <td>91263</td>\n      <td>EL ENCANTO</td>\n      <td>DIRECTV COLOMBIA LTDA</td>\n      <td>3</td>\n    </tr>\n    <tr>\n      <th>1</th>\n      <td>2013/01</td>\n      <td>91</td>\n      <td>AMAZONAS</td>\n      <td>91405</td>\n      <td>LA CHORRERA</td>\n      <td>DIRECTV COLOMBIA LTDA</td>\n      <td>9</td>\n    </tr>\n    <tr>\n      <th>2</th>\n      <td>2013/01</td>\n      <td>91</td>\n      <td>AMAZONAS</td>\n      <td>91407</td>\n      <td>LA PEDRERA</td>\n      <td>DIRECTV COLOMBIA LTDA</td>\n      <td>2</td>\n    </tr>\n    <tr>\n      <th>3</th>\n      <td>2013/01</td>\n      <td>91</td>\n      <td>AMAZONAS</td>\n      <td>91001</td>\n      <td>LETICIA</td>\n      <td>TELMEX COLOMBIA S.A.</td>\n      <td>2475</td>\n    </tr>\n    <tr>\n      <th>4</th>\n      <td>2013/01</td>\n      <td>91</td>\n      <td>AMAZONAS</td>\n      <td>91001</td>\n      <td>LETICIA</td>\n      <td>DIRECTV COLOMBIA LTDA</td>\n      <td>1323</td>\n    </tr>\n    <tr>\n      <th>...</th>\n      <td>...</td>\n      <td>...</td>\n      <td>...</td>\n      <td>...</td>\n      <td>...</td>\n      <td>...</td>\n      <td>...</td>\n    </tr>\n    <tr>\n      <th>362114</th>\n      <td>2022/03</td>\n      <td>99</td>\n      <td>VICHADA</td>\n      <td>99001</td>\n      <td>PUERTO CARREÑO</td>\n      <td>DIRECTV COLOMBIA LTDA</td>\n      <td>1632</td>\n    </tr>\n    <tr>\n      <th>362115</th>\n      <td>2022/03</td>\n      <td>99</td>\n      <td>VICHADA</td>\n      <td>99001</td>\n      <td>PUERTO CARREÑO</td>\n      <td>COMUNICACION CELULAR S A COMCEL S A</td>\n      <td>535</td>\n    </tr>\n    <tr>\n      <th>362116</th>\n      <td>2022/03</td>\n      <td>99</td>\n      <td>VICHADA</td>\n      <td>99001</td>\n      <td>PUERTO CARREÑO</td>\n      <td>COLOMBIA TELECOMUNICACIONES S.A. E.S.P.</td>\n      <td>146</td>\n    </tr>\n    <tr>\n      <th>362117</th>\n      <td>2022/03</td>\n      <td>99</td>\n      <td>VICHADA</td>\n      <td>99624</td>\n      <td>SANTA ROSALÍA</td>\n      <td>DIRECTV COLOMBIA LTDA</td>\n      <td>122</td>\n    </tr>\n    <tr>\n      <th>362118</th>\n      <td>2022/03</td>\n      <td>99</td>\n      <td>VICHADA</td>\n      <td>99624</td>\n      <td>SANTA ROSALÍA</td>\n      <td>COLOMBIA TELECOMUNICACIONES S.A. E.S.P.</td>\n      <td>1</td>\n    </tr>\n  </tbody>\n</table>\n<p>362119 rows × 7 columns</p>\n</div>"
     },
     "execution_count": 313,
     "metadata": {},
     "output_type": "execute_result"
    }
   ],
   "source": [
    "lista_dpto_mpio_operador = pd.read_csv('./bases_datos/suscriptores_tv_mpio_operador.csv')\n",
    "lista_dpto_mpio_operador"
   ],
   "metadata": {
    "collapsed": false,
    "pycharm": {
     "name": "#%%\n"
    }
   }
  },
  {
   "cell_type": "markdown",
   "source": [
    "## Suscriptores por municipio sin operador"
   ],
   "metadata": {
    "collapsed": false,
    "pycharm": {
     "name": "#%% md\n"
    }
   }
  },
  {
   "cell_type": "code",
   "execution_count": 320,
   "outputs": [],
   "source": [
    "df_tv_sucrp_mpio= df_tv_sucrp.groupby(['datetime', 'id_departamento', 'departamento', 'id_municipio', 'municipio'])['suscriptores'].sum()\n",
    "df_tv_sucrp_mpio.to_csv('./bases_datos/suscriptores_tv_mpio.csv')\n",
    "df_tv_sucrp_mpio = pd.read_csv('./bases_datos/suscriptores_tv_mpio.csv', index_col=0)\n",
    "df_tv_sucrp_mpio = df_tv_sucrp_mpio.sort_values(by=['datetime', 'suscriptores'], ascending=[True, False])\n",
    "# Se guarda la vase de datos de suscriptores por municipio por operador\n",
    "df_tv_sucrp_mpio.to_csv('./bases_datos/suscriptores_tv_mpio.csv')"
   ],
   "metadata": {
    "collapsed": false,
    "pycharm": {
     "name": "#%%\n"
    }
   }
  },
  {
   "cell_type": "code",
   "execution_count": 322,
   "outputs": [
    {
     "data": {
      "text/plain": "       datetime  id_departamento     departamento  id_municipio  \\\n0       2013/01               11      BOGOTÁ D.C.         11001   \n1       2013/01                5        ANTIOQUIA          5001   \n2       2013/01               76  VALLE DEL CAUCA         76001   \n3       2013/01                8        ATLÁNTICO          8001   \n4       2013/01               13          BOLÍVAR         13001   \n...         ...              ...              ...           ...   \n122648  2022/03               97           VAUPÉS         97889   \n122649  2022/03               52           NARIÑO         52565   \n122650  2022/03               94          GUAINÍA         94887   \n122651  2022/03               91         AMAZONAS         91430   \n122652  2022/03               97           VAUPÉS         97511   \n\n                  municipio  suscriptores  \n0              BOGOTÁ, D.C.       1049966  \n1                  MEDELLÍN        429656  \n2                      CALI        317193  \n3              BARRANQUILLA        136635  \n4       CARTAGENA DE INDIAS        105065  \n...                     ...           ...  \n122648             YAVARATÉ             4  \n122649          PROVIDENCIA             3  \n122650            PANA PANA             2  \n122651          LA VICTORIA             1  \n122652                PACOA             1  \n\n[122653 rows x 6 columns]",
      "text/html": "<div>\n<style scoped>\n    .dataframe tbody tr th:only-of-type {\n        vertical-align: middle;\n    }\n\n    .dataframe tbody tr th {\n        vertical-align: top;\n    }\n\n    .dataframe thead th {\n        text-align: right;\n    }\n</style>\n<table border=\"1\" class=\"dataframe\">\n  <thead>\n    <tr style=\"text-align: right;\">\n      <th></th>\n      <th>datetime</th>\n      <th>id_departamento</th>\n      <th>departamento</th>\n      <th>id_municipio</th>\n      <th>municipio</th>\n      <th>suscriptores</th>\n    </tr>\n  </thead>\n  <tbody>\n    <tr>\n      <th>0</th>\n      <td>2013/01</td>\n      <td>11</td>\n      <td>BOGOTÁ D.C.</td>\n      <td>11001</td>\n      <td>BOGOTÁ, D.C.</td>\n      <td>1049966</td>\n    </tr>\n    <tr>\n      <th>1</th>\n      <td>2013/01</td>\n      <td>5</td>\n      <td>ANTIOQUIA</td>\n      <td>5001</td>\n      <td>MEDELLÍN</td>\n      <td>429656</td>\n    </tr>\n    <tr>\n      <th>2</th>\n      <td>2013/01</td>\n      <td>76</td>\n      <td>VALLE DEL CAUCA</td>\n      <td>76001</td>\n      <td>CALI</td>\n      <td>317193</td>\n    </tr>\n    <tr>\n      <th>3</th>\n      <td>2013/01</td>\n      <td>8</td>\n      <td>ATLÁNTICO</td>\n      <td>8001</td>\n      <td>BARRANQUILLA</td>\n      <td>136635</td>\n    </tr>\n    <tr>\n      <th>4</th>\n      <td>2013/01</td>\n      <td>13</td>\n      <td>BOLÍVAR</td>\n      <td>13001</td>\n      <td>CARTAGENA DE INDIAS</td>\n      <td>105065</td>\n    </tr>\n    <tr>\n      <th>...</th>\n      <td>...</td>\n      <td>...</td>\n      <td>...</td>\n      <td>...</td>\n      <td>...</td>\n      <td>...</td>\n    </tr>\n    <tr>\n      <th>122648</th>\n      <td>2022/03</td>\n      <td>97</td>\n      <td>VAUPÉS</td>\n      <td>97889</td>\n      <td>YAVARATÉ</td>\n      <td>4</td>\n    </tr>\n    <tr>\n      <th>122649</th>\n      <td>2022/03</td>\n      <td>52</td>\n      <td>NARIÑO</td>\n      <td>52565</td>\n      <td>PROVIDENCIA</td>\n      <td>3</td>\n    </tr>\n    <tr>\n      <th>122650</th>\n      <td>2022/03</td>\n      <td>94</td>\n      <td>GUAINÍA</td>\n      <td>94887</td>\n      <td>PANA PANA</td>\n      <td>2</td>\n    </tr>\n    <tr>\n      <th>122651</th>\n      <td>2022/03</td>\n      <td>91</td>\n      <td>AMAZONAS</td>\n      <td>91430</td>\n      <td>LA VICTORIA</td>\n      <td>1</td>\n    </tr>\n    <tr>\n      <th>122652</th>\n      <td>2022/03</td>\n      <td>97</td>\n      <td>VAUPÉS</td>\n      <td>97511</td>\n      <td>PACOA</td>\n      <td>1</td>\n    </tr>\n  </tbody>\n</table>\n<p>122653 rows × 6 columns</p>\n</div>"
     },
     "execution_count": 322,
     "metadata": {},
     "output_type": "execute_result"
    }
   ],
   "source": [
    "df_tv_sucrp_dpto = pd.read_csv('./bases_datos/suscriptores_tv_mpio.csv')\n",
    "df_tv_sucrp_dpto"
   ],
   "metadata": {
    "collapsed": false,
    "pycharm": {
     "name": "#%%\n"
    }
   }
  },
  {
   "cell_type": "markdown",
   "source": [
    "Organizar los datos por municipio"
   ],
   "metadata": {
    "collapsed": false,
    "pycharm": {
     "name": "#%% md\n"
    }
   }
  },
  {
   "cell_type": "code",
   "execution_count": 323,
   "outputs": [
    {
     "data": {
      "text/plain": "      departamento       municipio 2013/01 2013/02 2013/03 2013/04 2013/05  \\\n5001     ANTIOQUIA        MEDELLÍN  429656  434842  437496  440099  441941   \n5002     ANTIOQUIA       ABEJORRAL     121     122     139     137     140   \n5004     ANTIOQUIA        ABRIAQUÍ      31      13      12      10      10   \n5021     ANTIOQUIA      ALEJANDRÍA      58      54      60      66      66   \n5030     ANTIOQUIA           AMAGÁ    1610    1721    1801    1758    1692   \n...            ...             ...     ...     ...     ...     ...     ...   \n97889       VAUPÉS        YAVARATÉ       1       1       1       1       1   \n99001      VICHADA  PUERTO CARREÑO    1823    1750    1765    1794    1811   \n99524      VICHADA    LA PRIMAVERA     151     162     170     174     186   \n99624      VICHADA   SANTA ROSALÍA     115     117     122     125     128   \n99773      VICHADA        CUMARIBO     362     357     338     337     343   \n\n      2013/06 2013/07 2013/08  ... 2021/06 2021/07 2021/08 2021/09 2021/10  \\\n5001   442715  441317  442757  ...  564524  566002  568814  572539  578213   \n5002      156     150     160  ...     444     452     464     467     503   \n5004       19      23      24  ...     354     342     363     362     382   \n5021       65      67      69  ...     147     141     135     128     127   \n5030     1589    1604    1619  ...    1945    1954    1261    1238    1768   \n...       ...     ...     ...  ...     ...     ...     ...     ...     ...   \n97889     NaN     NaN     NaN  ...       4       3       4       3       1   \n99001    1814    1867    1884  ...    2347    2307    2270    2278    2249   \n99524     188     193     200  ...     367     358     374     380     370   \n99624     120     126     130  ...     127     128     131     131     125   \n99773     329     350     345  ...     826     772     730     696     624   \n\n      2021/11 2021/12 2022/01 2022/02 2022/03  \n5001   585230  587439  594804  599744  603056  \n5002      521     517     538     529     540  \n5004      417     393     405     384     369  \n5021      128     165     142     142     136  \n5030     1717    1684    1651    1638    1615  \n...       ...     ...     ...     ...     ...  \n97889       2       4       3       4       4  \n99001    2310    2281    2291    2262    2313  \n99524     389     402     453     427     461  \n99624     131     122     127     124     123  \n99773     686     738     724     706     823  \n\n[1121 rows x 113 columns]",
      "text/html": "<div>\n<style scoped>\n    .dataframe tbody tr th:only-of-type {\n        vertical-align: middle;\n    }\n\n    .dataframe tbody tr th {\n        vertical-align: top;\n    }\n\n    .dataframe thead th {\n        text-align: right;\n    }\n</style>\n<table border=\"1\" class=\"dataframe\">\n  <thead>\n    <tr style=\"text-align: right;\">\n      <th></th>\n      <th>departamento</th>\n      <th>municipio</th>\n      <th>2013/01</th>\n      <th>2013/02</th>\n      <th>2013/03</th>\n      <th>2013/04</th>\n      <th>2013/05</th>\n      <th>2013/06</th>\n      <th>2013/07</th>\n      <th>2013/08</th>\n      <th>...</th>\n      <th>2021/06</th>\n      <th>2021/07</th>\n      <th>2021/08</th>\n      <th>2021/09</th>\n      <th>2021/10</th>\n      <th>2021/11</th>\n      <th>2021/12</th>\n      <th>2022/01</th>\n      <th>2022/02</th>\n      <th>2022/03</th>\n    </tr>\n  </thead>\n  <tbody>\n    <tr>\n      <th>5001</th>\n      <td>ANTIOQUIA</td>\n      <td>MEDELLÍN</td>\n      <td>429656</td>\n      <td>434842</td>\n      <td>437496</td>\n      <td>440099</td>\n      <td>441941</td>\n      <td>442715</td>\n      <td>441317</td>\n      <td>442757</td>\n      <td>...</td>\n      <td>564524</td>\n      <td>566002</td>\n      <td>568814</td>\n      <td>572539</td>\n      <td>578213</td>\n      <td>585230</td>\n      <td>587439</td>\n      <td>594804</td>\n      <td>599744</td>\n      <td>603056</td>\n    </tr>\n    <tr>\n      <th>5002</th>\n      <td>ANTIOQUIA</td>\n      <td>ABEJORRAL</td>\n      <td>121</td>\n      <td>122</td>\n      <td>139</td>\n      <td>137</td>\n      <td>140</td>\n      <td>156</td>\n      <td>150</td>\n      <td>160</td>\n      <td>...</td>\n      <td>444</td>\n      <td>452</td>\n      <td>464</td>\n      <td>467</td>\n      <td>503</td>\n      <td>521</td>\n      <td>517</td>\n      <td>538</td>\n      <td>529</td>\n      <td>540</td>\n    </tr>\n    <tr>\n      <th>5004</th>\n      <td>ANTIOQUIA</td>\n      <td>ABRIAQUÍ</td>\n      <td>31</td>\n      <td>13</td>\n      <td>12</td>\n      <td>10</td>\n      <td>10</td>\n      <td>19</td>\n      <td>23</td>\n      <td>24</td>\n      <td>...</td>\n      <td>354</td>\n      <td>342</td>\n      <td>363</td>\n      <td>362</td>\n      <td>382</td>\n      <td>417</td>\n      <td>393</td>\n      <td>405</td>\n      <td>384</td>\n      <td>369</td>\n    </tr>\n    <tr>\n      <th>5021</th>\n      <td>ANTIOQUIA</td>\n      <td>ALEJANDRÍA</td>\n      <td>58</td>\n      <td>54</td>\n      <td>60</td>\n      <td>66</td>\n      <td>66</td>\n      <td>65</td>\n      <td>67</td>\n      <td>69</td>\n      <td>...</td>\n      <td>147</td>\n      <td>141</td>\n      <td>135</td>\n      <td>128</td>\n      <td>127</td>\n      <td>128</td>\n      <td>165</td>\n      <td>142</td>\n      <td>142</td>\n      <td>136</td>\n    </tr>\n    <tr>\n      <th>5030</th>\n      <td>ANTIOQUIA</td>\n      <td>AMAGÁ</td>\n      <td>1610</td>\n      <td>1721</td>\n      <td>1801</td>\n      <td>1758</td>\n      <td>1692</td>\n      <td>1589</td>\n      <td>1604</td>\n      <td>1619</td>\n      <td>...</td>\n      <td>1945</td>\n      <td>1954</td>\n      <td>1261</td>\n      <td>1238</td>\n      <td>1768</td>\n      <td>1717</td>\n      <td>1684</td>\n      <td>1651</td>\n      <td>1638</td>\n      <td>1615</td>\n    </tr>\n    <tr>\n      <th>...</th>\n      <td>...</td>\n      <td>...</td>\n      <td>...</td>\n      <td>...</td>\n      <td>...</td>\n      <td>...</td>\n      <td>...</td>\n      <td>...</td>\n      <td>...</td>\n      <td>...</td>\n      <td>...</td>\n      <td>...</td>\n      <td>...</td>\n      <td>...</td>\n      <td>...</td>\n      <td>...</td>\n      <td>...</td>\n      <td>...</td>\n      <td>...</td>\n      <td>...</td>\n      <td>...</td>\n    </tr>\n    <tr>\n      <th>97889</th>\n      <td>VAUPÉS</td>\n      <td>YAVARATÉ</td>\n      <td>1</td>\n      <td>1</td>\n      <td>1</td>\n      <td>1</td>\n      <td>1</td>\n      <td>NaN</td>\n      <td>NaN</td>\n      <td>NaN</td>\n      <td>...</td>\n      <td>4</td>\n      <td>3</td>\n      <td>4</td>\n      <td>3</td>\n      <td>1</td>\n      <td>2</td>\n      <td>4</td>\n      <td>3</td>\n      <td>4</td>\n      <td>4</td>\n    </tr>\n    <tr>\n      <th>99001</th>\n      <td>VICHADA</td>\n      <td>PUERTO CARREÑO</td>\n      <td>1823</td>\n      <td>1750</td>\n      <td>1765</td>\n      <td>1794</td>\n      <td>1811</td>\n      <td>1814</td>\n      <td>1867</td>\n      <td>1884</td>\n      <td>...</td>\n      <td>2347</td>\n      <td>2307</td>\n      <td>2270</td>\n      <td>2278</td>\n      <td>2249</td>\n      <td>2310</td>\n      <td>2281</td>\n      <td>2291</td>\n      <td>2262</td>\n      <td>2313</td>\n    </tr>\n    <tr>\n      <th>99524</th>\n      <td>VICHADA</td>\n      <td>LA PRIMAVERA</td>\n      <td>151</td>\n      <td>162</td>\n      <td>170</td>\n      <td>174</td>\n      <td>186</td>\n      <td>188</td>\n      <td>193</td>\n      <td>200</td>\n      <td>...</td>\n      <td>367</td>\n      <td>358</td>\n      <td>374</td>\n      <td>380</td>\n      <td>370</td>\n      <td>389</td>\n      <td>402</td>\n      <td>453</td>\n      <td>427</td>\n      <td>461</td>\n    </tr>\n    <tr>\n      <th>99624</th>\n      <td>VICHADA</td>\n      <td>SANTA ROSALÍA</td>\n      <td>115</td>\n      <td>117</td>\n      <td>122</td>\n      <td>125</td>\n      <td>128</td>\n      <td>120</td>\n      <td>126</td>\n      <td>130</td>\n      <td>...</td>\n      <td>127</td>\n      <td>128</td>\n      <td>131</td>\n      <td>131</td>\n      <td>125</td>\n      <td>131</td>\n      <td>122</td>\n      <td>127</td>\n      <td>124</td>\n      <td>123</td>\n    </tr>\n    <tr>\n      <th>99773</th>\n      <td>VICHADA</td>\n      <td>CUMARIBO</td>\n      <td>362</td>\n      <td>357</td>\n      <td>338</td>\n      <td>337</td>\n      <td>343</td>\n      <td>329</td>\n      <td>350</td>\n      <td>345</td>\n      <td>...</td>\n      <td>826</td>\n      <td>772</td>\n      <td>730</td>\n      <td>696</td>\n      <td>624</td>\n      <td>686</td>\n      <td>738</td>\n      <td>724</td>\n      <td>706</td>\n      <td>823</td>\n    </tr>\n  </tbody>\n</table>\n<p>1121 rows × 113 columns</p>\n</div>"
     },
     "execution_count": 323,
     "metadata": {},
     "output_type": "execute_result"
    }
   ],
   "source": [
    "df = pd.DataFrame(columns=datetime_list)\n",
    "for index, municipio_info in lista_dpto_mpio.iterrows():\n",
    "    df_dpto_temp = df_tv_sucrp_dpto[df_tv_sucrp_dpto['id_municipio'] == municipio_info['id_municipio']].drop(['id_departamento', 'departamento','id_municipio', 'municipio'], axis=1)\n",
    "    df_dpto_temp = df_dpto_temp.rename(columns = {'suscriptores': municipio_info['id_municipio']}).set_index(['datetime']).T\n",
    "    df_dpto_temp['municipio'] = municipio_info['municipio']\n",
    "    df_dpto_temp['departamento'] = municipio_info['departamento']\n",
    "    df = pd.concat([df, df_dpto_temp])\n",
    "\n",
    "new_columns = list(df.columns)[:-2]\n",
    "new_columns.insert(0, 'departamento')\n",
    "new_columns.insert(1, 'municipio')\n",
    "df = df[new_columns]\n",
    "df.dropna(subset=['municipio'], inplace=True)\n",
    "df.to_csv('./bases_datos/suscriptores_tv_mpio_2.csv')\n",
    "df"
   ],
   "metadata": {
    "collapsed": false,
    "pycharm": {
     "name": "#%%\n"
    }
   }
  },
  {
   "cell_type": "markdown",
   "source": [
    "## Cruce de los datos de suscripción con los de vivienda (DANE)"
   ],
   "metadata": {
    "collapsed": false,
    "pycharm": {
     "name": "#%% md\n"
    }
   }
  },
  {
   "cell_type": "code",
   "execution_count": 324,
   "outputs": [
    {
     "data": {
      "text/plain": "               depto            mpio      2013      2014      2015      2016  \\\nmpio_id_x                                                                      \n5001.0     Antioquia        Medellín  731307.0  757919.0  785770.0  815365.0   \n5002.0     Antioquia       Abejorral    8743.0    8944.0    9052.0    9171.0   \n5004.0     Antioquia        Abriaquí    1105.0    1122.0    1142.0    1166.0   \n5021.0     Antioquia      Alejandría    2123.0    2205.0    2291.0    2322.0   \n5030.0     Antioquia           Amagá   10302.0   10711.0   11138.0   11405.0   \n...              ...             ...       ...       ...       ...       ...   \n97889.0       Vaupés   Yavaraté (CD)     107.0     113.0     117.0     120.0   \n99001.0      Vichada  Puerto Carreño    6088.0    6310.0    6557.0    6809.0   \n99524.0      Vichada    La Primavera    2776.0    2920.0    3071.0    3223.0   \n99624.0      Vichada   Santa Rosalía     867.0     934.0    1001.0    1051.0   \n99773.0      Vichada        Cumaribo   12394.0   13041.0   13726.0   14493.0   \n\n               2017      2018      2019      2020  ...       2026       2027  \\\nmpio_id_x                                          ...                         \n5001.0     847631.0  875182.0  912028.0  947700.0  ...  1159832.0  1196061.0   \n5002.0       9323.0    9363.0    9478.0    9607.0  ...    11256.0    11543.0   \n5004.0       1193.0    1237.0    1255.0    1273.0  ...     1542.0     1579.0   \n5021.0       2371.0    2520.0    2582.0    2642.0  ...     3069.0     3156.0   \n5030.0      11672.0   12046.0   12351.0   12649.0  ...    15038.0    15435.0   \n...             ...       ...       ...       ...  ...        ...        ...   \n97889.0       124.0     188.0     188.0     188.0  ...      194.0      197.0   \n99001.0      7076.0    7414.0    7667.0    7878.0  ...     8957.0     9138.0   \n99524.0      3401.0    3532.0    3649.0    3752.0  ...     4250.0     4375.0   \n99624.0      1118.0    1261.0    1318.0    1370.0  ...     1540.0     1576.0   \n99773.0     15342.0   16286.0   17274.0   18217.0  ...    22828.0    23675.0   \n\n                2028       2029       2030       2031       2032       2033  \\\nmpio_id_x                                                                     \n5001.0     1231192.0  1264978.0  1297160.0  1328247.0  1358721.0  1388597.0   \n5002.0       11833.0    12133.0    12421.0    12711.0    13002.0    13300.0   \n5004.0        1618.0     1655.0     1701.0     1736.0     1782.0     1817.0   \n5021.0        3243.0     3330.0     3406.0     3493.0     3570.0     3645.0   \n5030.0       15830.0    16231.0    16626.0    17032.0    17423.0    17807.0   \n...              ...        ...        ...        ...        ...        ...   \n97889.0        199.0      201.0      213.0      227.0      242.0      258.0   \n99001.0       9301.0     9495.0     9750.0    10003.0    10239.0    10485.0   \n99524.0       4500.0     4623.0     4764.0     4897.0     5033.0     5169.0   \n99624.0       1620.0     1670.0     1719.0     1769.0     1821.0     1866.0   \n99773.0      24580.0    25498.0    26424.0    27398.0    28398.0    29427.0   \n\n                2034       2035  \nmpio_id_x                        \n5001.0     1417922.0  1446673.0  \n5002.0       13597.0    13868.0  \n5004.0        1861.0     1898.0  \n5021.0        3735.0     3810.0  \n5030.0       18192.0    18570.0  \n...              ...        ...  \n97889.0        277.0      297.0  \n99001.0      10729.0    10959.0  \n99524.0       5299.0     5426.0  \n99624.0       1918.0     1966.0  \n99773.0      30477.0    31560.0  \n\n[1122 rows x 25 columns]",
      "text/html": "<div>\n<style scoped>\n    .dataframe tbody tr th:only-of-type {\n        vertical-align: middle;\n    }\n\n    .dataframe tbody tr th {\n        vertical-align: top;\n    }\n\n    .dataframe thead th {\n        text-align: right;\n    }\n</style>\n<table border=\"1\" class=\"dataframe\">\n  <thead>\n    <tr style=\"text-align: right;\">\n      <th></th>\n      <th>depto</th>\n      <th>mpio</th>\n      <th>2013</th>\n      <th>2014</th>\n      <th>2015</th>\n      <th>2016</th>\n      <th>2017</th>\n      <th>2018</th>\n      <th>2019</th>\n      <th>2020</th>\n      <th>...</th>\n      <th>2026</th>\n      <th>2027</th>\n      <th>2028</th>\n      <th>2029</th>\n      <th>2030</th>\n      <th>2031</th>\n      <th>2032</th>\n      <th>2033</th>\n      <th>2034</th>\n      <th>2035</th>\n    </tr>\n    <tr>\n      <th>mpio_id_x</th>\n      <th></th>\n      <th></th>\n      <th></th>\n      <th></th>\n      <th></th>\n      <th></th>\n      <th></th>\n      <th></th>\n      <th></th>\n      <th></th>\n      <th></th>\n      <th></th>\n      <th></th>\n      <th></th>\n      <th></th>\n      <th></th>\n      <th></th>\n      <th></th>\n      <th></th>\n      <th></th>\n      <th></th>\n    </tr>\n  </thead>\n  <tbody>\n    <tr>\n      <th>5001.0</th>\n      <td>Antioquia</td>\n      <td>Medellín</td>\n      <td>731307.0</td>\n      <td>757919.0</td>\n      <td>785770.0</td>\n      <td>815365.0</td>\n      <td>847631.0</td>\n      <td>875182.0</td>\n      <td>912028.0</td>\n      <td>947700.0</td>\n      <td>...</td>\n      <td>1159832.0</td>\n      <td>1196061.0</td>\n      <td>1231192.0</td>\n      <td>1264978.0</td>\n      <td>1297160.0</td>\n      <td>1328247.0</td>\n      <td>1358721.0</td>\n      <td>1388597.0</td>\n      <td>1417922.0</td>\n      <td>1446673.0</td>\n    </tr>\n    <tr>\n      <th>5002.0</th>\n      <td>Antioquia</td>\n      <td>Abejorral</td>\n      <td>8743.0</td>\n      <td>8944.0</td>\n      <td>9052.0</td>\n      <td>9171.0</td>\n      <td>9323.0</td>\n      <td>9363.0</td>\n      <td>9478.0</td>\n      <td>9607.0</td>\n      <td>...</td>\n      <td>11256.0</td>\n      <td>11543.0</td>\n      <td>11833.0</td>\n      <td>12133.0</td>\n      <td>12421.0</td>\n      <td>12711.0</td>\n      <td>13002.0</td>\n      <td>13300.0</td>\n      <td>13597.0</td>\n      <td>13868.0</td>\n    </tr>\n    <tr>\n      <th>5004.0</th>\n      <td>Antioquia</td>\n      <td>Abriaquí</td>\n      <td>1105.0</td>\n      <td>1122.0</td>\n      <td>1142.0</td>\n      <td>1166.0</td>\n      <td>1193.0</td>\n      <td>1237.0</td>\n      <td>1255.0</td>\n      <td>1273.0</td>\n      <td>...</td>\n      <td>1542.0</td>\n      <td>1579.0</td>\n      <td>1618.0</td>\n      <td>1655.0</td>\n      <td>1701.0</td>\n      <td>1736.0</td>\n      <td>1782.0</td>\n      <td>1817.0</td>\n      <td>1861.0</td>\n      <td>1898.0</td>\n    </tr>\n    <tr>\n      <th>5021.0</th>\n      <td>Antioquia</td>\n      <td>Alejandría</td>\n      <td>2123.0</td>\n      <td>2205.0</td>\n      <td>2291.0</td>\n      <td>2322.0</td>\n      <td>2371.0</td>\n      <td>2520.0</td>\n      <td>2582.0</td>\n      <td>2642.0</td>\n      <td>...</td>\n      <td>3069.0</td>\n      <td>3156.0</td>\n      <td>3243.0</td>\n      <td>3330.0</td>\n      <td>3406.0</td>\n      <td>3493.0</td>\n      <td>3570.0</td>\n      <td>3645.0</td>\n      <td>3735.0</td>\n      <td>3810.0</td>\n    </tr>\n    <tr>\n      <th>5030.0</th>\n      <td>Antioquia</td>\n      <td>Amagá</td>\n      <td>10302.0</td>\n      <td>10711.0</td>\n      <td>11138.0</td>\n      <td>11405.0</td>\n      <td>11672.0</td>\n      <td>12046.0</td>\n      <td>12351.0</td>\n      <td>12649.0</td>\n      <td>...</td>\n      <td>15038.0</td>\n      <td>15435.0</td>\n      <td>15830.0</td>\n      <td>16231.0</td>\n      <td>16626.0</td>\n      <td>17032.0</td>\n      <td>17423.0</td>\n      <td>17807.0</td>\n      <td>18192.0</td>\n      <td>18570.0</td>\n    </tr>\n    <tr>\n      <th>...</th>\n      <td>...</td>\n      <td>...</td>\n      <td>...</td>\n      <td>...</td>\n      <td>...</td>\n      <td>...</td>\n      <td>...</td>\n      <td>...</td>\n      <td>...</td>\n      <td>...</td>\n      <td>...</td>\n      <td>...</td>\n      <td>...</td>\n      <td>...</td>\n      <td>...</td>\n      <td>...</td>\n      <td>...</td>\n      <td>...</td>\n      <td>...</td>\n      <td>...</td>\n      <td>...</td>\n    </tr>\n    <tr>\n      <th>97889.0</th>\n      <td>Vaupés</td>\n      <td>Yavaraté (CD)</td>\n      <td>107.0</td>\n      <td>113.0</td>\n      <td>117.0</td>\n      <td>120.0</td>\n      <td>124.0</td>\n      <td>188.0</td>\n      <td>188.0</td>\n      <td>188.0</td>\n      <td>...</td>\n      <td>194.0</td>\n      <td>197.0</td>\n      <td>199.0</td>\n      <td>201.0</td>\n      <td>213.0</td>\n      <td>227.0</td>\n      <td>242.0</td>\n      <td>258.0</td>\n      <td>277.0</td>\n      <td>297.0</td>\n    </tr>\n    <tr>\n      <th>99001.0</th>\n      <td>Vichada</td>\n      <td>Puerto Carreño</td>\n      <td>6088.0</td>\n      <td>6310.0</td>\n      <td>6557.0</td>\n      <td>6809.0</td>\n      <td>7076.0</td>\n      <td>7414.0</td>\n      <td>7667.0</td>\n      <td>7878.0</td>\n      <td>...</td>\n      <td>8957.0</td>\n      <td>9138.0</td>\n      <td>9301.0</td>\n      <td>9495.0</td>\n      <td>9750.0</td>\n      <td>10003.0</td>\n      <td>10239.0</td>\n      <td>10485.0</td>\n      <td>10729.0</td>\n      <td>10959.0</td>\n    </tr>\n    <tr>\n      <th>99524.0</th>\n      <td>Vichada</td>\n      <td>La Primavera</td>\n      <td>2776.0</td>\n      <td>2920.0</td>\n      <td>3071.0</td>\n      <td>3223.0</td>\n      <td>3401.0</td>\n      <td>3532.0</td>\n      <td>3649.0</td>\n      <td>3752.0</td>\n      <td>...</td>\n      <td>4250.0</td>\n      <td>4375.0</td>\n      <td>4500.0</td>\n      <td>4623.0</td>\n      <td>4764.0</td>\n      <td>4897.0</td>\n      <td>5033.0</td>\n      <td>5169.0</td>\n      <td>5299.0</td>\n      <td>5426.0</td>\n    </tr>\n    <tr>\n      <th>99624.0</th>\n      <td>Vichada</td>\n      <td>Santa Rosalía</td>\n      <td>867.0</td>\n      <td>934.0</td>\n      <td>1001.0</td>\n      <td>1051.0</td>\n      <td>1118.0</td>\n      <td>1261.0</td>\n      <td>1318.0</td>\n      <td>1370.0</td>\n      <td>...</td>\n      <td>1540.0</td>\n      <td>1576.0</td>\n      <td>1620.0</td>\n      <td>1670.0</td>\n      <td>1719.0</td>\n      <td>1769.0</td>\n      <td>1821.0</td>\n      <td>1866.0</td>\n      <td>1918.0</td>\n      <td>1966.0</td>\n    </tr>\n    <tr>\n      <th>99773.0</th>\n      <td>Vichada</td>\n      <td>Cumaribo</td>\n      <td>12394.0</td>\n      <td>13041.0</td>\n      <td>13726.0</td>\n      <td>14493.0</td>\n      <td>15342.0</td>\n      <td>16286.0</td>\n      <td>17274.0</td>\n      <td>18217.0</td>\n      <td>...</td>\n      <td>22828.0</td>\n      <td>23675.0</td>\n      <td>24580.0</td>\n      <td>25498.0</td>\n      <td>26424.0</td>\n      <td>27398.0</td>\n      <td>28398.0</td>\n      <td>29427.0</td>\n      <td>30477.0</td>\n      <td>31560.0</td>\n    </tr>\n  </tbody>\n</table>\n<p>1122 rows × 25 columns</p>\n</div>"
     },
     "execution_count": 324,
     "metadata": {},
     "output_type": "execute_result"
    }
   ],
   "source": [
    "df_viv1=pd.read_excel(\"./dane/vivi1.xlsx\",sheet_name=\"esta\")[1:]\n",
    "df_viv2=pd.read_excel(\"./dane/vivi2.xlsx\",sheet_name=\"esta\")[1:]\n",
    "df_viv=df_viv1.merge(df_viv2,on=[\"depto\",\"mpio\",\"tipo\"],how='outer').fillna(0)\n",
    "del df_viv2,df_viv1\n",
    "df_viv = df_viv[df_viv['tipo']=='Total'].drop(['depto_id_x', 'tipo', 'depto_id_y', 'mpio_id_y',\n",
    "                                               2005, 2006, 2007, 2008, 2009, 2010, 2011,\n",
    "                                               2012], axis=1)\n",
    "df_viv.columns = df_viv.columns.astype(str)\n",
    "df_viv.set_index('mpio_id_x', inplace=True)\n",
    "df_viv"
   ],
   "metadata": {
    "collapsed": false,
    "pycharm": {
     "name": "#%%\n"
    }
   }
  },
  {
   "cell_type": "code",
   "execution_count": 325,
   "outputs": [],
   "source": [
    "lista_info = list()\n",
    "for index, row in df.iterrows():\n",
    "    new_row = [row.name,  row['departamento'], row['municipio']]\n",
    "    for date in datetime_list:\n",
    "        new_row.append(round(row[date] / df_viv.loc[index][date[:-3]] * 100, 2))\n",
    "    lista_info.append(new_row)\n",
    "df_tv_suscrip_percent = pd.DataFrame(lista_info, columns=df.columns.insert(0,'municipio_id'))\n",
    "df_tv_suscrip_percent.set_index(['municipio_id'], inplace=True)\n",
    "df_tv_suscrip_percent = df_tv_suscrip_percent.fillna(0)\n",
    "# Guardar los datos\n",
    "df_tv_suscrip_percent.to_csv('./bases_datos/suscriptores_tv_mpio_porcentaje.csv')"
   ],
   "metadata": {
    "collapsed": false,
    "pycharm": {
     "name": "#%%\n"
    }
   }
  },
  {
   "cell_type": "code",
   "execution_count": 326,
   "outputs": [
    {
     "data": {
      "text/plain": "             departamento       municipio  2013/01  2013/02  2013/03  2013/04  \\\nmunicipio_id                                                                    \n5001            ANTIOQUIA        MEDELLÍN    58.75    59.46    59.82    60.18   \n5002            ANTIOQUIA       ABEJORRAL     1.38     1.40     1.59     1.57   \n5004            ANTIOQUIA        ABRIAQUÍ     2.81     1.18     1.09     0.90   \n5021            ANTIOQUIA      ALEJANDRÍA     2.73     2.54     2.83     3.11   \n5030            ANTIOQUIA           AMAGÁ    15.63    16.71    17.48    17.06   \n...                   ...             ...      ...      ...      ...      ...   \n97889              VAUPÉS        YAVARATÉ     0.93     0.93     0.93     0.93   \n99001             VICHADA  PUERTO CARREÑO    29.94    28.75    28.99    29.47   \n99524             VICHADA    LA PRIMAVERA     5.44     5.84     6.12     6.27   \n99624             VICHADA   SANTA ROSALÍA    13.26    13.49    14.07    14.42   \n99773             VICHADA        CUMARIBO     2.92     2.88     2.73     2.72   \n\n              2013/05  2013/06  2013/07  2013/08  ...  2021/06  2021/07  \\\nmunicipio_id                                      ...                     \n5001            60.43    60.54    60.35    60.54  ...    57.57    57.72   \n5002             1.60     1.78     1.72     1.83  ...     4.49     4.57   \n5004             0.90     1.72     2.08     2.17  ...    26.74    25.83   \n5021             3.11     3.06     3.16     3.25  ...     5.41     5.19   \n5030            16.42    15.42    15.57    15.72  ...    14.94    15.01   \n...               ...      ...      ...      ...  ...      ...      ...   \n97889            0.93     0.00     0.00     0.00  ...     2.13     1.60   \n99001           29.75    29.80    30.67    30.95  ...    29.04    28.54   \n99524            6.70     6.77     6.95     7.20  ...     9.59     9.35   \n99624           14.76    13.84    14.53    14.99  ...     9.08     9.15   \n99773            2.77     2.65     2.82     2.78  ...     4.35     4.06   \n\n              2021/08  2021/09  2021/10  2021/11  2021/12  2022/01  2022/02  \\\nmunicipio_id                                                                  \n5001            58.01    58.39    58.96    59.68    59.91    58.64    59.13   \n5002             4.69     4.72     5.08     5.27     5.23     5.31     5.22   \n5004            27.42    27.34    28.85    31.50    29.68    29.48    27.95   \n5021             4.97     4.71     4.67     4.71     6.07     5.10     5.10   \n5030             9.69     9.51    13.58    13.19    12.94    12.29    12.19   \n...               ...      ...      ...      ...      ...      ...      ...   \n97889            2.13     1.60     0.53     1.06     2.13     1.60     2.13   \n99001           28.08    28.18    27.82    28.58    28.22    27.76    27.41   \n99524            9.77     9.93     9.67    10.16    10.50    11.63    10.97   \n99624            9.36     9.36     8.93     9.36     8.72     8.92     8.71   \n99773            3.84     3.66     3.29     3.61     3.89     3.67     3.58   \n\n              2022/03  \nmunicipio_id           \n5001            59.46  \n5002             5.33  \n5004            26.86  \n5021             4.88  \n5030            12.02  \n...               ...  \n97889            2.13  \n99001           28.03  \n99524           11.84  \n99624            8.64  \n99773            4.17  \n\n[1121 rows x 113 columns]",
      "text/html": "<div>\n<style scoped>\n    .dataframe tbody tr th:only-of-type {\n        vertical-align: middle;\n    }\n\n    .dataframe tbody tr th {\n        vertical-align: top;\n    }\n\n    .dataframe thead th {\n        text-align: right;\n    }\n</style>\n<table border=\"1\" class=\"dataframe\">\n  <thead>\n    <tr style=\"text-align: right;\">\n      <th></th>\n      <th>departamento</th>\n      <th>municipio</th>\n      <th>2013/01</th>\n      <th>2013/02</th>\n      <th>2013/03</th>\n      <th>2013/04</th>\n      <th>2013/05</th>\n      <th>2013/06</th>\n      <th>2013/07</th>\n      <th>2013/08</th>\n      <th>...</th>\n      <th>2021/06</th>\n      <th>2021/07</th>\n      <th>2021/08</th>\n      <th>2021/09</th>\n      <th>2021/10</th>\n      <th>2021/11</th>\n      <th>2021/12</th>\n      <th>2022/01</th>\n      <th>2022/02</th>\n      <th>2022/03</th>\n    </tr>\n    <tr>\n      <th>municipio_id</th>\n      <th></th>\n      <th></th>\n      <th></th>\n      <th></th>\n      <th></th>\n      <th></th>\n      <th></th>\n      <th></th>\n      <th></th>\n      <th></th>\n      <th></th>\n      <th></th>\n      <th></th>\n      <th></th>\n      <th></th>\n      <th></th>\n      <th></th>\n      <th></th>\n      <th></th>\n      <th></th>\n      <th></th>\n    </tr>\n  </thead>\n  <tbody>\n    <tr>\n      <th>5001</th>\n      <td>ANTIOQUIA</td>\n      <td>MEDELLÍN</td>\n      <td>58.75</td>\n      <td>59.46</td>\n      <td>59.82</td>\n      <td>60.18</td>\n      <td>60.43</td>\n      <td>60.54</td>\n      <td>60.35</td>\n      <td>60.54</td>\n      <td>...</td>\n      <td>57.57</td>\n      <td>57.72</td>\n      <td>58.01</td>\n      <td>58.39</td>\n      <td>58.96</td>\n      <td>59.68</td>\n      <td>59.91</td>\n      <td>58.64</td>\n      <td>59.13</td>\n      <td>59.46</td>\n    </tr>\n    <tr>\n      <th>5002</th>\n      <td>ANTIOQUIA</td>\n      <td>ABEJORRAL</td>\n      <td>1.38</td>\n      <td>1.40</td>\n      <td>1.59</td>\n      <td>1.57</td>\n      <td>1.60</td>\n      <td>1.78</td>\n      <td>1.72</td>\n      <td>1.83</td>\n      <td>...</td>\n      <td>4.49</td>\n      <td>4.57</td>\n      <td>4.69</td>\n      <td>4.72</td>\n      <td>5.08</td>\n      <td>5.27</td>\n      <td>5.23</td>\n      <td>5.31</td>\n      <td>5.22</td>\n      <td>5.33</td>\n    </tr>\n    <tr>\n      <th>5004</th>\n      <td>ANTIOQUIA</td>\n      <td>ABRIAQUÍ</td>\n      <td>2.81</td>\n      <td>1.18</td>\n      <td>1.09</td>\n      <td>0.90</td>\n      <td>0.90</td>\n      <td>1.72</td>\n      <td>2.08</td>\n      <td>2.17</td>\n      <td>...</td>\n      <td>26.74</td>\n      <td>25.83</td>\n      <td>27.42</td>\n      <td>27.34</td>\n      <td>28.85</td>\n      <td>31.50</td>\n      <td>29.68</td>\n      <td>29.48</td>\n      <td>27.95</td>\n      <td>26.86</td>\n    </tr>\n    <tr>\n      <th>5021</th>\n      <td>ANTIOQUIA</td>\n      <td>ALEJANDRÍA</td>\n      <td>2.73</td>\n      <td>2.54</td>\n      <td>2.83</td>\n      <td>3.11</td>\n      <td>3.11</td>\n      <td>3.06</td>\n      <td>3.16</td>\n      <td>3.25</td>\n      <td>...</td>\n      <td>5.41</td>\n      <td>5.19</td>\n      <td>4.97</td>\n      <td>4.71</td>\n      <td>4.67</td>\n      <td>4.71</td>\n      <td>6.07</td>\n      <td>5.10</td>\n      <td>5.10</td>\n      <td>4.88</td>\n    </tr>\n    <tr>\n      <th>5030</th>\n      <td>ANTIOQUIA</td>\n      <td>AMAGÁ</td>\n      <td>15.63</td>\n      <td>16.71</td>\n      <td>17.48</td>\n      <td>17.06</td>\n      <td>16.42</td>\n      <td>15.42</td>\n      <td>15.57</td>\n      <td>15.72</td>\n      <td>...</td>\n      <td>14.94</td>\n      <td>15.01</td>\n      <td>9.69</td>\n      <td>9.51</td>\n      <td>13.58</td>\n      <td>13.19</td>\n      <td>12.94</td>\n      <td>12.29</td>\n      <td>12.19</td>\n      <td>12.02</td>\n    </tr>\n    <tr>\n      <th>...</th>\n      <td>...</td>\n      <td>...</td>\n      <td>...</td>\n      <td>...</td>\n      <td>...</td>\n      <td>...</td>\n      <td>...</td>\n      <td>...</td>\n      <td>...</td>\n      <td>...</td>\n      <td>...</td>\n      <td>...</td>\n      <td>...</td>\n      <td>...</td>\n      <td>...</td>\n      <td>...</td>\n      <td>...</td>\n      <td>...</td>\n      <td>...</td>\n      <td>...</td>\n      <td>...</td>\n    </tr>\n    <tr>\n      <th>97889</th>\n      <td>VAUPÉS</td>\n      <td>YAVARATÉ</td>\n      <td>0.93</td>\n      <td>0.93</td>\n      <td>0.93</td>\n      <td>0.93</td>\n      <td>0.93</td>\n      <td>0.00</td>\n      <td>0.00</td>\n      <td>0.00</td>\n      <td>...</td>\n      <td>2.13</td>\n      <td>1.60</td>\n      <td>2.13</td>\n      <td>1.60</td>\n      <td>0.53</td>\n      <td>1.06</td>\n      <td>2.13</td>\n      <td>1.60</td>\n      <td>2.13</td>\n      <td>2.13</td>\n    </tr>\n    <tr>\n      <th>99001</th>\n      <td>VICHADA</td>\n      <td>PUERTO CARREÑO</td>\n      <td>29.94</td>\n      <td>28.75</td>\n      <td>28.99</td>\n      <td>29.47</td>\n      <td>29.75</td>\n      <td>29.80</td>\n      <td>30.67</td>\n      <td>30.95</td>\n      <td>...</td>\n      <td>29.04</td>\n      <td>28.54</td>\n      <td>28.08</td>\n      <td>28.18</td>\n      <td>27.82</td>\n      <td>28.58</td>\n      <td>28.22</td>\n      <td>27.76</td>\n      <td>27.41</td>\n      <td>28.03</td>\n    </tr>\n    <tr>\n      <th>99524</th>\n      <td>VICHADA</td>\n      <td>LA PRIMAVERA</td>\n      <td>5.44</td>\n      <td>5.84</td>\n      <td>6.12</td>\n      <td>6.27</td>\n      <td>6.70</td>\n      <td>6.77</td>\n      <td>6.95</td>\n      <td>7.20</td>\n      <td>...</td>\n      <td>9.59</td>\n      <td>9.35</td>\n      <td>9.77</td>\n      <td>9.93</td>\n      <td>9.67</td>\n      <td>10.16</td>\n      <td>10.50</td>\n      <td>11.63</td>\n      <td>10.97</td>\n      <td>11.84</td>\n    </tr>\n    <tr>\n      <th>99624</th>\n      <td>VICHADA</td>\n      <td>SANTA ROSALÍA</td>\n      <td>13.26</td>\n      <td>13.49</td>\n      <td>14.07</td>\n      <td>14.42</td>\n      <td>14.76</td>\n      <td>13.84</td>\n      <td>14.53</td>\n      <td>14.99</td>\n      <td>...</td>\n      <td>9.08</td>\n      <td>9.15</td>\n      <td>9.36</td>\n      <td>9.36</td>\n      <td>8.93</td>\n      <td>9.36</td>\n      <td>8.72</td>\n      <td>8.92</td>\n      <td>8.71</td>\n      <td>8.64</td>\n    </tr>\n    <tr>\n      <th>99773</th>\n      <td>VICHADA</td>\n      <td>CUMARIBO</td>\n      <td>2.92</td>\n      <td>2.88</td>\n      <td>2.73</td>\n      <td>2.72</td>\n      <td>2.77</td>\n      <td>2.65</td>\n      <td>2.82</td>\n      <td>2.78</td>\n      <td>...</td>\n      <td>4.35</td>\n      <td>4.06</td>\n      <td>3.84</td>\n      <td>3.66</td>\n      <td>3.29</td>\n      <td>3.61</td>\n      <td>3.89</td>\n      <td>3.67</td>\n      <td>3.58</td>\n      <td>4.17</td>\n    </tr>\n  </tbody>\n</table>\n<p>1121 rows × 113 columns</p>\n</div>"
     },
     "execution_count": 326,
     "metadata": {},
     "output_type": "execute_result"
    }
   ],
   "source": [
    "df_tv_suscrip_percent"
   ],
   "metadata": {
    "collapsed": false,
    "pycharm": {
     "name": "#%%\n"
    }
   }
  },
  {
   "cell_type": "markdown",
   "source": [
    "# Suscripotores por departamento"
   ],
   "metadata": {
    "collapsed": false,
    "pycharm": {
     "name": "#%% md\n"
    }
   }
  },
  {
   "cell_type": "markdown",
   "source": [
    "## Suscriptores por departamento con operador"
   ],
   "metadata": {
    "collapsed": false,
    "pycharm": {
     "name": "#%% md\n"
    }
   }
  },
  {
   "cell_type": "code",
   "execution_count": 331,
   "outputs": [],
   "source": [
    "lista_dpto_operador= df_tv_sucrp.groupby(['datetime', 'id_departamento', 'departamento', 'operador'])['suscriptores'].sum()\n",
    "lista_dpto_operador.to_csv('./bases_datos/suscriptores_tv_dpto_operador.csv')\n",
    "lista_dpto_operador = pd.read_csv('./bases_datos/suscriptores_tv_dpto_operador.csv', index_col=0)\n",
    "lista_dpto_operador = lista_dpto_operador.sort_values(by=['datetime', 'departamento', 'suscriptores'], ascending=[True, True, False])\n",
    "# Se guarda la vase de datos de suscriptores por municipio por operador\n",
    "lista_dpto_operador.to_csv('./bases_datos/suscriptores_tv_dpto_operador.csv')"
   ],
   "metadata": {
    "collapsed": false,
    "pycharm": {
     "name": "#%%\n"
    }
   }
  },
  {
   "cell_type": "code",
   "execution_count": 332,
   "outputs": [
    {
     "data": {
      "text/plain": "      datetime  id_departamento departamento  \\\n0      2013/01               91     AMAZONAS   \n1      2013/01               91     AMAZONAS   \n2      2013/01               91     AMAZONAS   \n3      2013/01                5    ANTIOQUIA   \n4      2013/01                5    ANTIOQUIA   \n...        ...              ...          ...   \n33219  2022/03               97       VAUPÉS   \n33220  2022/03               97       VAUPÉS   \n33221  2022/03               99      VICHADA   \n33222  2022/03               99      VICHADA   \n33223  2022/03               99      VICHADA   \n\n                                      operador  suscriptores  \n0                         TELMEX COLOMBIA S.A.          2475  \n1                        DIRECTV COLOMBIA LTDA          1381  \n2      COLOMBIA TELECOMUNICACIONES S.A. E.S.P.           292  \n3              UNE EPM TELECOMUNICACIONES S.A.        528197  \n4                         TELMEX COLOMBIA S.A.        162782  \n...                                        ...           ...  \n33219      COMUNICACION CELULAR S A COMCEL S A           241  \n33220  COLOMBIA TELECOMUNICACIONES S.A. E.S.P.            56  \n33221                    DIRECTV COLOMBIA LTDA          2926  \n33222      COMUNICACION CELULAR S A COMCEL S A           647  \n33223  COLOMBIA TELECOMUNICACIONES S.A. E.S.P.           147  \n\n[33224 rows x 5 columns]",
      "text/html": "<div>\n<style scoped>\n    .dataframe tbody tr th:only-of-type {\n        vertical-align: middle;\n    }\n\n    .dataframe tbody tr th {\n        vertical-align: top;\n    }\n\n    .dataframe thead th {\n        text-align: right;\n    }\n</style>\n<table border=\"1\" class=\"dataframe\">\n  <thead>\n    <tr style=\"text-align: right;\">\n      <th></th>\n      <th>datetime</th>\n      <th>id_departamento</th>\n      <th>departamento</th>\n      <th>operador</th>\n      <th>suscriptores</th>\n    </tr>\n  </thead>\n  <tbody>\n    <tr>\n      <th>0</th>\n      <td>2013/01</td>\n      <td>91</td>\n      <td>AMAZONAS</td>\n      <td>TELMEX COLOMBIA S.A.</td>\n      <td>2475</td>\n    </tr>\n    <tr>\n      <th>1</th>\n      <td>2013/01</td>\n      <td>91</td>\n      <td>AMAZONAS</td>\n      <td>DIRECTV COLOMBIA LTDA</td>\n      <td>1381</td>\n    </tr>\n    <tr>\n      <th>2</th>\n      <td>2013/01</td>\n      <td>91</td>\n      <td>AMAZONAS</td>\n      <td>COLOMBIA TELECOMUNICACIONES S.A. E.S.P.</td>\n      <td>292</td>\n    </tr>\n    <tr>\n      <th>3</th>\n      <td>2013/01</td>\n      <td>5</td>\n      <td>ANTIOQUIA</td>\n      <td>UNE EPM TELECOMUNICACIONES S.A.</td>\n      <td>528197</td>\n    </tr>\n    <tr>\n      <th>4</th>\n      <td>2013/01</td>\n      <td>5</td>\n      <td>ANTIOQUIA</td>\n      <td>TELMEX COLOMBIA S.A.</td>\n      <td>162782</td>\n    </tr>\n    <tr>\n      <th>...</th>\n      <td>...</td>\n      <td>...</td>\n      <td>...</td>\n      <td>...</td>\n      <td>...</td>\n    </tr>\n    <tr>\n      <th>33219</th>\n      <td>2022/03</td>\n      <td>97</td>\n      <td>VAUPÉS</td>\n      <td>COMUNICACION CELULAR S A COMCEL S A</td>\n      <td>241</td>\n    </tr>\n    <tr>\n      <th>33220</th>\n      <td>2022/03</td>\n      <td>97</td>\n      <td>VAUPÉS</td>\n      <td>COLOMBIA TELECOMUNICACIONES S.A. E.S.P.</td>\n      <td>56</td>\n    </tr>\n    <tr>\n      <th>33221</th>\n      <td>2022/03</td>\n      <td>99</td>\n      <td>VICHADA</td>\n      <td>DIRECTV COLOMBIA LTDA</td>\n      <td>2926</td>\n    </tr>\n    <tr>\n      <th>33222</th>\n      <td>2022/03</td>\n      <td>99</td>\n      <td>VICHADA</td>\n      <td>COMUNICACION CELULAR S A COMCEL S A</td>\n      <td>647</td>\n    </tr>\n    <tr>\n      <th>33223</th>\n      <td>2022/03</td>\n      <td>99</td>\n      <td>VICHADA</td>\n      <td>COLOMBIA TELECOMUNICACIONES S.A. E.S.P.</td>\n      <td>147</td>\n    </tr>\n  </tbody>\n</table>\n<p>33224 rows × 5 columns</p>\n</div>"
     },
     "execution_count": 332,
     "metadata": {},
     "output_type": "execute_result"
    }
   ],
   "source": [
    "lista_dpto_operador = pd.read_csv('./bases_datos/suscriptores_tv_dpto_operador.csv')\n",
    "lista_dpto_operador"
   ],
   "metadata": {
    "collapsed": false,
    "pycharm": {
     "name": "#%%\n"
    }
   }
  },
  {
   "cell_type": "markdown",
   "source": [
    "## Suscriptores por departamento sin operador"
   ],
   "metadata": {
    "collapsed": false,
    "pycharm": {
     "name": "#%% md\n"
    }
   }
  },
  {
   "cell_type": "code",
   "execution_count": 333,
   "outputs": [],
   "source": [
    "lista_dpto = df_tv_sucrp.groupby(['datetime', 'id_departamento', 'departamento'])['suscriptores'].sum()\n",
    "lista_dpto.to_csv('./bases_datos/suscriptores_tv_dpto.csv')\n",
    "lista_dpto = pd.read_csv('./bases_datos/suscriptores_tv_dpto.csv', index_col=0)\n",
    "lista_dpto = lista_dpto.sort_values(by=['datetime', 'departamento', 'suscriptores'], ascending=[True, True, False])\n",
    "# Se guarda la vase de datos de suscriptores por municipio por operador\n",
    "lista_dpto.to_csv('./bases_datos/suscriptores_tv_dpto.csv')"
   ],
   "metadata": {
    "collapsed": false,
    "pycharm": {
     "name": "#%%\n"
    }
   }
  },
  {
   "cell_type": "code",
   "execution_count": 376,
   "outputs": [
    {
     "data": {
      "text/plain": "     datetime  id_departamento  \\\n0     2013/01               91   \n1     2013/01                5   \n2     2013/01               81   \n3     2013/01               88   \n4     2013/01                8   \n...       ...              ...   \n3658  2022/03               70   \n3659  2022/03               73   \n3660  2022/03               76   \n3661  2022/03               97   \n3662  2022/03               99   \n\n                                           departamento  suscriptores  \n0                                              AMAZONAS          4148  \n1                                             ANTIOQUIA        806450  \n2                                                ARAUCA         10189  \n3     ARCHIPIÉLAGO DE SAN ANDRÉS, PROVIDENCIA Y SANT...          6444  \n4                                             ATLÁNTICO        197265  \n...                                                 ...           ...  \n3658                                              SUCRE         57844  \n3659                                             TOLIMA        149179  \n3660                                    VALLE DEL CAUCA        660366  \n3661                                             VAUPÉS          1924  \n3662                                            VICHADA          3720  \n\n[3663 rows x 4 columns]",
      "text/html": "<div>\n<style scoped>\n    .dataframe tbody tr th:only-of-type {\n        vertical-align: middle;\n    }\n\n    .dataframe tbody tr th {\n        vertical-align: top;\n    }\n\n    .dataframe thead th {\n        text-align: right;\n    }\n</style>\n<table border=\"1\" class=\"dataframe\">\n  <thead>\n    <tr style=\"text-align: right;\">\n      <th></th>\n      <th>datetime</th>\n      <th>id_departamento</th>\n      <th>departamento</th>\n      <th>suscriptores</th>\n    </tr>\n  </thead>\n  <tbody>\n    <tr>\n      <th>0</th>\n      <td>2013/01</td>\n      <td>91</td>\n      <td>AMAZONAS</td>\n      <td>4148</td>\n    </tr>\n    <tr>\n      <th>1</th>\n      <td>2013/01</td>\n      <td>5</td>\n      <td>ANTIOQUIA</td>\n      <td>806450</td>\n    </tr>\n    <tr>\n      <th>2</th>\n      <td>2013/01</td>\n      <td>81</td>\n      <td>ARAUCA</td>\n      <td>10189</td>\n    </tr>\n    <tr>\n      <th>3</th>\n      <td>2013/01</td>\n      <td>88</td>\n      <td>ARCHIPIÉLAGO DE SAN ANDRÉS, PROVIDENCIA Y SANT...</td>\n      <td>6444</td>\n    </tr>\n    <tr>\n      <th>4</th>\n      <td>2013/01</td>\n      <td>8</td>\n      <td>ATLÁNTICO</td>\n      <td>197265</td>\n    </tr>\n    <tr>\n      <th>...</th>\n      <td>...</td>\n      <td>...</td>\n      <td>...</td>\n      <td>...</td>\n    </tr>\n    <tr>\n      <th>3658</th>\n      <td>2022/03</td>\n      <td>70</td>\n      <td>SUCRE</td>\n      <td>57844</td>\n    </tr>\n    <tr>\n      <th>3659</th>\n      <td>2022/03</td>\n      <td>73</td>\n      <td>TOLIMA</td>\n      <td>149179</td>\n    </tr>\n    <tr>\n      <th>3660</th>\n      <td>2022/03</td>\n      <td>76</td>\n      <td>VALLE DEL CAUCA</td>\n      <td>660366</td>\n    </tr>\n    <tr>\n      <th>3661</th>\n      <td>2022/03</td>\n      <td>97</td>\n      <td>VAUPÉS</td>\n      <td>1924</td>\n    </tr>\n    <tr>\n      <th>3662</th>\n      <td>2022/03</td>\n      <td>99</td>\n      <td>VICHADA</td>\n      <td>3720</td>\n    </tr>\n  </tbody>\n</table>\n<p>3663 rows × 4 columns</p>\n</div>"
     },
     "execution_count": 376,
     "metadata": {},
     "output_type": "execute_result"
    }
   ],
   "source": [
    "lista_dpto"
   ],
   "metadata": {
    "collapsed": false,
    "pycharm": {
     "name": "#%%\n"
    }
   }
  },
  {
   "cell_type": "code",
   "execution_count": 383,
   "outputs": [
    {
     "data": {
      "text/plain": "                                                    2013/01  2013/02  2013/03  \\\nNORTE DE SANTANDER                                   110911   111684   112256   \nBOGOTÁ D.C.                                         1049966  1061229  1072138   \nCUNDINAMARCA                                         219774   223700   230515   \nANTIOQUIA                                            806450   815748   825204   \nRISARALDA                                            125956   127012   128698   \nCÓRDOBA                                               65304    66809    68481   \nHUILA                                                 64525    65272    65871   \nATLÁNTICO                                            197265   200398   206841   \nBOLÍVAR                                              127865   129469   131254   \nBOYACÁ                                                90728    91381    93305   \nCALDAS                                               104467   105604   105856   \nCAUCA                                                 53605    54534    55707   \nCESAR                                                 57504    58675    59588   \nCHOCÓ                                                 15907    16181    16887   \nLA GUAJIRA                                            33178    33909    34099   \nMAGDALENA                                             55057    55675    56518   \nMETA                                                  83619    84408    85884   \nNARIÑO                                                44364    45464    46085   \nQUINDÍO                                               68810    69961    70547   \nSANTANDER                                            211714   214981   218121   \nSUCRE                                                 44552    45088    45916   \nTOLIMA                                               109472   109962   110993   \nVALLE DEL CAUCA                                      520974   525554   527297   \nARAUCA                                                10189    10492    10713   \nCAQUETA                                               19455    19517    19663   \nCASANARE                                              24661    24857    25409   \nPUTUMAYO                                               9420     9512     9501   \nARCHIPIÉLAGO DE SAN ANDRÉS, PROVIDENCIA Y SANTA...     6444     6581     6724   \nAMAZONAS                                               4148     4192     4251   \nGUAINÍA                                                 563      600      642   \nGUAVIARE                                               1497     1611     1739   \nVAUPÉS                                                  595      611      632   \nVICHADA                                                2451     2386     2395   \n\n                                                    2013/04  2013/05  2013/06  \\\nNORTE DE SANTANDER                                   111690   111720   109701   \nBOGOTÁ D.C.                                         1080147  1085052  1090299   \nCUNDINAMARCA                                         231284   233609   237466   \nANTIOQUIA                                            830113   833901   836435   \nRISARALDA                                            130923   132660   131123   \nCÓRDOBA                                               69861    70760    71241   \nHUILA                                                 66616    66863    66624   \nATLÁNTICO                                            210046   208976   212023   \nBOLÍVAR                                              132712   134179   134606   \nBOYACÁ                                                93510    93691    94341   \nCALDAS                                               107625   109167   105930   \nCAUCA                                                 56916    57990    57779   \nCESAR                                                 60235    60792    60230   \nCHOCÓ                                                 17195    17635    17769   \nLA GUAJIRA                                            34819    34885    34163   \nMAGDALENA                                             56907    56747    56954   \nMETA                                                  86617    86878    87718   \nNARIÑO                                                46628    47110    46644   \nQUINDÍO                                               70660    70874    69463   \nSANTANDER                                            213197   217847   221060   \nSUCRE                                                 46332    46507    46856   \nTOLIMA                                               110531   110873   111441   \nVALLE DEL CAUCA                                      528308   529519   526546   \nARAUCA                                                11087    11417    11071   \nCAQUETA                                               19891    20020    20087   \nCASANARE                                              26071    26818    27504   \nPUTUMAYO                                               9588     9697     9809   \nARCHIPIÉLAGO DE SAN ANDRÉS, PROVIDENCIA Y SANTA...     6794     6945     7069   \nAMAZONAS                                               4312     4402     4415   \nGUAINÍA                                                 681      697      697   \nGUAVIARE                                               1821     1855     1878   \nVAUPÉS                                                  642      642      671   \nVICHADA                                                2430     2468     2451   \n\n                                                    2013/07  2013/08  2013/09  \\\nNORTE DE SANTANDER                                   110653   110875   110680   \nBOGOTÁ D.C.                                         1092778  1099916  1104679   \nCUNDINAMARCA                                         240258   243816   246101   \nANTIOQUIA                                            834881   839403   840244   \nRISARALDA                                            130378   131308   131770   \nCÓRDOBA                                               72962    74830    76156   \nHUILA                                                 67673    68155    68457   \nATLÁNTICO                                            213014   216259   215688   \nBOLÍVAR                                              137166   139703   141461   \nBOYACÁ                                                94685    95184    95586   \nCALDAS                                               106962   106680   105704   \nCAUCA                                                 58485    59581    61321   \nCESAR                                                 61223    62127    63185   \nCHOCÓ                                                 18338    18933    19362   \nLA GUAJIRA                                            35011    35650    35740   \nMAGDALENA                                             57469    58063    59071   \nMETA                                                  87978    88717    89033   \nNARIÑO                                                47323    47959    48990   \nQUINDÍO                                               70349    70539    70317   \nSANTANDER                                            221395   221749   222512   \nSUCRE                                                 47551    48102    48842   \nTOLIMA                                               111123   111228   111291   \nVALLE DEL CAUCA                                      529051   531959   536185   \nARAUCA                                                11478    11698    11983   \nCAQUETA                                               20503    20547    20539   \nCASANARE                                              28013    28418    28663   \nPUTUMAYO                                               9947     9963    10071   \nARCHIPIÉLAGO DE SAN ANDRÉS, PROVIDENCIA Y SANTA...     7208     7398     7527   \nAMAZONAS                                               4353     4436     4551   \nGUAINÍA                                                 716      732      725   \nGUAVIARE                                               1986     2136     2470   \nVAUPÉS                                                  687      700      701   \nVICHADA                                                2536     2559     2538   \n\n                                                    2013/10  ...  2021/06  \\\nNORTE DE SANTANDER                                   110790  ...   134655   \nBOGOTÁ D.C.                                         1114601  ...  1469985   \nCUNDINAMARCA                                         248345  ...   411432   \nANTIOQUIA                                            841215  ...  1138322   \nRISARALDA                                            132686  ...   159613   \nCÓRDOBA                                               77665  ...    97473   \nHUILA                                                 68994  ...    80198   \nATLÁNTICO                                            217051  ...   305628   \nBOLÍVAR                                              142661  ...   187997   \nBOYACÁ                                                96185  ...   104724   \nCALDAS                                               108477  ...   114953   \nCAUCA                                                 62427  ...    77459   \nCESAR                                                 63874  ...    92105   \nCHOCÓ                                                 19860  ...    25309   \nLA GUAJIRA                                            36209  ...    53456   \nMAGDALENA                                             60136  ...    89877   \nMETA                                                  90364  ...   114701   \nNARIÑO                                                49234  ...    82443   \nQUINDÍO                                               70930  ...    90856   \nSANTANDER                                            223877  ...   275259   \nSUCRE                                                 49539  ...    55216   \nTOLIMA                                               111673  ...   145746   \nVALLE DEL CAUCA                                      538685  ...   637482   \nARAUCA                                                12122  ...    15563   \nCAQUETA                                               20795  ...    18069   \nCASANARE                                              29255  ...    35395   \nPUTUMAYO                                              10126  ...    11083   \nARCHIPIÉLAGO DE SAN ANDRÉS, PROVIDENCIA Y SANTA...     7695  ...     6156   \nAMAZONAS                                               4566  ...     5124   \nGUAINÍA                                                 741  ...     2281   \nGUAVIARE                                               2671  ...     5576   \nVAUPÉS                                                  730  ...     1578   \nVICHADA                                                2553  ...     3667   \n\n                                                    2021/07  2021/08  2021/09  \\\nNORTE DE SANTANDER                                   134288   133808   132810   \nBOGOTÁ D.C.                                         1469466  1473209  1478320   \nCUNDINAMARCA                                         412539   415116   416451   \nANTIOQUIA                                           1138361  1143362  1149543   \nRISARALDA                                            161474   161037   162037   \nCÓRDOBA                                               97192    99439    98906   \nHUILA                                                 81310    81598    81321   \nATLÁNTICO                                            307346   307981   307588   \nBOLÍVAR                                              187991   190053   191318   \nBOYACÁ                                               106025   105933   106215   \nCALDAS                                               116420   116621   117214   \nCAUCA                                                 77681    77650    77361   \nCESAR                                                 93858    94823    95070   \nCHOCÓ                                                 24500    25277    24905   \nLA GUAJIRA                                            53056    54223    54257   \nMAGDALENA                                             90879    91155    91674   \nMETA                                                 115468   115577   115995   \nNARIÑO                                                83034    84448    84542   \nQUINDÍO                                               91441    91675    92265   \nSANTANDER                                            277945   279669   282228   \nSUCRE                                                 55057    54755    56037   \nTOLIMA                                               146322   146337   146689   \nVALLE DEL CAUCA                                      643024   643329   645591   \nARAUCA                                                15247    15240    15086   \nCAQUETA                                               18023    17955    18001   \nCASANARE                                              35522    35431    35364   \nPUTUMAYO                                               9905    10723    10667   \nARCHIPIÉLAGO DE SAN ANDRÉS, PROVIDENCIA Y SANTA...     6504     6506     6532   \nAMAZONAS                                               5109     5115     5088   \nGUAINÍA                                                2307     2284     2368   \nGUAVIARE                                               5545     5570     5620   \nVAUPÉS                                                 1560     1621     1559   \nVICHADA                                                3565     3505     3485   \n\n                                                    2021/10  2021/11  2021/12  \\\nNORTE DE SANTANDER                                   134082   134934   135097   \nBOGOTÁ D.C.                                         1481536  1477185  1478310   \nCUNDINAMARCA                                         419001   419358   425780   \nANTIOQUIA                                           1153050  1166364  1169186   \nRISARALDA                                            162839   163917   166130   \nCÓRDOBA                                               98786   100708   100645   \nHUILA                                                 80636    81178    81627   \nATLÁNTICO                                            309433   311092   310218   \nBOLÍVAR                                              190546   193943   194263   \nBOYACÁ                                               105818   105952   106971   \nCALDAS                                               117741   118024   118654   \nCAUCA                                                 77231    77607    76659   \nCESAR                                                 94388    95150    95170   \nCHOCÓ                                                 23992    25404    24705   \nLA GUAJIRA                                            54176    54523    54492   \nMAGDALENA                                             90535    91335    92386   \nMETA                                                 116551   117033   118552   \nNARIÑO                                                84360    84691    83698   \nQUINDÍO                                               93069    93225    93936   \nSANTANDER                                            276028   278670   282200   \nSUCRE                                                 55697    55717    56675   \nTOLIMA                                               146857   147211   150591   \nVALLE DEL CAUCA                                      646257   648911   651456   \nARAUCA                                                14887    15114    15117   \nCAQUETA                                               17924    18096    18135   \nCASANARE                                              35200    35891    36080   \nPUTUMAYO                                              10823    10880    10550   \nARCHIPIÉLAGO DE SAN ANDRÉS, PROVIDENCIA Y SANTA...     6152     6211     6191   \nAMAZONAS                                               5068     5260     5423   \nGUAINÍA                                                2345     2436     2490   \nGUAVIARE                                               5304     5439     5349   \nVAUPÉS                                                 1590     1684     1748   \nVICHADA                                                3368     3516     3543   \n\n                                                    2022/01  2022/02  2022/03  \nNORTE DE SANTANDER                                   136474   136276   138375  \nBOGOTÁ D.C.                                         1493192  1497732  1498924  \nCUNDINAMARCA                                         428283   430410   431253  \nANTIOQUIA                                           1194335  1201393  1208123  \nRISARALDA                                            165410   166463   166599  \nCÓRDOBA                                              101967   103019   102902  \nHUILA                                                 83308    83462    84258  \nATLÁNTICO                                            314300   316925   320475  \nBOLÍVAR                                              197513   198275   198921  \nBOYACÁ                                               105944   105901   105519  \nCALDAS                                               119371   119778   119937  \nCAUCA                                                 75872    75632    75823  \nCESAR                                                 95802    95658    96176  \nCHOCÓ                                                 25579    25344    25708  \nLA GUAJIRA                                            56320    55371    56026  \nMAGDALENA                                             93898    93829    93950  \nMETA                                                 120299   120688   120632  \nNARIÑO                                                84550    83890    84673  \nQUINDÍO                                               94357    94468    94465  \nSANTANDER                                            287330   288154   289203  \nSUCRE                                                 57463    56353    57844  \nTOLIMA                                               149041   149078   149179  \nVALLE DEL CAUCA                                      656794   659873   660366  \nARAUCA                                                15395    15208    15381  \nCAQUETA                                               18284    18319    18395  \nCASANARE                                              37756    37656    38002  \nPUTUMAYO                                              12031     9730     9917  \nARCHIPIÉLAGO DE SAN ANDRÉS, PROVIDENCIA Y SANTA...      127      122      164  \nAMAZONAS                                               5463     5153     5552  \nGUAINÍA                                                2550     2585     2779  \nGUAVIARE                                               5613     5595     5619  \nVAUPÉS                                                 1756     1793     1924  \nVICHADA                                                3595     3519     3720  \n\n[33 rows x 111 columns]",
      "text/html": "<div>\n<style scoped>\n    .dataframe tbody tr th:only-of-type {\n        vertical-align: middle;\n    }\n\n    .dataframe tbody tr th {\n        vertical-align: top;\n    }\n\n    .dataframe thead th {\n        text-align: right;\n    }\n</style>\n<table border=\"1\" class=\"dataframe\">\n  <thead>\n    <tr style=\"text-align: right;\">\n      <th></th>\n      <th>2013/01</th>\n      <th>2013/02</th>\n      <th>2013/03</th>\n      <th>2013/04</th>\n      <th>2013/05</th>\n      <th>2013/06</th>\n      <th>2013/07</th>\n      <th>2013/08</th>\n      <th>2013/09</th>\n      <th>2013/10</th>\n      <th>...</th>\n      <th>2021/06</th>\n      <th>2021/07</th>\n      <th>2021/08</th>\n      <th>2021/09</th>\n      <th>2021/10</th>\n      <th>2021/11</th>\n      <th>2021/12</th>\n      <th>2022/01</th>\n      <th>2022/02</th>\n      <th>2022/03</th>\n    </tr>\n  </thead>\n  <tbody>\n    <tr>\n      <th>NORTE DE SANTANDER</th>\n      <td>110911</td>\n      <td>111684</td>\n      <td>112256</td>\n      <td>111690</td>\n      <td>111720</td>\n      <td>109701</td>\n      <td>110653</td>\n      <td>110875</td>\n      <td>110680</td>\n      <td>110790</td>\n      <td>...</td>\n      <td>134655</td>\n      <td>134288</td>\n      <td>133808</td>\n      <td>132810</td>\n      <td>134082</td>\n      <td>134934</td>\n      <td>135097</td>\n      <td>136474</td>\n      <td>136276</td>\n      <td>138375</td>\n    </tr>\n    <tr>\n      <th>BOGOTÁ D.C.</th>\n      <td>1049966</td>\n      <td>1061229</td>\n      <td>1072138</td>\n      <td>1080147</td>\n      <td>1085052</td>\n      <td>1090299</td>\n      <td>1092778</td>\n      <td>1099916</td>\n      <td>1104679</td>\n      <td>1114601</td>\n      <td>...</td>\n      <td>1469985</td>\n      <td>1469466</td>\n      <td>1473209</td>\n      <td>1478320</td>\n      <td>1481536</td>\n      <td>1477185</td>\n      <td>1478310</td>\n      <td>1493192</td>\n      <td>1497732</td>\n      <td>1498924</td>\n    </tr>\n    <tr>\n      <th>CUNDINAMARCA</th>\n      <td>219774</td>\n      <td>223700</td>\n      <td>230515</td>\n      <td>231284</td>\n      <td>233609</td>\n      <td>237466</td>\n      <td>240258</td>\n      <td>243816</td>\n      <td>246101</td>\n      <td>248345</td>\n      <td>...</td>\n      <td>411432</td>\n      <td>412539</td>\n      <td>415116</td>\n      <td>416451</td>\n      <td>419001</td>\n      <td>419358</td>\n      <td>425780</td>\n      <td>428283</td>\n      <td>430410</td>\n      <td>431253</td>\n    </tr>\n    <tr>\n      <th>ANTIOQUIA</th>\n      <td>806450</td>\n      <td>815748</td>\n      <td>825204</td>\n      <td>830113</td>\n      <td>833901</td>\n      <td>836435</td>\n      <td>834881</td>\n      <td>839403</td>\n      <td>840244</td>\n      <td>841215</td>\n      <td>...</td>\n      <td>1138322</td>\n      <td>1138361</td>\n      <td>1143362</td>\n      <td>1149543</td>\n      <td>1153050</td>\n      <td>1166364</td>\n      <td>1169186</td>\n      <td>1194335</td>\n      <td>1201393</td>\n      <td>1208123</td>\n    </tr>\n    <tr>\n      <th>RISARALDA</th>\n      <td>125956</td>\n      <td>127012</td>\n      <td>128698</td>\n      <td>130923</td>\n      <td>132660</td>\n      <td>131123</td>\n      <td>130378</td>\n      <td>131308</td>\n      <td>131770</td>\n      <td>132686</td>\n      <td>...</td>\n      <td>159613</td>\n      <td>161474</td>\n      <td>161037</td>\n      <td>162037</td>\n      <td>162839</td>\n      <td>163917</td>\n      <td>166130</td>\n      <td>165410</td>\n      <td>166463</td>\n      <td>166599</td>\n    </tr>\n    <tr>\n      <th>CÓRDOBA</th>\n      <td>65304</td>\n      <td>66809</td>\n      <td>68481</td>\n      <td>69861</td>\n      <td>70760</td>\n      <td>71241</td>\n      <td>72962</td>\n      <td>74830</td>\n      <td>76156</td>\n      <td>77665</td>\n      <td>...</td>\n      <td>97473</td>\n      <td>97192</td>\n      <td>99439</td>\n      <td>98906</td>\n      <td>98786</td>\n      <td>100708</td>\n      <td>100645</td>\n      <td>101967</td>\n      <td>103019</td>\n      <td>102902</td>\n    </tr>\n    <tr>\n      <th>HUILA</th>\n      <td>64525</td>\n      <td>65272</td>\n      <td>65871</td>\n      <td>66616</td>\n      <td>66863</td>\n      <td>66624</td>\n      <td>67673</td>\n      <td>68155</td>\n      <td>68457</td>\n      <td>68994</td>\n      <td>...</td>\n      <td>80198</td>\n      <td>81310</td>\n      <td>81598</td>\n      <td>81321</td>\n      <td>80636</td>\n      <td>81178</td>\n      <td>81627</td>\n      <td>83308</td>\n      <td>83462</td>\n      <td>84258</td>\n    </tr>\n    <tr>\n      <th>ATLÁNTICO</th>\n      <td>197265</td>\n      <td>200398</td>\n      <td>206841</td>\n      <td>210046</td>\n      <td>208976</td>\n      <td>212023</td>\n      <td>213014</td>\n      <td>216259</td>\n      <td>215688</td>\n      <td>217051</td>\n      <td>...</td>\n      <td>305628</td>\n      <td>307346</td>\n      <td>307981</td>\n      <td>307588</td>\n      <td>309433</td>\n      <td>311092</td>\n      <td>310218</td>\n      <td>314300</td>\n      <td>316925</td>\n      <td>320475</td>\n    </tr>\n    <tr>\n      <th>BOLÍVAR</th>\n      <td>127865</td>\n      <td>129469</td>\n      <td>131254</td>\n      <td>132712</td>\n      <td>134179</td>\n      <td>134606</td>\n      <td>137166</td>\n      <td>139703</td>\n      <td>141461</td>\n      <td>142661</td>\n      <td>...</td>\n      <td>187997</td>\n      <td>187991</td>\n      <td>190053</td>\n      <td>191318</td>\n      <td>190546</td>\n      <td>193943</td>\n      <td>194263</td>\n      <td>197513</td>\n      <td>198275</td>\n      <td>198921</td>\n    </tr>\n    <tr>\n      <th>BOYACÁ</th>\n      <td>90728</td>\n      <td>91381</td>\n      <td>93305</td>\n      <td>93510</td>\n      <td>93691</td>\n      <td>94341</td>\n      <td>94685</td>\n      <td>95184</td>\n      <td>95586</td>\n      <td>96185</td>\n      <td>...</td>\n      <td>104724</td>\n      <td>106025</td>\n      <td>105933</td>\n      <td>106215</td>\n      <td>105818</td>\n      <td>105952</td>\n      <td>106971</td>\n      <td>105944</td>\n      <td>105901</td>\n      <td>105519</td>\n    </tr>\n    <tr>\n      <th>CALDAS</th>\n      <td>104467</td>\n      <td>105604</td>\n      <td>105856</td>\n      <td>107625</td>\n      <td>109167</td>\n      <td>105930</td>\n      <td>106962</td>\n      <td>106680</td>\n      <td>105704</td>\n      <td>108477</td>\n      <td>...</td>\n      <td>114953</td>\n      <td>116420</td>\n      <td>116621</td>\n      <td>117214</td>\n      <td>117741</td>\n      <td>118024</td>\n      <td>118654</td>\n      <td>119371</td>\n      <td>119778</td>\n      <td>119937</td>\n    </tr>\n    <tr>\n      <th>CAUCA</th>\n      <td>53605</td>\n      <td>54534</td>\n      <td>55707</td>\n      <td>56916</td>\n      <td>57990</td>\n      <td>57779</td>\n      <td>58485</td>\n      <td>59581</td>\n      <td>61321</td>\n      <td>62427</td>\n      <td>...</td>\n      <td>77459</td>\n      <td>77681</td>\n      <td>77650</td>\n      <td>77361</td>\n      <td>77231</td>\n      <td>77607</td>\n      <td>76659</td>\n      <td>75872</td>\n      <td>75632</td>\n      <td>75823</td>\n    </tr>\n    <tr>\n      <th>CESAR</th>\n      <td>57504</td>\n      <td>58675</td>\n      <td>59588</td>\n      <td>60235</td>\n      <td>60792</td>\n      <td>60230</td>\n      <td>61223</td>\n      <td>62127</td>\n      <td>63185</td>\n      <td>63874</td>\n      <td>...</td>\n      <td>92105</td>\n      <td>93858</td>\n      <td>94823</td>\n      <td>95070</td>\n      <td>94388</td>\n      <td>95150</td>\n      <td>95170</td>\n      <td>95802</td>\n      <td>95658</td>\n      <td>96176</td>\n    </tr>\n    <tr>\n      <th>CHOCÓ</th>\n      <td>15907</td>\n      <td>16181</td>\n      <td>16887</td>\n      <td>17195</td>\n      <td>17635</td>\n      <td>17769</td>\n      <td>18338</td>\n      <td>18933</td>\n      <td>19362</td>\n      <td>19860</td>\n      <td>...</td>\n      <td>25309</td>\n      <td>24500</td>\n      <td>25277</td>\n      <td>24905</td>\n      <td>23992</td>\n      <td>25404</td>\n      <td>24705</td>\n      <td>25579</td>\n      <td>25344</td>\n      <td>25708</td>\n    </tr>\n    <tr>\n      <th>LA GUAJIRA</th>\n      <td>33178</td>\n      <td>33909</td>\n      <td>34099</td>\n      <td>34819</td>\n      <td>34885</td>\n      <td>34163</td>\n      <td>35011</td>\n      <td>35650</td>\n      <td>35740</td>\n      <td>36209</td>\n      <td>...</td>\n      <td>53456</td>\n      <td>53056</td>\n      <td>54223</td>\n      <td>54257</td>\n      <td>54176</td>\n      <td>54523</td>\n      <td>54492</td>\n      <td>56320</td>\n      <td>55371</td>\n      <td>56026</td>\n    </tr>\n    <tr>\n      <th>MAGDALENA</th>\n      <td>55057</td>\n      <td>55675</td>\n      <td>56518</td>\n      <td>56907</td>\n      <td>56747</td>\n      <td>56954</td>\n      <td>57469</td>\n      <td>58063</td>\n      <td>59071</td>\n      <td>60136</td>\n      <td>...</td>\n      <td>89877</td>\n      <td>90879</td>\n      <td>91155</td>\n      <td>91674</td>\n      <td>90535</td>\n      <td>91335</td>\n      <td>92386</td>\n      <td>93898</td>\n      <td>93829</td>\n      <td>93950</td>\n    </tr>\n    <tr>\n      <th>META</th>\n      <td>83619</td>\n      <td>84408</td>\n      <td>85884</td>\n      <td>86617</td>\n      <td>86878</td>\n      <td>87718</td>\n      <td>87978</td>\n      <td>88717</td>\n      <td>89033</td>\n      <td>90364</td>\n      <td>...</td>\n      <td>114701</td>\n      <td>115468</td>\n      <td>115577</td>\n      <td>115995</td>\n      <td>116551</td>\n      <td>117033</td>\n      <td>118552</td>\n      <td>120299</td>\n      <td>120688</td>\n      <td>120632</td>\n    </tr>\n    <tr>\n      <th>NARIÑO</th>\n      <td>44364</td>\n      <td>45464</td>\n      <td>46085</td>\n      <td>46628</td>\n      <td>47110</td>\n      <td>46644</td>\n      <td>47323</td>\n      <td>47959</td>\n      <td>48990</td>\n      <td>49234</td>\n      <td>...</td>\n      <td>82443</td>\n      <td>83034</td>\n      <td>84448</td>\n      <td>84542</td>\n      <td>84360</td>\n      <td>84691</td>\n      <td>83698</td>\n      <td>84550</td>\n      <td>83890</td>\n      <td>84673</td>\n    </tr>\n    <tr>\n      <th>QUINDÍO</th>\n      <td>68810</td>\n      <td>69961</td>\n      <td>70547</td>\n      <td>70660</td>\n      <td>70874</td>\n      <td>69463</td>\n      <td>70349</td>\n      <td>70539</td>\n      <td>70317</td>\n      <td>70930</td>\n      <td>...</td>\n      <td>90856</td>\n      <td>91441</td>\n      <td>91675</td>\n      <td>92265</td>\n      <td>93069</td>\n      <td>93225</td>\n      <td>93936</td>\n      <td>94357</td>\n      <td>94468</td>\n      <td>94465</td>\n    </tr>\n    <tr>\n      <th>SANTANDER</th>\n      <td>211714</td>\n      <td>214981</td>\n      <td>218121</td>\n      <td>213197</td>\n      <td>217847</td>\n      <td>221060</td>\n      <td>221395</td>\n      <td>221749</td>\n      <td>222512</td>\n      <td>223877</td>\n      <td>...</td>\n      <td>275259</td>\n      <td>277945</td>\n      <td>279669</td>\n      <td>282228</td>\n      <td>276028</td>\n      <td>278670</td>\n      <td>282200</td>\n      <td>287330</td>\n      <td>288154</td>\n      <td>289203</td>\n    </tr>\n    <tr>\n      <th>SUCRE</th>\n      <td>44552</td>\n      <td>45088</td>\n      <td>45916</td>\n      <td>46332</td>\n      <td>46507</td>\n      <td>46856</td>\n      <td>47551</td>\n      <td>48102</td>\n      <td>48842</td>\n      <td>49539</td>\n      <td>...</td>\n      <td>55216</td>\n      <td>55057</td>\n      <td>54755</td>\n      <td>56037</td>\n      <td>55697</td>\n      <td>55717</td>\n      <td>56675</td>\n      <td>57463</td>\n      <td>56353</td>\n      <td>57844</td>\n    </tr>\n    <tr>\n      <th>TOLIMA</th>\n      <td>109472</td>\n      <td>109962</td>\n      <td>110993</td>\n      <td>110531</td>\n      <td>110873</td>\n      <td>111441</td>\n      <td>111123</td>\n      <td>111228</td>\n      <td>111291</td>\n      <td>111673</td>\n      <td>...</td>\n      <td>145746</td>\n      <td>146322</td>\n      <td>146337</td>\n      <td>146689</td>\n      <td>146857</td>\n      <td>147211</td>\n      <td>150591</td>\n      <td>149041</td>\n      <td>149078</td>\n      <td>149179</td>\n    </tr>\n    <tr>\n      <th>VALLE DEL CAUCA</th>\n      <td>520974</td>\n      <td>525554</td>\n      <td>527297</td>\n      <td>528308</td>\n      <td>529519</td>\n      <td>526546</td>\n      <td>529051</td>\n      <td>531959</td>\n      <td>536185</td>\n      <td>538685</td>\n      <td>...</td>\n      <td>637482</td>\n      <td>643024</td>\n      <td>643329</td>\n      <td>645591</td>\n      <td>646257</td>\n      <td>648911</td>\n      <td>651456</td>\n      <td>656794</td>\n      <td>659873</td>\n      <td>660366</td>\n    </tr>\n    <tr>\n      <th>ARAUCA</th>\n      <td>10189</td>\n      <td>10492</td>\n      <td>10713</td>\n      <td>11087</td>\n      <td>11417</td>\n      <td>11071</td>\n      <td>11478</td>\n      <td>11698</td>\n      <td>11983</td>\n      <td>12122</td>\n      <td>...</td>\n      <td>15563</td>\n      <td>15247</td>\n      <td>15240</td>\n      <td>15086</td>\n      <td>14887</td>\n      <td>15114</td>\n      <td>15117</td>\n      <td>15395</td>\n      <td>15208</td>\n      <td>15381</td>\n    </tr>\n    <tr>\n      <th>CAQUETA</th>\n      <td>19455</td>\n      <td>19517</td>\n      <td>19663</td>\n      <td>19891</td>\n      <td>20020</td>\n      <td>20087</td>\n      <td>20503</td>\n      <td>20547</td>\n      <td>20539</td>\n      <td>20795</td>\n      <td>...</td>\n      <td>18069</td>\n      <td>18023</td>\n      <td>17955</td>\n      <td>18001</td>\n      <td>17924</td>\n      <td>18096</td>\n      <td>18135</td>\n      <td>18284</td>\n      <td>18319</td>\n      <td>18395</td>\n    </tr>\n    <tr>\n      <th>CASANARE</th>\n      <td>24661</td>\n      <td>24857</td>\n      <td>25409</td>\n      <td>26071</td>\n      <td>26818</td>\n      <td>27504</td>\n      <td>28013</td>\n      <td>28418</td>\n      <td>28663</td>\n      <td>29255</td>\n      <td>...</td>\n      <td>35395</td>\n      <td>35522</td>\n      <td>35431</td>\n      <td>35364</td>\n      <td>35200</td>\n      <td>35891</td>\n      <td>36080</td>\n      <td>37756</td>\n      <td>37656</td>\n      <td>38002</td>\n    </tr>\n    <tr>\n      <th>PUTUMAYO</th>\n      <td>9420</td>\n      <td>9512</td>\n      <td>9501</td>\n      <td>9588</td>\n      <td>9697</td>\n      <td>9809</td>\n      <td>9947</td>\n      <td>9963</td>\n      <td>10071</td>\n      <td>10126</td>\n      <td>...</td>\n      <td>11083</td>\n      <td>9905</td>\n      <td>10723</td>\n      <td>10667</td>\n      <td>10823</td>\n      <td>10880</td>\n      <td>10550</td>\n      <td>12031</td>\n      <td>9730</td>\n      <td>9917</td>\n    </tr>\n    <tr>\n      <th>ARCHIPIÉLAGO DE SAN ANDRÉS, PROVIDENCIA Y SANTA CATALINA</th>\n      <td>6444</td>\n      <td>6581</td>\n      <td>6724</td>\n      <td>6794</td>\n      <td>6945</td>\n      <td>7069</td>\n      <td>7208</td>\n      <td>7398</td>\n      <td>7527</td>\n      <td>7695</td>\n      <td>...</td>\n      <td>6156</td>\n      <td>6504</td>\n      <td>6506</td>\n      <td>6532</td>\n      <td>6152</td>\n      <td>6211</td>\n      <td>6191</td>\n      <td>127</td>\n      <td>122</td>\n      <td>164</td>\n    </tr>\n    <tr>\n      <th>AMAZONAS</th>\n      <td>4148</td>\n      <td>4192</td>\n      <td>4251</td>\n      <td>4312</td>\n      <td>4402</td>\n      <td>4415</td>\n      <td>4353</td>\n      <td>4436</td>\n      <td>4551</td>\n      <td>4566</td>\n      <td>...</td>\n      <td>5124</td>\n      <td>5109</td>\n      <td>5115</td>\n      <td>5088</td>\n      <td>5068</td>\n      <td>5260</td>\n      <td>5423</td>\n      <td>5463</td>\n      <td>5153</td>\n      <td>5552</td>\n    </tr>\n    <tr>\n      <th>GUAINÍA</th>\n      <td>563</td>\n      <td>600</td>\n      <td>642</td>\n      <td>681</td>\n      <td>697</td>\n      <td>697</td>\n      <td>716</td>\n      <td>732</td>\n      <td>725</td>\n      <td>741</td>\n      <td>...</td>\n      <td>2281</td>\n      <td>2307</td>\n      <td>2284</td>\n      <td>2368</td>\n      <td>2345</td>\n      <td>2436</td>\n      <td>2490</td>\n      <td>2550</td>\n      <td>2585</td>\n      <td>2779</td>\n    </tr>\n    <tr>\n      <th>GUAVIARE</th>\n      <td>1497</td>\n      <td>1611</td>\n      <td>1739</td>\n      <td>1821</td>\n      <td>1855</td>\n      <td>1878</td>\n      <td>1986</td>\n      <td>2136</td>\n      <td>2470</td>\n      <td>2671</td>\n      <td>...</td>\n      <td>5576</td>\n      <td>5545</td>\n      <td>5570</td>\n      <td>5620</td>\n      <td>5304</td>\n      <td>5439</td>\n      <td>5349</td>\n      <td>5613</td>\n      <td>5595</td>\n      <td>5619</td>\n    </tr>\n    <tr>\n      <th>VAUPÉS</th>\n      <td>595</td>\n      <td>611</td>\n      <td>632</td>\n      <td>642</td>\n      <td>642</td>\n      <td>671</td>\n      <td>687</td>\n      <td>700</td>\n      <td>701</td>\n      <td>730</td>\n      <td>...</td>\n      <td>1578</td>\n      <td>1560</td>\n      <td>1621</td>\n      <td>1559</td>\n      <td>1590</td>\n      <td>1684</td>\n      <td>1748</td>\n      <td>1756</td>\n      <td>1793</td>\n      <td>1924</td>\n    </tr>\n    <tr>\n      <th>VICHADA</th>\n      <td>2451</td>\n      <td>2386</td>\n      <td>2395</td>\n      <td>2430</td>\n      <td>2468</td>\n      <td>2451</td>\n      <td>2536</td>\n      <td>2559</td>\n      <td>2538</td>\n      <td>2553</td>\n      <td>...</td>\n      <td>3667</td>\n      <td>3565</td>\n      <td>3505</td>\n      <td>3485</td>\n      <td>3368</td>\n      <td>3516</td>\n      <td>3543</td>\n      <td>3595</td>\n      <td>3519</td>\n      <td>3720</td>\n    </tr>\n  </tbody>\n</table>\n<p>33 rows × 111 columns</p>\n</div>"
     },
     "execution_count": 383,
     "metadata": {},
     "output_type": "execute_result"
    }
   ],
   "source": [
    "df = pd.DataFrame(columns=datetime_list)\n",
    "for depto_name in dpto_list:\n",
    "    df_dpto_temp = lista_dpto[lista_dpto['departamento'] == depto_name].drop(['id_departamento', 'departamento'], axis=1)\n",
    "    df_dpto_temp = df_dpto_temp.rename(columns = {'suscriptores': depto_name}).set_index(['datetime']).T\n",
    "    df = pd.concat([df, df_dpto_temp])\n",
    "df.to_csv('./bases_datos/suscriptores_tv_dpto_2.csv')\n",
    "df"
   ],
   "metadata": {
    "collapsed": false,
    "pycharm": {
     "name": "#%%\n"
    }
   }
  },
  {
   "cell_type": "markdown",
   "source": [
    "# Operadores"
   ],
   "metadata": {
    "collapsed": false,
    "pycharm": {
     "name": "#%% md\n"
    }
   }
  },
  {
   "cell_type": "code",
   "execution_count": 384,
   "outputs": [
    {
     "data": {
      "text/plain": "   datetime                                              depto  \\\n0   2013/01                                          ANTIOQUIA   \n0   2013/01                                             ARAUCA   \n0   2013/01  ARCHIPIÉLAGO DE SAN ANDRÉS, PROVIDENCIA Y SANT...   \n0   2013/01                                          ATLÁNTICO   \n0   2013/01                                            BOLÍVAR   \n..      ...                                                ...   \n0   2022/03                                           PUTUMAYO   \n0   2022/03                                            QUINDÍO   \n0   2022/03                                              SUCRE   \n0   2022/03                                             VAUPÉS   \n0   2022/03                                            VICHADA   \n\n                                    op1  \\\n0       UNE EPM TELECOMUNICACIONES S.A.   \n0                 DIRECTV COLOMBIA LTDA   \n0                          TV ISLA LTDA   \n0                  TELMEX COLOMBIA S.A.   \n0       UNE EPM TELECOMUNICACIONES S.A.   \n..                                  ...   \n0                 DIRECTV COLOMBIA LTDA   \n0       UNE EPM TELECOMUNICACIONES S.A.   \n0   COMUNICACION CELULAR S A COMCEL S A   \n0                 DIRECTV COLOMBIA LTDA   \n0                 DIRECTV COLOMBIA LTDA   \n\n                                        op2  \\\n0                      TELMEX COLOMBIA S.A.   \n0   COLOMBIA TELECOMUNICACIONES S.A. E.S.P.   \n0   COLOMBIA TELECOMUNICACIONES S.A. E.S.P.   \n0                     DIRECTV COLOMBIA LTDA   \n0                     DIRECTV COLOMBIA LTDA   \n..                                      ...   \n0       COMUNICACION CELULAR S A COMCEL S A   \n0       COMUNICACION CELULAR S A COMCEL S A   \n0           UNE EPM TELECOMUNICACIONES S.A.   \n0       COMUNICACION CELULAR S A COMCEL S A   \n0       COMUNICACION CELULAR S A COMCEL S A   \n\n                                        op3     prop1     prop2     prop3  \\\n0                     DIRECTV COLOMBIA LTDA  0.654966  0.201850  0.091158   \n0                  T V SATELITE ARAUCA LTDA  0.332515  0.222102  0.174600   \n0                     DIRECTV COLOMBIA LTDA  0.561453  0.302607  0.076505   \n0   COLOMBIA TELECOMUNICACIONES S.A. E.S.P.  0.354599  0.260959  0.242785   \n0   COLOMBIA TELECOMUNICACIONES S.A. E.S.P.  0.490658  0.170258  0.138216   \n..                                      ...       ...       ...       ...   \n0   COLOMBIA TELECOMUNICACIONES S.A. E.S.P.  0.457497  0.244630  0.156701   \n0   COLOMBIA TELECOMUNICACIONES S.A. E.S.P.  0.420389  0.404287  0.080114   \n0                     DIRECTV COLOMBIA LTDA  0.389824  0.230378  0.198223   \n0   COLOMBIA TELECOMUNICACIONES S.A. E.S.P.  0.845634  0.125260  0.029106   \n0   COLOMBIA TELECOMUNICACIONES S.A. E.S.P.  0.786559  0.173925  0.039516   \n\n       prop4   total  \n0   0.052027  806450  \n0   0.270782   10189  \n0   0.059435    6444  \n0   0.141657  197265  \n0   0.200868  127865  \n..       ...     ...  \n0   0.141172    9917  \n0   0.095210   94465  \n0   0.181575   57844  \n0   0.000000    1924  \n0   0.000000    3720  \n\n[3663 rows x 10 columns]",
      "text/html": "<div>\n<style scoped>\n    .dataframe tbody tr th:only-of-type {\n        vertical-align: middle;\n    }\n\n    .dataframe tbody tr th {\n        vertical-align: top;\n    }\n\n    .dataframe thead th {\n        text-align: right;\n    }\n</style>\n<table border=\"1\" class=\"dataframe\">\n  <thead>\n    <tr style=\"text-align: right;\">\n      <th></th>\n      <th>datetime</th>\n      <th>depto</th>\n      <th>op1</th>\n      <th>op2</th>\n      <th>op3</th>\n      <th>prop1</th>\n      <th>prop2</th>\n      <th>prop3</th>\n      <th>prop4</th>\n      <th>total</th>\n    </tr>\n  </thead>\n  <tbody>\n    <tr>\n      <th>0</th>\n      <td>2013/01</td>\n      <td>ANTIOQUIA</td>\n      <td>UNE EPM TELECOMUNICACIONES S.A.</td>\n      <td>TELMEX COLOMBIA S.A.</td>\n      <td>DIRECTV COLOMBIA LTDA</td>\n      <td>0.654966</td>\n      <td>0.201850</td>\n      <td>0.091158</td>\n      <td>0.052027</td>\n      <td>806450</td>\n    </tr>\n    <tr>\n      <th>0</th>\n      <td>2013/01</td>\n      <td>ARAUCA</td>\n      <td>DIRECTV COLOMBIA LTDA</td>\n      <td>COLOMBIA TELECOMUNICACIONES S.A. E.S.P.</td>\n      <td>T V SATELITE ARAUCA LTDA</td>\n      <td>0.332515</td>\n      <td>0.222102</td>\n      <td>0.174600</td>\n      <td>0.270782</td>\n      <td>10189</td>\n    </tr>\n    <tr>\n      <th>0</th>\n      <td>2013/01</td>\n      <td>ARCHIPIÉLAGO DE SAN ANDRÉS, PROVIDENCIA Y SANT...</td>\n      <td>TV ISLA LTDA</td>\n      <td>COLOMBIA TELECOMUNICACIONES S.A. E.S.P.</td>\n      <td>DIRECTV COLOMBIA LTDA</td>\n      <td>0.561453</td>\n      <td>0.302607</td>\n      <td>0.076505</td>\n      <td>0.059435</td>\n      <td>6444</td>\n    </tr>\n    <tr>\n      <th>0</th>\n      <td>2013/01</td>\n      <td>ATLÁNTICO</td>\n      <td>TELMEX COLOMBIA S.A.</td>\n      <td>DIRECTV COLOMBIA LTDA</td>\n      <td>COLOMBIA TELECOMUNICACIONES S.A. E.S.P.</td>\n      <td>0.354599</td>\n      <td>0.260959</td>\n      <td>0.242785</td>\n      <td>0.141657</td>\n      <td>197265</td>\n    </tr>\n    <tr>\n      <th>0</th>\n      <td>2013/01</td>\n      <td>BOLÍVAR</td>\n      <td>UNE EPM TELECOMUNICACIONES S.A.</td>\n      <td>DIRECTV COLOMBIA LTDA</td>\n      <td>COLOMBIA TELECOMUNICACIONES S.A. E.S.P.</td>\n      <td>0.490658</td>\n      <td>0.170258</td>\n      <td>0.138216</td>\n      <td>0.200868</td>\n      <td>127865</td>\n    </tr>\n    <tr>\n      <th>...</th>\n      <td>...</td>\n      <td>...</td>\n      <td>...</td>\n      <td>...</td>\n      <td>...</td>\n      <td>...</td>\n      <td>...</td>\n      <td>...</td>\n      <td>...</td>\n      <td>...</td>\n    </tr>\n    <tr>\n      <th>0</th>\n      <td>2022/03</td>\n      <td>PUTUMAYO</td>\n      <td>DIRECTV COLOMBIA LTDA</td>\n      <td>COMUNICACION CELULAR S A COMCEL S A</td>\n      <td>COLOMBIA TELECOMUNICACIONES S.A. E.S.P.</td>\n      <td>0.457497</td>\n      <td>0.244630</td>\n      <td>0.156701</td>\n      <td>0.141172</td>\n      <td>9917</td>\n    </tr>\n    <tr>\n      <th>0</th>\n      <td>2022/03</td>\n      <td>QUINDÍO</td>\n      <td>UNE EPM TELECOMUNICACIONES S.A.</td>\n      <td>COMUNICACION CELULAR S A COMCEL S A</td>\n      <td>COLOMBIA TELECOMUNICACIONES S.A. E.S.P.</td>\n      <td>0.420389</td>\n      <td>0.404287</td>\n      <td>0.080114</td>\n      <td>0.095210</td>\n      <td>94465</td>\n    </tr>\n    <tr>\n      <th>0</th>\n      <td>2022/03</td>\n      <td>SUCRE</td>\n      <td>COMUNICACION CELULAR S A COMCEL S A</td>\n      <td>UNE EPM TELECOMUNICACIONES S.A.</td>\n      <td>DIRECTV COLOMBIA LTDA</td>\n      <td>0.389824</td>\n      <td>0.230378</td>\n      <td>0.198223</td>\n      <td>0.181575</td>\n      <td>57844</td>\n    </tr>\n    <tr>\n      <th>0</th>\n      <td>2022/03</td>\n      <td>VAUPÉS</td>\n      <td>DIRECTV COLOMBIA LTDA</td>\n      <td>COMUNICACION CELULAR S A COMCEL S A</td>\n      <td>COLOMBIA TELECOMUNICACIONES S.A. E.S.P.</td>\n      <td>0.845634</td>\n      <td>0.125260</td>\n      <td>0.029106</td>\n      <td>0.000000</td>\n      <td>1924</td>\n    </tr>\n    <tr>\n      <th>0</th>\n      <td>2022/03</td>\n      <td>VICHADA</td>\n      <td>DIRECTV COLOMBIA LTDA</td>\n      <td>COMUNICACION CELULAR S A COMCEL S A</td>\n      <td>COLOMBIA TELECOMUNICACIONES S.A. E.S.P.</td>\n      <td>0.786559</td>\n      <td>0.173925</td>\n      <td>0.039516</td>\n      <td>0.000000</td>\n      <td>3720</td>\n    </tr>\n  </tbody>\n</table>\n<p>3663 rows × 10 columns</p>\n</div>"
     },
     "execution_count": 384,
     "metadata": {},
     "output_type": "execute_result"
    }
   ],
   "source": [
    "df_tv_cuotas_dpto = pd.read_csv('./bases_datos/tv_cuotas_dept.csv', index_col=0)\n",
    "df_tv_cuotas_dpto"
   ],
   "metadata": {
    "collapsed": false,
    "pycharm": {
     "name": "#%%\n"
    }
   }
  }
 ],
 "metadata": {
  "kernelspec": {
   "display_name": "Python 3",
   "language": "python",
   "name": "python3"
  },
  "language_info": {
   "codemirror_mode": {
    "name": "ipython",
    "version": 2
   },
   "file_extension": ".py",
   "mimetype": "text/x-python",
   "name": "python",
   "nbconvert_exporter": "python",
   "pygments_lexer": "ipython2",
   "version": "2.7.6"
  }
 },
 "nbformat": 4,
 "nbformat_minor": 0
}