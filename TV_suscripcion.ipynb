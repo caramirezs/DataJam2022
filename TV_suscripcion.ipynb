{
 "cells": [
  {
   "cell_type": "code",
   "execution_count": 2,
   "outputs": [],
   "source": [
    "import pandas as pd"
   ],
   "metadata": {
    "collapsed": false,
    "pycharm": {
     "name": "#%%\n"
    }
   }
  },
  {
   "cell_type": "markdown",
   "source": [
    "# Suscriptores de TV por Suscripción"
   ],
   "metadata": {
    "collapsed": false,
    "pycharm": {
     "name": "#%% md\n"
    }
   }
  },
  {
   "cell_type": "code",
   "execution_count": 22,
   "outputs": [
    {
     "name": "stderr",
     "output_type": "stream",
     "text": [
      "C:\\Users\\Public\\Documents\\Wondershare\\CreatorTemp\\ipykernel_23456\\2456463078.py:1: DtypeWarning: Columns (3,13,15) have mixed types. Specify dtype option on import or set low_memory=False.\n",
      "  df_tv_sucrp = pd.read_csv('./bases_datos/suscriptores_tv.csv')\n"
     ]
    }
   ],
   "source": [
    "df_tv_sucrp = pd.read_csv('./bases_datos/suscriptores_tv.csv')"
   ],
   "metadata": {
    "collapsed": false,
    "pycharm": {
     "name": "#%%\n"
    }
   }
  },
  {
   "cell_type": "code",
   "execution_count": 23,
   "outputs": [],
   "source": [
    "# Crear una columna con los datos temporales\n",
    "df_tv_sucrp['datetime']=  df_tv_sucrp.apply(lambda row: f'{row.anno}/{str(row.mes + 3*(row.trimestre-1)).zfill(2)}', axis=1)"
   ],
   "metadata": {
    "collapsed": false,
    "pycharm": {
     "name": "#%%\n"
    }
   }
  },
  {
   "cell_type": "code",
   "execution_count": 24,
   "outputs": [],
   "source": [
    "# Organizar el dataframe\n",
    "# lista_columnas = list(df_tv_sucrp.columns)[3:-1]\n",
    "# lista_columnas.insert(0,'datetime')\n",
    "lista_columnas = ['datetime', 'id_operador', 'operador', 'id_departamento', 'departamento', 'id_municipio', 'municipio', 'suscriptores', 'entry_id']\n",
    "df_tv_sucrp = df_tv_sucrp[lista_columnas]"
   ],
   "metadata": {
    "collapsed": false,
    "pycharm": {
     "name": "#%%\n"
    }
   }
  },
  {
   "cell_type": "code",
   "execution_count": 25,
   "outputs": [],
   "source": [
    "# Eliminar entradas que no tienen datos por departamento\n",
    "df_tv_sucrp = df_tv_sucrp.dropna(subset=['departamento', 'suscriptores'])\n",
    "# Eliminar entradas con suscriptores = 0\n",
    "df_tv_sucrp = df_tv_sucrp[df_tv_sucrp.suscriptores != 0]"
   ],
   "metadata": {
    "collapsed": false,
    "pycharm": {
     "name": "#%%\n"
    }
   }
  },
  {
   "cell_type": "code",
   "execution_count": 26,
   "outputs": [
    {
     "data": {
      "text/plain": "       datetime  id_operador  \\\n0       2010/01    800075305   \n3       2010/01    800132211   \n4       2010/01    800179562   \n6       2010/01    800193670   \n7       2010/01    800194191   \n...         ...          ...   \n546736  2022/03    901453896   \n546737  2022/03    901453896   \n546738  2022/03    901460140   \n546739  2022/03    901491625   \n546740  2022/03    901501135   \n\n                                                 operador  id_departamento  \\\n0       INGENIERIA EN POTENCIA ELECTRICA Y COMUNICACIO...               54   \n3                                   H V TELEVISION S.A.S.               25   \n4                         LEGON TELECOMUNICACIONES S.A.S.                5   \n6       PROMOTORA DE TELEVISION. INTERNET Y COMUNICACI...               66   \n7       INGELCOM Ingeniería Electrónica y de Telecomun...               54   \n...                                                   ...              ...   \n546736                            FIBERLINKNETWORKS S.A.S                5   \n546737                            FIBERLINKNETWORKS S.A.S               86   \n546738                 DIGI COMUNICACIONES TV. NET S.A.S.               13   \n546739                       VITEL COMUNICACIONES NET SAS               68   \n546740                                  TUNET-WORK S.A.S.               54   \n\n              departamento  id_municipio        municipio  suscriptores  \\\n0       NORTE DE SANTANDER         54498            OCAÑA          2021   \n3             CUNDINAMARCA         25754           SOACHA         18928   \n4                ANTIOQUIA          5154         CAUCASIA           369   \n6                RISARALDA         66088  BELÉN DE UMBRÍA          1403   \n7       NORTE DE SANTANDER         54001           CÚCUTA          7544   \n...                    ...           ...              ...           ...   \n546736           ANTIOQUIA          5736          SEGOVIA           903   \n546737            PUTUMAYO         86568      PUERTO ASÍS           135   \n546738             BOLÍVAR         13650     SAN FERNANDO            49   \n546739           SANTANDER         68276    FLORIDABLANCA           142   \n546740  NORTE DE SANTANDER         54405       LOS PATIOS           115   \n\n        entry_id  \n0              1  \n3              4  \n4              5  \n6              7  \n7              8  \n...          ...  \n546736    546737  \n546737    546738  \n546738    546739  \n546739    546740  \n546740    546741  \n\n[508861 rows x 9 columns]",
      "text/html": "<div>\n<style scoped>\n    .dataframe tbody tr th:only-of-type {\n        vertical-align: middle;\n    }\n\n    .dataframe tbody tr th {\n        vertical-align: top;\n    }\n\n    .dataframe thead th {\n        text-align: right;\n    }\n</style>\n<table border=\"1\" class=\"dataframe\">\n  <thead>\n    <tr style=\"text-align: right;\">\n      <th></th>\n      <th>datetime</th>\n      <th>id_operador</th>\n      <th>operador</th>\n      <th>id_departamento</th>\n      <th>departamento</th>\n      <th>id_municipio</th>\n      <th>municipio</th>\n      <th>suscriptores</th>\n      <th>entry_id</th>\n    </tr>\n  </thead>\n  <tbody>\n    <tr>\n      <th>0</th>\n      <td>2010/01</td>\n      <td>800075305</td>\n      <td>INGENIERIA EN POTENCIA ELECTRICA Y COMUNICACIO...</td>\n      <td>54</td>\n      <td>NORTE DE SANTANDER</td>\n      <td>54498</td>\n      <td>OCAÑA</td>\n      <td>2021</td>\n      <td>1</td>\n    </tr>\n    <tr>\n      <th>3</th>\n      <td>2010/01</td>\n      <td>800132211</td>\n      <td>H V TELEVISION S.A.S.</td>\n      <td>25</td>\n      <td>CUNDINAMARCA</td>\n      <td>25754</td>\n      <td>SOACHA</td>\n      <td>18928</td>\n      <td>4</td>\n    </tr>\n    <tr>\n      <th>4</th>\n      <td>2010/01</td>\n      <td>800179562</td>\n      <td>LEGON TELECOMUNICACIONES S.A.S.</td>\n      <td>5</td>\n      <td>ANTIOQUIA</td>\n      <td>5154</td>\n      <td>CAUCASIA</td>\n      <td>369</td>\n      <td>5</td>\n    </tr>\n    <tr>\n      <th>6</th>\n      <td>2010/01</td>\n      <td>800193670</td>\n      <td>PROMOTORA DE TELEVISION. INTERNET Y COMUNICACI...</td>\n      <td>66</td>\n      <td>RISARALDA</td>\n      <td>66088</td>\n      <td>BELÉN DE UMBRÍA</td>\n      <td>1403</td>\n      <td>7</td>\n    </tr>\n    <tr>\n      <th>7</th>\n      <td>2010/01</td>\n      <td>800194191</td>\n      <td>INGELCOM Ingeniería Electrónica y de Telecomun...</td>\n      <td>54</td>\n      <td>NORTE DE SANTANDER</td>\n      <td>54001</td>\n      <td>CÚCUTA</td>\n      <td>7544</td>\n      <td>8</td>\n    </tr>\n    <tr>\n      <th>...</th>\n      <td>...</td>\n      <td>...</td>\n      <td>...</td>\n      <td>...</td>\n      <td>...</td>\n      <td>...</td>\n      <td>...</td>\n      <td>...</td>\n      <td>...</td>\n    </tr>\n    <tr>\n      <th>546736</th>\n      <td>2022/03</td>\n      <td>901453896</td>\n      <td>FIBERLINKNETWORKS S.A.S</td>\n      <td>5</td>\n      <td>ANTIOQUIA</td>\n      <td>5736</td>\n      <td>SEGOVIA</td>\n      <td>903</td>\n      <td>546737</td>\n    </tr>\n    <tr>\n      <th>546737</th>\n      <td>2022/03</td>\n      <td>901453896</td>\n      <td>FIBERLINKNETWORKS S.A.S</td>\n      <td>86</td>\n      <td>PUTUMAYO</td>\n      <td>86568</td>\n      <td>PUERTO ASÍS</td>\n      <td>135</td>\n      <td>546738</td>\n    </tr>\n    <tr>\n      <th>546738</th>\n      <td>2022/03</td>\n      <td>901460140</td>\n      <td>DIGI COMUNICACIONES TV. NET S.A.S.</td>\n      <td>13</td>\n      <td>BOLÍVAR</td>\n      <td>13650</td>\n      <td>SAN FERNANDO</td>\n      <td>49</td>\n      <td>546739</td>\n    </tr>\n    <tr>\n      <th>546739</th>\n      <td>2022/03</td>\n      <td>901491625</td>\n      <td>VITEL COMUNICACIONES NET SAS</td>\n      <td>68</td>\n      <td>SANTANDER</td>\n      <td>68276</td>\n      <td>FLORIDABLANCA</td>\n      <td>142</td>\n      <td>546740</td>\n    </tr>\n    <tr>\n      <th>546740</th>\n      <td>2022/03</td>\n      <td>901501135</td>\n      <td>TUNET-WORK S.A.S.</td>\n      <td>54</td>\n      <td>NORTE DE SANTANDER</td>\n      <td>54405</td>\n      <td>LOS PATIOS</td>\n      <td>115</td>\n      <td>546741</td>\n    </tr>\n  </tbody>\n</table>\n<p>508861 rows × 9 columns</p>\n</div>"
     },
     "execution_count": 26,
     "metadata": {},
     "output_type": "execute_result"
    }
   ],
   "source": [
    "df_tv_sucrp"
   ],
   "metadata": {
    "collapsed": false,
    "pycharm": {
     "name": "#%%\n"
    }
   }
  },
  {
   "cell_type": "code",
   "execution_count": 27,
   "outputs": [],
   "source": [
    "datetime_list = df_tv_sucrp.datetime.unique()"
   ],
   "metadata": {
    "collapsed": false,
    "pycharm": {
     "name": "#%%\n"
    }
   }
  },
  {
   "cell_type": "code",
   "execution_count": 33,
   "outputs": [
    {
     "data": {
      "text/plain": "      datetime departamento                                       operador  \\\n0      2010/01    ANTIOQUIA                  CABLE BELLO TELEVISION S.A.S.   \n1      2010/01    ANTIOQUIA                LEGON TELECOMUNICACIONES S.A.S.   \n2      2010/01    ANTIOQUIA                          MGN CABLEVISION LTDA.   \n3      2010/01    ANTIOQUIA  VITEL LTDA (Antes CABLEVISION EL PALMAR LTDA)   \n4      2010/01       ARAUCA                                CABLETAME S A S   \n...        ...          ...                                            ...   \n34551  2022/03       VAUPÉS            COMUNICACION CELULAR S A COMCEL S A   \n34552  2022/03       VAUPÉS                          DIRECTV COLOMBIA LTDA   \n34553  2022/03      VICHADA        COLOMBIA TELECOMUNICACIONES S.A. E.S.P.   \n34554  2022/03      VICHADA            COMUNICACION CELULAR S A COMCEL S A   \n34555  2022/03      VICHADA                          DIRECTV COLOMBIA LTDA   \n\n       suscriptores  \n0             35995  \n1               369  \n2              1158  \n3              1379  \n4               691  \n...             ...  \n34551           241  \n34552          1627  \n34553           147  \n34554           647  \n34555          2926  \n\n[34556 rows x 4 columns]",
      "text/html": "<div>\n<style scoped>\n    .dataframe tbody tr th:only-of-type {\n        vertical-align: middle;\n    }\n\n    .dataframe tbody tr th {\n        vertical-align: top;\n    }\n\n    .dataframe thead th {\n        text-align: right;\n    }\n</style>\n<table border=\"1\" class=\"dataframe\">\n  <thead>\n    <tr style=\"text-align: right;\">\n      <th></th>\n      <th>datetime</th>\n      <th>departamento</th>\n      <th>operador</th>\n      <th>suscriptores</th>\n    </tr>\n  </thead>\n  <tbody>\n    <tr>\n      <th>0</th>\n      <td>2010/01</td>\n      <td>ANTIOQUIA</td>\n      <td>CABLE BELLO TELEVISION S.A.S.</td>\n      <td>35995</td>\n    </tr>\n    <tr>\n      <th>1</th>\n      <td>2010/01</td>\n      <td>ANTIOQUIA</td>\n      <td>LEGON TELECOMUNICACIONES S.A.S.</td>\n      <td>369</td>\n    </tr>\n    <tr>\n      <th>2</th>\n      <td>2010/01</td>\n      <td>ANTIOQUIA</td>\n      <td>MGN CABLEVISION LTDA.</td>\n      <td>1158</td>\n    </tr>\n    <tr>\n      <th>3</th>\n      <td>2010/01</td>\n      <td>ANTIOQUIA</td>\n      <td>VITEL LTDA (Antes CABLEVISION EL PALMAR LTDA)</td>\n      <td>1379</td>\n    </tr>\n    <tr>\n      <th>4</th>\n      <td>2010/01</td>\n      <td>ARAUCA</td>\n      <td>CABLETAME S A S</td>\n      <td>691</td>\n    </tr>\n    <tr>\n      <th>...</th>\n      <td>...</td>\n      <td>...</td>\n      <td>...</td>\n      <td>...</td>\n    </tr>\n    <tr>\n      <th>34551</th>\n      <td>2022/03</td>\n      <td>VAUPÉS</td>\n      <td>COMUNICACION CELULAR S A COMCEL S A</td>\n      <td>241</td>\n    </tr>\n    <tr>\n      <th>34552</th>\n      <td>2022/03</td>\n      <td>VAUPÉS</td>\n      <td>DIRECTV COLOMBIA LTDA</td>\n      <td>1627</td>\n    </tr>\n    <tr>\n      <th>34553</th>\n      <td>2022/03</td>\n      <td>VICHADA</td>\n      <td>COLOMBIA TELECOMUNICACIONES S.A. E.S.P.</td>\n      <td>147</td>\n    </tr>\n    <tr>\n      <th>34554</th>\n      <td>2022/03</td>\n      <td>VICHADA</td>\n      <td>COMUNICACION CELULAR S A COMCEL S A</td>\n      <td>647</td>\n    </tr>\n    <tr>\n      <th>34555</th>\n      <td>2022/03</td>\n      <td>VICHADA</td>\n      <td>DIRECTV COLOMBIA LTDA</td>\n      <td>2926</td>\n    </tr>\n  </tbody>\n</table>\n<p>34556 rows × 4 columns</p>\n</div>"
     },
     "execution_count": 33,
     "metadata": {},
     "output_type": "execute_result"
    }
   ],
   "source": [
    "df_tv_sucrp_depto_operador= df_tv_sucrp.groupby(['datetime', 'departamento', 'operador'])['suscriptores'].sum()\n",
    "df_tv_sucrp_depto_operador.to_csv('././bases_datos/suscriptores_tv_depto_operador.csv')\n",
    "df_tv_sucrp_depto_operador = pd.read_csv('././bases_datos/suscriptores_tv_depto_operador.csv')\n",
    "df_tv_sucrp_depto_operador"
   ],
   "metadata": {
    "collapsed": false,
    "pycharm": {
     "name": "#%%\n"
    }
   }
  },
  {
   "cell_type": "code",
   "execution_count": 34,
   "outputs": [
    {
     "data": {
      "text/plain": "      datetime departamento                                 operador  \\\n34217  2022/03     AMAZONAS                    DIRECTV COLOMBIA LTDA   \n34216  2022/03     AMAZONAS      COMUNICACION CELULAR S A COMCEL S A   \n34214  2022/03     AMAZONAS                           CABLEMAS S.A.S   \n34215  2022/03     AMAZONAS  COLOMBIA TELECOMUNICACIONES S.A. E.S.P.   \n34235  2022/03    ANTIOQUIA          UNE EPM TELECOMUNICACIONES S.A.   \n...        ...          ...                                      ...   \n34551  2022/03       VAUPÉS      COMUNICACION CELULAR S A COMCEL S A   \n34550  2022/03       VAUPÉS  COLOMBIA TELECOMUNICACIONES S.A. E.S.P.   \n34555  2022/03      VICHADA                    DIRECTV COLOMBIA LTDA   \n34554  2022/03      VICHADA      COMUNICACION CELULAR S A COMCEL S A   \n34553  2022/03      VICHADA  COLOMBIA TELECOMUNICACIONES S.A. E.S.P.   \n\n       suscriptores  \n34217          3922  \n34216          1388  \n34214           159  \n34215            83  \n34235        692313  \n...             ...  \n34551           241  \n34550            56  \n34555          2926  \n34554           647  \n34553           147  \n\n[342 rows x 4 columns]",
      "text/html": "<div>\n<style scoped>\n    .dataframe tbody tr th:only-of-type {\n        vertical-align: middle;\n    }\n\n    .dataframe tbody tr th {\n        vertical-align: top;\n    }\n\n    .dataframe thead th {\n        text-align: right;\n    }\n</style>\n<table border=\"1\" class=\"dataframe\">\n  <thead>\n    <tr style=\"text-align: right;\">\n      <th></th>\n      <th>datetime</th>\n      <th>departamento</th>\n      <th>operador</th>\n      <th>suscriptores</th>\n    </tr>\n  </thead>\n  <tbody>\n    <tr>\n      <th>34217</th>\n      <td>2022/03</td>\n      <td>AMAZONAS</td>\n      <td>DIRECTV COLOMBIA LTDA</td>\n      <td>3922</td>\n    </tr>\n    <tr>\n      <th>34216</th>\n      <td>2022/03</td>\n      <td>AMAZONAS</td>\n      <td>COMUNICACION CELULAR S A COMCEL S A</td>\n      <td>1388</td>\n    </tr>\n    <tr>\n      <th>34214</th>\n      <td>2022/03</td>\n      <td>AMAZONAS</td>\n      <td>CABLEMAS S.A.S</td>\n      <td>159</td>\n    </tr>\n    <tr>\n      <th>34215</th>\n      <td>2022/03</td>\n      <td>AMAZONAS</td>\n      <td>COLOMBIA TELECOMUNICACIONES S.A. E.S.P.</td>\n      <td>83</td>\n    </tr>\n    <tr>\n      <th>34235</th>\n      <td>2022/03</td>\n      <td>ANTIOQUIA</td>\n      <td>UNE EPM TELECOMUNICACIONES S.A.</td>\n      <td>692313</td>\n    </tr>\n    <tr>\n      <th>...</th>\n      <td>...</td>\n      <td>...</td>\n      <td>...</td>\n      <td>...</td>\n    </tr>\n    <tr>\n      <th>34551</th>\n      <td>2022/03</td>\n      <td>VAUPÉS</td>\n      <td>COMUNICACION CELULAR S A COMCEL S A</td>\n      <td>241</td>\n    </tr>\n    <tr>\n      <th>34550</th>\n      <td>2022/03</td>\n      <td>VAUPÉS</td>\n      <td>COLOMBIA TELECOMUNICACIONES S.A. E.S.P.</td>\n      <td>56</td>\n    </tr>\n    <tr>\n      <th>34555</th>\n      <td>2022/03</td>\n      <td>VICHADA</td>\n      <td>DIRECTV COLOMBIA LTDA</td>\n      <td>2926</td>\n    </tr>\n    <tr>\n      <th>34554</th>\n      <td>2022/03</td>\n      <td>VICHADA</td>\n      <td>COMUNICACION CELULAR S A COMCEL S A</td>\n      <td>647</td>\n    </tr>\n    <tr>\n      <th>34553</th>\n      <td>2022/03</td>\n      <td>VICHADA</td>\n      <td>COLOMBIA TELECOMUNICACIONES S.A. E.S.P.</td>\n      <td>147</td>\n    </tr>\n  </tbody>\n</table>\n<p>342 rows × 4 columns</p>\n</div>"
     },
     "execution_count": 34,
     "metadata": {},
     "output_type": "execute_result"
    }
   ],
   "source": [
    "df_tv_sucrp_depto_operador[df_tv_sucrp_depto_operador['datetime'] == datetime_list[-1]].sort_values(by=['departamento','suscriptores'], ascending=[True, False])"
   ],
   "metadata": {
    "collapsed": false,
    "pycharm": {
     "name": "#%%\n"
    }
   }
  },
  {
   "cell_type": "code",
   "execution_count": 35,
   "outputs": [
    {
     "data": {
      "text/plain": "      datetime departamento                                       operador  \\\n0      2010/01    ANTIOQUIA                  CABLE BELLO TELEVISION S.A.S.   \n3      2010/01    ANTIOQUIA  VITEL LTDA (Antes CABLEVISION EL PALMAR LTDA)   \n2      2010/01    ANTIOQUIA                          MGN CABLEVISION LTDA.   \n1      2010/01    ANTIOQUIA                LEGON TELECOMUNICACIONES S.A.S.   \n6      2010/01       ARAUCA                       T V SATELITE ARAUCA LTDA   \n...        ...          ...                                            ...   \n34551  2022/03       VAUPÉS            COMUNICACION CELULAR S A COMCEL S A   \n34550  2022/03       VAUPÉS        COLOMBIA TELECOMUNICACIONES S.A. E.S.P.   \n34555  2022/03      VICHADA                          DIRECTV COLOMBIA LTDA   \n34554  2022/03      VICHADA            COMUNICACION CELULAR S A COMCEL S A   \n34553  2022/03      VICHADA        COLOMBIA TELECOMUNICACIONES S.A. E.S.P.   \n\n       suscriptores  \n0             35995  \n3              1379  \n2              1158  \n1               369  \n6              1908  \n...             ...  \n34551           241  \n34550            56  \n34555          2926  \n34554           647  \n34553           147  \n\n[34556 rows x 4 columns]",
      "text/html": "<div>\n<style scoped>\n    .dataframe tbody tr th:only-of-type {\n        vertical-align: middle;\n    }\n\n    .dataframe tbody tr th {\n        vertical-align: top;\n    }\n\n    .dataframe thead th {\n        text-align: right;\n    }\n</style>\n<table border=\"1\" class=\"dataframe\">\n  <thead>\n    <tr style=\"text-align: right;\">\n      <th></th>\n      <th>datetime</th>\n      <th>departamento</th>\n      <th>operador</th>\n      <th>suscriptores</th>\n    </tr>\n  </thead>\n  <tbody>\n    <tr>\n      <th>0</th>\n      <td>2010/01</td>\n      <td>ANTIOQUIA</td>\n      <td>CABLE BELLO TELEVISION S.A.S.</td>\n      <td>35995</td>\n    </tr>\n    <tr>\n      <th>3</th>\n      <td>2010/01</td>\n      <td>ANTIOQUIA</td>\n      <td>VITEL LTDA (Antes CABLEVISION EL PALMAR LTDA)</td>\n      <td>1379</td>\n    </tr>\n    <tr>\n      <th>2</th>\n      <td>2010/01</td>\n      <td>ANTIOQUIA</td>\n      <td>MGN CABLEVISION LTDA.</td>\n      <td>1158</td>\n    </tr>\n    <tr>\n      <th>1</th>\n      <td>2010/01</td>\n      <td>ANTIOQUIA</td>\n      <td>LEGON TELECOMUNICACIONES S.A.S.</td>\n      <td>369</td>\n    </tr>\n    <tr>\n      <th>6</th>\n      <td>2010/01</td>\n      <td>ARAUCA</td>\n      <td>T V SATELITE ARAUCA LTDA</td>\n      <td>1908</td>\n    </tr>\n    <tr>\n      <th>...</th>\n      <td>...</td>\n      <td>...</td>\n      <td>...</td>\n      <td>...</td>\n    </tr>\n    <tr>\n      <th>34551</th>\n      <td>2022/03</td>\n      <td>VAUPÉS</td>\n      <td>COMUNICACION CELULAR S A COMCEL S A</td>\n      <td>241</td>\n    </tr>\n    <tr>\n      <th>34550</th>\n      <td>2022/03</td>\n      <td>VAUPÉS</td>\n      <td>COLOMBIA TELECOMUNICACIONES S.A. E.S.P.</td>\n      <td>56</td>\n    </tr>\n    <tr>\n      <th>34555</th>\n      <td>2022/03</td>\n      <td>VICHADA</td>\n      <td>DIRECTV COLOMBIA LTDA</td>\n      <td>2926</td>\n    </tr>\n    <tr>\n      <th>34554</th>\n      <td>2022/03</td>\n      <td>VICHADA</td>\n      <td>COMUNICACION CELULAR S A COMCEL S A</td>\n      <td>647</td>\n    </tr>\n    <tr>\n      <th>34553</th>\n      <td>2022/03</td>\n      <td>VICHADA</td>\n      <td>COLOMBIA TELECOMUNICACIONES S.A. E.S.P.</td>\n      <td>147</td>\n    </tr>\n  </tbody>\n</table>\n<p>34556 rows × 4 columns</p>\n</div>"
     },
     "execution_count": 35,
     "metadata": {},
     "output_type": "execute_result"
    }
   ],
   "source": [
    "df_tv_sucrp_depto_operador = df_tv_sucrp_depto_operador.sort_values(by=['datetime', 'departamento','suscriptores'], ascending=[True, True, False])\n",
    "df_tv_sucrp_depto_operador"
   ],
   "metadata": {
    "collapsed": false,
    "pycharm": {
     "name": "#%%\n"
    }
   }
  },
  {
   "cell_type": "code",
   "execution_count": 38,
   "outputs": [
    {
     "data": {
      "text/plain": "     datetime                                       departamento  suscriptores\n0     2010/01                                          ANTIOQUIA         38901\n17    2010/01                                    VALLE DEL CAUCA         20495\n9     2010/01                                       CUNDINAMARCA         18928\n13    2010/01                                 NORTE DE SANTANDER         10132\n7     2010/01                                              CAUCA          8969\n...       ...                                                ...           ...\n4244  2022/03                                           AMAZONAS          5552\n4276  2022/03                                            VICHADA          3720\n4260  2022/03                                            GUAINÍA          2779\n4275  2022/03                                             VAUPÉS          1924\n4247  2022/03  ARCHIPIÉLAGO DE SAN ANDRÉS, PROVIDENCIA Y SANT...           164\n\n[4277 rows x 3 columns]",
      "text/html": "<div>\n<style scoped>\n    .dataframe tbody tr th:only-of-type {\n        vertical-align: middle;\n    }\n\n    .dataframe tbody tr th {\n        vertical-align: top;\n    }\n\n    .dataframe thead th {\n        text-align: right;\n    }\n</style>\n<table border=\"1\" class=\"dataframe\">\n  <thead>\n    <tr style=\"text-align: right;\">\n      <th></th>\n      <th>datetime</th>\n      <th>departamento</th>\n      <th>suscriptores</th>\n    </tr>\n  </thead>\n  <tbody>\n    <tr>\n      <th>0</th>\n      <td>2010/01</td>\n      <td>ANTIOQUIA</td>\n      <td>38901</td>\n    </tr>\n    <tr>\n      <th>17</th>\n      <td>2010/01</td>\n      <td>VALLE DEL CAUCA</td>\n      <td>20495</td>\n    </tr>\n    <tr>\n      <th>9</th>\n      <td>2010/01</td>\n      <td>CUNDINAMARCA</td>\n      <td>18928</td>\n    </tr>\n    <tr>\n      <th>13</th>\n      <td>2010/01</td>\n      <td>NORTE DE SANTANDER</td>\n      <td>10132</td>\n    </tr>\n    <tr>\n      <th>7</th>\n      <td>2010/01</td>\n      <td>CAUCA</td>\n      <td>8969</td>\n    </tr>\n    <tr>\n      <th>...</th>\n      <td>...</td>\n      <td>...</td>\n      <td>...</td>\n    </tr>\n    <tr>\n      <th>4244</th>\n      <td>2022/03</td>\n      <td>AMAZONAS</td>\n      <td>5552</td>\n    </tr>\n    <tr>\n      <th>4276</th>\n      <td>2022/03</td>\n      <td>VICHADA</td>\n      <td>3720</td>\n    </tr>\n    <tr>\n      <th>4260</th>\n      <td>2022/03</td>\n      <td>GUAINÍA</td>\n      <td>2779</td>\n    </tr>\n    <tr>\n      <th>4275</th>\n      <td>2022/03</td>\n      <td>VAUPÉS</td>\n      <td>1924</td>\n    </tr>\n    <tr>\n      <th>4247</th>\n      <td>2022/03</td>\n      <td>ARCHIPIÉLAGO DE SAN ANDRÉS, PROVIDENCIA Y SANT...</td>\n      <td>164</td>\n    </tr>\n  </tbody>\n</table>\n<p>4277 rows × 3 columns</p>\n</div>"
     },
     "execution_count": 38,
     "metadata": {},
     "output_type": "execute_result"
    }
   ],
   "source": [
    "df_tv_sucrp_depto= df_tv_sucrp.groupby(['datetime', 'departamento'])['suscriptores'].sum()\n",
    "df_tv_sucrp_depto.to_csv('././bases_datos/suscriptores_tv_depto.csv')\n",
    "df_tv_sucrp_depto = pd.read_csv('././bases_datos/suscriptores_tv_depto.csv')\n",
    "df_tv_sucrp_depto = df_tv_sucrp_depto.sort_values(by=['datetime', 'suscriptores'], ascending=[True, False])\n",
    "df_tv_sucrp_depto"
   ],
   "metadata": {
    "collapsed": false,
    "pycharm": {
     "name": "#%%\n"
    }
   }
  }
 ],
 "metadata": {
  "kernelspec": {
   "display_name": "Python 3",
   "language": "python",
   "name": "python3"
  },
  "language_info": {
   "codemirror_mode": {
    "name": "ipython",
    "version": 2
   },
   "file_extension": ".py",
   "mimetype": "text/x-python",
   "name": "python",
   "nbconvert_exporter": "python",
   "pygments_lexer": "ipython2",
   "version": "2.7.6"
  }
 },
 "nbformat": 4,
 "nbformat_minor": 0
}