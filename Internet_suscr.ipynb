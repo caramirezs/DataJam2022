{
 "cells": [
  {
   "cell_type": "code",
   "execution_count": 4,
   "outputs": [],
   "source": [
    "import pandas as pd"
   ],
   "metadata": {
    "collapsed": false,
    "pycharm": {
     "name": "#%%\n"
    }
   }
  },
  {
   "cell_type": "code",
   "execution_count": 30,
   "outputs": [
    {
     "name": "stderr",
     "output_type": "stream",
     "text": [
      "C:\\Users\\Public\\Documents\\Wondershare\\CreatorTemp\\ipykernel_12308\\3022981636.py:6: DtypeWarning: Columns (10,11) have mixed types. Specify dtype option on import or set low_memory=False.\n",
      "  df_3 = pd.read_csv('./bases_datos/accesos_internet_fijo_desde20172T_p3.csv')\n"
     ]
    }
   ],
   "source": [
    "df_7 = pd.read_csv('./bases_datos/accesos_internet_fijo_hasta20171T_p1.csv')\n",
    "df_8 = pd.read_csv('./bases_datos/accesos_internet_fijo_hasta20171T_p2.csv')\n",
    "df_9 = pd.read_csv('./bases_datos/accesos_internet_fijo_hasta20171T_p3.csv')\n",
    "df_1 = pd.read_csv('./bases_datos/accesos_internet_fijo_desde20172T_p1.csv')\n",
    "df_2 = pd.read_csv('./bases_datos/accesos_internet_fijo_desde20172T_p2.csv')\n",
    "df_3 = pd.read_csv('./bases_datos/accesos_internet_fijo_desde20172T_p3.csv')\n",
    "df_4 = pd.read_csv('./bases_datos/accesos_internet_fijo_desde20172T_p4.csv')\n",
    "df_5 = pd.read_csv('./bases_datos/accesos_internet_fijo_desde20172T_p5.csv')\n",
    "df_6 = pd.read_csv('./bases_datos/accesos_internet_fijo_desde20172T_p6.csv')\n",
    "df_internet_sucrp = pd.concat([df_1, df_2, df_3, df_4, df_5, df_6])"
   ],
   "metadata": {
    "collapsed": false,
    "pycharm": {
     "name": "#%%\n"
    }
   }
  },
  {
   "cell_type": "code",
   "execution_count": 31,
   "outputs": [],
   "source": [
    "df_internet_sucrp\n",
    "# Crear una columna con los datos temporales\n",
    "df_internet_sucrp['datetime']=  df_internet_sucrp.apply(lambda row: f'{row.anno}/{str(row.trimestre).zfill(2)}', axis=1)\n",
    "# Organizar el dataframe\n",
    "\n",
    "lista_columnas = ['datetime', 'id_empresa', 'empresa', 'id_departamento', 'departamento', 'id_municipio', 'municipio', 'accesos']\n",
    "df_internet_sucrp = df_internet_sucrp[lista_columnas]\n",
    "# Eliminar entradas que no tienen datos por departamento\n",
    "\n",
    "df_internet_sucrp = df_internet_sucrp.dropna(subset=['departamento', 'accesos'])\n",
    "# Eliminar entradas con suscriptores = 0\n",
    "df_internet_sucrp = df_internet_sucrp[df_internet_sucrp.accesos != 0]\n",
    "df_internet_sucrp.reset_index(drop=True, inplace=True)\n",
    "\n",
    "# Lista de los años / meses\n",
    "datetime_list = df_internet_sucrp.datetime.unique()\n",
    "#Lista departamentos\n",
    "dpto_list = df_internet_sucrp.departamento.unique()\n",
    "# Lista municipios\n",
    "mpio_list = df_internet_sucrp.municipio.unique()"
   ],
   "metadata": {
    "collapsed": false,
    "pycharm": {
     "name": "#%%\n"
    }
   }
  },
  {
   "cell_type": "code",
   "execution_count": 32,
   "outputs": [
    {
     "data": {
      "text/plain": "        datetime  id_empresa                               empresa  \\\n0        2017/02   900217277  SYSTEL COMUNICACIONES CARTAGO S.A.S.   \n1        2017/02   900217277  SYSTEL COMUNICACIONES CARTAGO S.A.S.   \n2        2017/02   900217277  SYSTEL COMUNICACIONES CARTAGO S.A.S.   \n3        2017/02   900217277  SYSTEL COMUNICACIONES CARTAGO S.A.S.   \n4        2017/02   900217277  SYSTEL COMUNICACIONES CARTAGO S.A.S.   \n...          ...         ...                                   ...   \n1505576  2022/01   901397346        AJ GLOBAL PROYECTOS NET S.A.S.   \n1505577  2022/01   901397346        AJ GLOBAL PROYECTOS NET S.A.S.   \n1505578  2022/01   901397346        AJ GLOBAL PROYECTOS NET S.A.S.   \n1505579  2022/01   901397346        AJ GLOBAL PROYECTOS NET S.A.S.   \n1505580  2022/01   901397346        AJ GLOBAL PROYECTOS NET S.A.S.   \n\n         id_departamento     departamento  id_municipio       municipio  \\\n0                     76  VALLE DEL CAUCA         76147         CARTAGO   \n1                     76  VALLE DEL CAUCA         76147         CARTAGO   \n2                     76  VALLE DEL CAUCA         76147         CARTAGO   \n3                     76  VALLE DEL CAUCA         76147         CARTAGO   \n4                     76  VALLE DEL CAUCA         76147         CARTAGO   \n...                  ...              ...           ...             ...   \n1505576               15           BOYACÁ         15407  VILLA DE LEYVA   \n1505577               15           BOYACÁ         15776     SUTAMARCHÁN   \n1505578               15           BOYACÁ         15407  VILLA DE LEYVA   \n1505579               15           BOYACÁ         15407  VILLA DE LEYVA   \n1505580               15           BOYACÁ         15776     SUTAMARCHÁN   \n\n         accesos  \n0              7  \n1              1  \n2              1  \n3             13  \n4              2  \n...          ...  \n1505576        2  \n1505577        2  \n1505578       10  \n1505579        2  \n1505580        1  \n\n[1505581 rows x 8 columns]",
      "text/html": "<div>\n<style scoped>\n    .dataframe tbody tr th:only-of-type {\n        vertical-align: middle;\n    }\n\n    .dataframe tbody tr th {\n        vertical-align: top;\n    }\n\n    .dataframe thead th {\n        text-align: right;\n    }\n</style>\n<table border=\"1\" class=\"dataframe\">\n  <thead>\n    <tr style=\"text-align: right;\">\n      <th></th>\n      <th>datetime</th>\n      <th>id_empresa</th>\n      <th>empresa</th>\n      <th>id_departamento</th>\n      <th>departamento</th>\n      <th>id_municipio</th>\n      <th>municipio</th>\n      <th>accesos</th>\n    </tr>\n  </thead>\n  <tbody>\n    <tr>\n      <th>0</th>\n      <td>2017/02</td>\n      <td>900217277</td>\n      <td>SYSTEL COMUNICACIONES CARTAGO S.A.S.</td>\n      <td>76</td>\n      <td>VALLE DEL CAUCA</td>\n      <td>76147</td>\n      <td>CARTAGO</td>\n      <td>7</td>\n    </tr>\n    <tr>\n      <th>1</th>\n      <td>2017/02</td>\n      <td>900217277</td>\n      <td>SYSTEL COMUNICACIONES CARTAGO S.A.S.</td>\n      <td>76</td>\n      <td>VALLE DEL CAUCA</td>\n      <td>76147</td>\n      <td>CARTAGO</td>\n      <td>1</td>\n    </tr>\n    <tr>\n      <th>2</th>\n      <td>2017/02</td>\n      <td>900217277</td>\n      <td>SYSTEL COMUNICACIONES CARTAGO S.A.S.</td>\n      <td>76</td>\n      <td>VALLE DEL CAUCA</td>\n      <td>76147</td>\n      <td>CARTAGO</td>\n      <td>1</td>\n    </tr>\n    <tr>\n      <th>3</th>\n      <td>2017/02</td>\n      <td>900217277</td>\n      <td>SYSTEL COMUNICACIONES CARTAGO S.A.S.</td>\n      <td>76</td>\n      <td>VALLE DEL CAUCA</td>\n      <td>76147</td>\n      <td>CARTAGO</td>\n      <td>13</td>\n    </tr>\n    <tr>\n      <th>4</th>\n      <td>2017/02</td>\n      <td>900217277</td>\n      <td>SYSTEL COMUNICACIONES CARTAGO S.A.S.</td>\n      <td>76</td>\n      <td>VALLE DEL CAUCA</td>\n      <td>76147</td>\n      <td>CARTAGO</td>\n      <td>2</td>\n    </tr>\n    <tr>\n      <th>...</th>\n      <td>...</td>\n      <td>...</td>\n      <td>...</td>\n      <td>...</td>\n      <td>...</td>\n      <td>...</td>\n      <td>...</td>\n      <td>...</td>\n    </tr>\n    <tr>\n      <th>1505576</th>\n      <td>2022/01</td>\n      <td>901397346</td>\n      <td>AJ GLOBAL PROYECTOS NET S.A.S.</td>\n      <td>15</td>\n      <td>BOYACÁ</td>\n      <td>15407</td>\n      <td>VILLA DE LEYVA</td>\n      <td>2</td>\n    </tr>\n    <tr>\n      <th>1505577</th>\n      <td>2022/01</td>\n      <td>901397346</td>\n      <td>AJ GLOBAL PROYECTOS NET S.A.S.</td>\n      <td>15</td>\n      <td>BOYACÁ</td>\n      <td>15776</td>\n      <td>SUTAMARCHÁN</td>\n      <td>2</td>\n    </tr>\n    <tr>\n      <th>1505578</th>\n      <td>2022/01</td>\n      <td>901397346</td>\n      <td>AJ GLOBAL PROYECTOS NET S.A.S.</td>\n      <td>15</td>\n      <td>BOYACÁ</td>\n      <td>15407</td>\n      <td>VILLA DE LEYVA</td>\n      <td>10</td>\n    </tr>\n    <tr>\n      <th>1505579</th>\n      <td>2022/01</td>\n      <td>901397346</td>\n      <td>AJ GLOBAL PROYECTOS NET S.A.S.</td>\n      <td>15</td>\n      <td>BOYACÁ</td>\n      <td>15407</td>\n      <td>VILLA DE LEYVA</td>\n      <td>2</td>\n    </tr>\n    <tr>\n      <th>1505580</th>\n      <td>2022/01</td>\n      <td>901397346</td>\n      <td>AJ GLOBAL PROYECTOS NET S.A.S.</td>\n      <td>15</td>\n      <td>BOYACÁ</td>\n      <td>15776</td>\n      <td>SUTAMARCHÁN</td>\n      <td>1</td>\n    </tr>\n  </tbody>\n</table>\n<p>1505581 rows × 8 columns</p>\n</div>"
     },
     "execution_count": 32,
     "metadata": {},
     "output_type": "execute_result"
    }
   ],
   "source": [
    "df_internet_sucrp"
   ],
   "metadata": {
    "collapsed": false,
    "pycharm": {
     "name": "#%%\n"
    }
   }
  },
  {
   "cell_type": "code",
   "execution_count": 33,
   "outputs": [
    {
     "data": {
      "text/plain": "      id_departamento departamento  id_municipio       municipio\n0                   0     COLOMBIA             0        COLOMBIA\n1                   5    ANTIOQUIA          5001        MEDELLÍN\n2                   5    ANTIOQUIA          5002       ABEJORRAL\n3                   5    ANTIOQUIA          5004        ABRIAQUÍ\n4                   5    ANTIOQUIA          5021      ALEJANDRÍA\n...               ...          ...           ...             ...\n1117               97       VAUPÉS         97889        YAVARATÉ\n1118               99      VICHADA         99001  PUERTO CARREÑO\n1119               99      VICHADA         99524    LA PRIMAVERA\n1120               99      VICHADA         99624   SANTA ROSALÍA\n1121               99      VICHADA         99773        CUMARIBO\n\n[1122 rows x 4 columns]",
      "text/html": "<div>\n<style scoped>\n    .dataframe tbody tr th:only-of-type {\n        vertical-align: middle;\n    }\n\n    .dataframe tbody tr th {\n        vertical-align: top;\n    }\n\n    .dataframe thead th {\n        text-align: right;\n    }\n</style>\n<table border=\"1\" class=\"dataframe\">\n  <thead>\n    <tr style=\"text-align: right;\">\n      <th></th>\n      <th>id_departamento</th>\n      <th>departamento</th>\n      <th>id_municipio</th>\n      <th>municipio</th>\n    </tr>\n  </thead>\n  <tbody>\n    <tr>\n      <th>0</th>\n      <td>0</td>\n      <td>COLOMBIA</td>\n      <td>0</td>\n      <td>COLOMBIA</td>\n    </tr>\n    <tr>\n      <th>1</th>\n      <td>5</td>\n      <td>ANTIOQUIA</td>\n      <td>5001</td>\n      <td>MEDELLÍN</td>\n    </tr>\n    <tr>\n      <th>2</th>\n      <td>5</td>\n      <td>ANTIOQUIA</td>\n      <td>5002</td>\n      <td>ABEJORRAL</td>\n    </tr>\n    <tr>\n      <th>3</th>\n      <td>5</td>\n      <td>ANTIOQUIA</td>\n      <td>5004</td>\n      <td>ABRIAQUÍ</td>\n    </tr>\n    <tr>\n      <th>4</th>\n      <td>5</td>\n      <td>ANTIOQUIA</td>\n      <td>5021</td>\n      <td>ALEJANDRÍA</td>\n    </tr>\n    <tr>\n      <th>...</th>\n      <td>...</td>\n      <td>...</td>\n      <td>...</td>\n      <td>...</td>\n    </tr>\n    <tr>\n      <th>1117</th>\n      <td>97</td>\n      <td>VAUPÉS</td>\n      <td>97889</td>\n      <td>YAVARATÉ</td>\n    </tr>\n    <tr>\n      <th>1118</th>\n      <td>99</td>\n      <td>VICHADA</td>\n      <td>99001</td>\n      <td>PUERTO CARREÑO</td>\n    </tr>\n    <tr>\n      <th>1119</th>\n      <td>99</td>\n      <td>VICHADA</td>\n      <td>99524</td>\n      <td>LA PRIMAVERA</td>\n    </tr>\n    <tr>\n      <th>1120</th>\n      <td>99</td>\n      <td>VICHADA</td>\n      <td>99624</td>\n      <td>SANTA ROSALÍA</td>\n    </tr>\n    <tr>\n      <th>1121</th>\n      <td>99</td>\n      <td>VICHADA</td>\n      <td>99773</td>\n      <td>CUMARIBO</td>\n    </tr>\n  </tbody>\n</table>\n<p>1122 rows × 4 columns</p>\n</div>"
     },
     "execution_count": 33,
     "metadata": {},
     "output_type": "execute_result"
    }
   ],
   "source": [
    "# Lista de municipios y departamentos con códigos, se necesita para más adelante\n",
    "lista_dpto_mpio = df_internet_sucrp[['id_departamento', 'departamento', 'id_municipio', 'municipio']].drop_duplicates().sort_values(by=['id_municipio'])\n",
    "lista_dpto_mpio.reset_index(drop=True, inplace=True)\n",
    "lista_dpto_mpio"
   ],
   "metadata": {
    "collapsed": false,
    "pycharm": {
     "name": "#%%\n"
    }
   }
  },
  {
   "cell_type": "markdown",
   "source": [],
   "metadata": {
    "collapsed": false,
    "pycharm": {
     "name": "#%% md\n"
    }
   }
  },
  {
   "cell_type": "code",
   "execution_count": 34,
   "outputs": [],
   "source": [
    "# Suscriptores por municipio\n",
    "## Suscriptores por municipio con operador"
   ],
   "metadata": {
    "collapsed": false,
    "pycharm": {
     "name": "#%%\n"
    }
   }
  },
  {
   "cell_type": "code",
   "execution_count": 35,
   "outputs": [],
   "source": [
    "lista_dpto_mpio_operador= df_internet_sucrp.groupby(['datetime', 'id_departamento', 'departamento', 'id_municipio', 'municipio', 'empresa'])['accesos'].sum()\n",
    "lista_dpto_mpio_operador.to_csv('./bases_datos/suscriptores_internet_mpio_operador.csv')\n",
    "lista_dpto_mpio_operador = pd.read_csv('./bases_datos/suscriptores_internet_mpio_operador.csv', index_col=0)\n",
    "lista_dpto_mpio_operador = lista_dpto_mpio_operador.sort_values(by=['datetime', 'departamento','municipio', 'accesos'], ascending=[True, True, True, False])\n",
    "# Se guarda la vase de datos de suscriptores por municipio por operador\n",
    "lista_dpto_mpio_operador.to_csv('./bases_datos/suscriptores_internet_mpio_operador.csv')"
   ],
   "metadata": {
    "collapsed": false,
    "pycharm": {
     "name": "#%%\n"
    }
   }
  },
  {
   "cell_type": "code",
   "execution_count": 36,
   "outputs": [
    {
     "data": {
      "text/plain": "       datetime  id_departamento departamento  id_municipio       municipio  \\\n0       2017/02               91     AMAZONAS         91405     LA CHORRERA   \n1       2017/02               91     AMAZONAS         91001         LETICIA   \n2       2017/02               91     AMAZONAS         91001         LETICIA   \n3       2017/02               91     AMAZONAS         91001         LETICIA   \n4       2017/02               91     AMAZONAS         91001         LETICIA   \n...         ...              ...          ...           ...             ...   \n157592  2022/01               99      VICHADA         99001  PUERTO CARREÑO   \n157593  2022/01               99      VICHADA         99001  PUERTO CARREÑO   \n157594  2022/01               99      VICHADA         99624   SANTA ROSALÍA   \n157595  2022/01               99      VICHADA         99624   SANTA ROSALÍA   \n157596  2022/01               99      VICHADA         99624   SANTA ROSALÍA   \n\n                                        empresa  accesos  \n0               SKYNET DE COLOMBIA S.A.S. E.S.P        1  \n1       COLOMBIA TELECOMUNICACIONES S.A. E.S.P.      341  \n2                                   AXESAT S.A.       50  \n3               SKYNET DE COLOMBIA S.A.S. E.S.P       20  \n4                  IFX NETWORKS COLOMBIA S.A.S.        4  \n...                                         ...      ...  \n157592     AZTECA COMUNICACIONES COLOMBIA S.A.S        1  \n157593                CENTURYLINK COLOMBIA S.A.        1  \n157594                              AXESAT S.A.        8  \n157595     AZTECA COMUNICACIONES COLOMBIA S.A.S        2  \n157596          SKYNET DE COLOMBIA S.A.S. E.S.P        1  \n\n[157597 rows x 7 columns]",
      "text/html": "<div>\n<style scoped>\n    .dataframe tbody tr th:only-of-type {\n        vertical-align: middle;\n    }\n\n    .dataframe tbody tr th {\n        vertical-align: top;\n    }\n\n    .dataframe thead th {\n        text-align: right;\n    }\n</style>\n<table border=\"1\" class=\"dataframe\">\n  <thead>\n    <tr style=\"text-align: right;\">\n      <th></th>\n      <th>datetime</th>\n      <th>id_departamento</th>\n      <th>departamento</th>\n      <th>id_municipio</th>\n      <th>municipio</th>\n      <th>empresa</th>\n      <th>accesos</th>\n    </tr>\n  </thead>\n  <tbody>\n    <tr>\n      <th>0</th>\n      <td>2017/02</td>\n      <td>91</td>\n      <td>AMAZONAS</td>\n      <td>91405</td>\n      <td>LA CHORRERA</td>\n      <td>SKYNET DE COLOMBIA S.A.S. E.S.P</td>\n      <td>1</td>\n    </tr>\n    <tr>\n      <th>1</th>\n      <td>2017/02</td>\n      <td>91</td>\n      <td>AMAZONAS</td>\n      <td>91001</td>\n      <td>LETICIA</td>\n      <td>COLOMBIA TELECOMUNICACIONES S.A. E.S.P.</td>\n      <td>341</td>\n    </tr>\n    <tr>\n      <th>2</th>\n      <td>2017/02</td>\n      <td>91</td>\n      <td>AMAZONAS</td>\n      <td>91001</td>\n      <td>LETICIA</td>\n      <td>AXESAT S.A.</td>\n      <td>50</td>\n    </tr>\n    <tr>\n      <th>3</th>\n      <td>2017/02</td>\n      <td>91</td>\n      <td>AMAZONAS</td>\n      <td>91001</td>\n      <td>LETICIA</td>\n      <td>SKYNET DE COLOMBIA S.A.S. E.S.P</td>\n      <td>20</td>\n    </tr>\n    <tr>\n      <th>4</th>\n      <td>2017/02</td>\n      <td>91</td>\n      <td>AMAZONAS</td>\n      <td>91001</td>\n      <td>LETICIA</td>\n      <td>IFX NETWORKS COLOMBIA S.A.S.</td>\n      <td>4</td>\n    </tr>\n    <tr>\n      <th>...</th>\n      <td>...</td>\n      <td>...</td>\n      <td>...</td>\n      <td>...</td>\n      <td>...</td>\n      <td>...</td>\n      <td>...</td>\n    </tr>\n    <tr>\n      <th>157592</th>\n      <td>2022/01</td>\n      <td>99</td>\n      <td>VICHADA</td>\n      <td>99001</td>\n      <td>PUERTO CARREÑO</td>\n      <td>AZTECA COMUNICACIONES COLOMBIA S.A.S</td>\n      <td>1</td>\n    </tr>\n    <tr>\n      <th>157593</th>\n      <td>2022/01</td>\n      <td>99</td>\n      <td>VICHADA</td>\n      <td>99001</td>\n      <td>PUERTO CARREÑO</td>\n      <td>CENTURYLINK COLOMBIA S.A.</td>\n      <td>1</td>\n    </tr>\n    <tr>\n      <th>157594</th>\n      <td>2022/01</td>\n      <td>99</td>\n      <td>VICHADA</td>\n      <td>99624</td>\n      <td>SANTA ROSALÍA</td>\n      <td>AXESAT S.A.</td>\n      <td>8</td>\n    </tr>\n    <tr>\n      <th>157595</th>\n      <td>2022/01</td>\n      <td>99</td>\n      <td>VICHADA</td>\n      <td>99624</td>\n      <td>SANTA ROSALÍA</td>\n      <td>AZTECA COMUNICACIONES COLOMBIA S.A.S</td>\n      <td>2</td>\n    </tr>\n    <tr>\n      <th>157596</th>\n      <td>2022/01</td>\n      <td>99</td>\n      <td>VICHADA</td>\n      <td>99624</td>\n      <td>SANTA ROSALÍA</td>\n      <td>SKYNET DE COLOMBIA S.A.S. E.S.P</td>\n      <td>1</td>\n    </tr>\n  </tbody>\n</table>\n<p>157597 rows × 7 columns</p>\n</div>"
     },
     "execution_count": 36,
     "metadata": {},
     "output_type": "execute_result"
    }
   ],
   "source": [
    "lista_dpto_mpio_operador = pd.read_csv('./bases_datos/suscriptores_internet_mpio_operador.csv')\n",
    "lista_dpto_mpio_operador"
   ],
   "metadata": {
    "collapsed": false,
    "pycharm": {
     "name": "#%%\n"
    }
   }
  },
  {
   "cell_type": "markdown",
   "source": [
    "## Suscriptores por municipio sin operador"
   ],
   "metadata": {
    "collapsed": false,
    "pycharm": {
     "name": "#%% md\n"
    }
   }
  },
  {
   "cell_type": "code",
   "execution_count": 37,
   "outputs": [],
   "source": [
    "df_tv_sucrp_mpio= df_internet_sucrp.groupby(['datetime', 'id_departamento', 'departamento', 'id_municipio', 'municipio'])['accesos'].sum()\n",
    "df_tv_sucrp_mpio.to_csv('./bases_datos/suscriptores_internet_mpio.csv')\n",
    "df_tv_sucrp_mpio = pd.read_csv('./bases_datos/suscriptores_internet_mpio.csv', index_col=0)\n",
    "df_tv_sucrp_mpio = df_tv_sucrp_mpio.sort_values(by=['datetime', 'accesos'], ascending=[True, False])\n",
    "# Se guarda la vase de datos de suscriptores por municipio por operador\n",
    "df_tv_sucrp_mpio.to_csv('./bases_datos/suscriptores_internet_mpio.csv')"
   ],
   "metadata": {
    "collapsed": false,
    "pycharm": {
     "name": "#%%\n"
    }
   }
  },
  {
   "cell_type": "code",
   "execution_count": 38,
   "outputs": [
    {
     "data": {
      "text/plain": "      datetime  id_departamento     departamento  id_municipio     municipio  \\\n0      2017/02               11      BOGOTÁ D.C.         11001  BOGOTÁ, D.C.   \n1      2017/02                5        ANTIOQUIA          5001      MEDELLÍN   \n2      2017/02               76  VALLE DEL CAUCA         76001          CALI   \n3      2017/02                8        ATLÁNTICO          8001  BARRANQUILLA   \n4      2017/02               68        SANTANDER         68001   BUCARAMANGA   \n...        ...              ...              ...           ...           ...   \n22252  2022/01               94          GUAINÍA         94885  LA GUADALUPE   \n22253  2022/01               91         AMAZONAS         91405   LA CHORRERA   \n22254  2022/01               91         AMAZONAS         91430   LA VICTORIA   \n22255  2022/01               97           VAUPÉS         97777     PAPUNAHUA   \n22256  2022/01               97           VAUPÉS         97889      YAVARATÉ   \n\n       accesos  \n0      1776759  \n1       556657  \n2       446689  \n3       213641  \n4       143867  \n...        ...  \n22252        2  \n22253        1  \n22254        1  \n22255        1  \n22256        1  \n\n[22257 rows x 6 columns]",
      "text/html": "<div>\n<style scoped>\n    .dataframe tbody tr th:only-of-type {\n        vertical-align: middle;\n    }\n\n    .dataframe tbody tr th {\n        vertical-align: top;\n    }\n\n    .dataframe thead th {\n        text-align: right;\n    }\n</style>\n<table border=\"1\" class=\"dataframe\">\n  <thead>\n    <tr style=\"text-align: right;\">\n      <th></th>\n      <th>datetime</th>\n      <th>id_departamento</th>\n      <th>departamento</th>\n      <th>id_municipio</th>\n      <th>municipio</th>\n      <th>accesos</th>\n    </tr>\n  </thead>\n  <tbody>\n    <tr>\n      <th>0</th>\n      <td>2017/02</td>\n      <td>11</td>\n      <td>BOGOTÁ D.C.</td>\n      <td>11001</td>\n      <td>BOGOTÁ, D.C.</td>\n      <td>1776759</td>\n    </tr>\n    <tr>\n      <th>1</th>\n      <td>2017/02</td>\n      <td>5</td>\n      <td>ANTIOQUIA</td>\n      <td>5001</td>\n      <td>MEDELLÍN</td>\n      <td>556657</td>\n    </tr>\n    <tr>\n      <th>2</th>\n      <td>2017/02</td>\n      <td>76</td>\n      <td>VALLE DEL CAUCA</td>\n      <td>76001</td>\n      <td>CALI</td>\n      <td>446689</td>\n    </tr>\n    <tr>\n      <th>3</th>\n      <td>2017/02</td>\n      <td>8</td>\n      <td>ATLÁNTICO</td>\n      <td>8001</td>\n      <td>BARRANQUILLA</td>\n      <td>213641</td>\n    </tr>\n    <tr>\n      <th>4</th>\n      <td>2017/02</td>\n      <td>68</td>\n      <td>SANTANDER</td>\n      <td>68001</td>\n      <td>BUCARAMANGA</td>\n      <td>143867</td>\n    </tr>\n    <tr>\n      <th>...</th>\n      <td>...</td>\n      <td>...</td>\n      <td>...</td>\n      <td>...</td>\n      <td>...</td>\n      <td>...</td>\n    </tr>\n    <tr>\n      <th>22252</th>\n      <td>2022/01</td>\n      <td>94</td>\n      <td>GUAINÍA</td>\n      <td>94885</td>\n      <td>LA GUADALUPE</td>\n      <td>2</td>\n    </tr>\n    <tr>\n      <th>22253</th>\n      <td>2022/01</td>\n      <td>91</td>\n      <td>AMAZONAS</td>\n      <td>91405</td>\n      <td>LA CHORRERA</td>\n      <td>1</td>\n    </tr>\n    <tr>\n      <th>22254</th>\n      <td>2022/01</td>\n      <td>91</td>\n      <td>AMAZONAS</td>\n      <td>91430</td>\n      <td>LA VICTORIA</td>\n      <td>1</td>\n    </tr>\n    <tr>\n      <th>22255</th>\n      <td>2022/01</td>\n      <td>97</td>\n      <td>VAUPÉS</td>\n      <td>97777</td>\n      <td>PAPUNAHUA</td>\n      <td>1</td>\n    </tr>\n    <tr>\n      <th>22256</th>\n      <td>2022/01</td>\n      <td>97</td>\n      <td>VAUPÉS</td>\n      <td>97889</td>\n      <td>YAVARATÉ</td>\n      <td>1</td>\n    </tr>\n  </tbody>\n</table>\n<p>22257 rows × 6 columns</p>\n</div>"
     },
     "execution_count": 38,
     "metadata": {},
     "output_type": "execute_result"
    }
   ],
   "source": [
    "df_tv_sucrp_dpto = pd.read_csv('./bases_datos/suscriptores_internet_mpio.csv')\n",
    "df_tv_sucrp_dpto"
   ],
   "metadata": {
    "collapsed": false,
    "pycharm": {
     "name": "#%%\n"
    }
   }
  },
  {
   "cell_type": "code",
   "execution_count": 63,
   "outputs": [
    {
     "data": {
      "text/plain": "      departamento       municipio  2017/02  2017/03  2017/04  2018/01  \\\n5001     ANTIOQUIA        MEDELLÍN   556657   565341   569520   574317   \n5002     ANTIOQUIA       ABEJORRAL      940      967      962      985   \n5004     ANTIOQUIA        ABRIAQUÍ       68       68       65       73   \n5021     ANTIOQUIA      ALEJANDRÍA      293      293      289      302   \n5030     ANTIOQUIA           AMAGÁ     2642     2519     2668     2712   \n...            ...             ...      ...      ...      ...      ...   \n97889       VAUPÉS        YAVARATÉ        0        0        0        0   \n99001      VICHADA  PUERTO CARREÑO      891      899     2088     1393   \n99524      VICHADA    LA PRIMAVERA       33       32       40       38   \n99624      VICHADA   SANTA ROSALÍA       15       13       13       13   \n99773      VICHADA        CUMARIBO       72       72       76       76   \n\n       2018/02  2018/03  2018/04  2019/01  ...  2019/04  2020/01  2020/02  \\\n5001    578335   586446   592660   600822  ...   618829   632088   655541   \n5002      1023     1046     1037     1072  ...     1074     1075    16148   \n5004        75       73       71       82  ...       83       96      124   \n5021       308      322      317      316  ...      303      288      275   \n5030      2804     2860     3005     3113  ...     3181     3088     3030   \n...        ...      ...      ...      ...  ...      ...      ...      ...   \n97889        0        0        0        0  ...        1        1        1   \n99001      891      782      818     1142  ...     1091     1290     1358   \n99524       38       34       34       61  ...       24       19       19   \n99624       13       12       12       12  ...       16       14       14   \n99773       75       75       72      107  ...       34       36       43   \n\n       2020/03  2020/04  2021/01  2021/02  2021/03  2021/04  2022/01  \n5001    659446   668344   683096   684278   692937   702760   714990  \n5002     21365    24735     2113     2303     2259     2230     2405  \n5004       135      134      127      129      128      155      159  \n5021       266      224      187      399      439      335      668  \n5030      3110     2985     3402     3809     3752     3760     3679  \n...        ...      ...      ...      ...      ...      ...      ...  \n97889        0        1        1        1        1        1        1  \n99001     1397     1336     1469     1393     1342     1205      998  \n99524       21       19       20       19       21       23       21  \n99624       15        9        9       10       14       12       11  \n99773       41       25       23       23       44       41       49  \n\n[1120 rows x 22 columns]",
      "text/html": "<div>\n<style scoped>\n    .dataframe tbody tr th:only-of-type {\n        vertical-align: middle;\n    }\n\n    .dataframe tbody tr th {\n        vertical-align: top;\n    }\n\n    .dataframe thead th {\n        text-align: right;\n    }\n</style>\n<table border=\"1\" class=\"dataframe\">\n  <thead>\n    <tr style=\"text-align: right;\">\n      <th></th>\n      <th>departamento</th>\n      <th>municipio</th>\n      <th>2017/02</th>\n      <th>2017/03</th>\n      <th>2017/04</th>\n      <th>2018/01</th>\n      <th>2018/02</th>\n      <th>2018/03</th>\n      <th>2018/04</th>\n      <th>2019/01</th>\n      <th>...</th>\n      <th>2019/04</th>\n      <th>2020/01</th>\n      <th>2020/02</th>\n      <th>2020/03</th>\n      <th>2020/04</th>\n      <th>2021/01</th>\n      <th>2021/02</th>\n      <th>2021/03</th>\n      <th>2021/04</th>\n      <th>2022/01</th>\n    </tr>\n  </thead>\n  <tbody>\n    <tr>\n      <th>5001</th>\n      <td>ANTIOQUIA</td>\n      <td>MEDELLÍN</td>\n      <td>556657</td>\n      <td>565341</td>\n      <td>569520</td>\n      <td>574317</td>\n      <td>578335</td>\n      <td>586446</td>\n      <td>592660</td>\n      <td>600822</td>\n      <td>...</td>\n      <td>618829</td>\n      <td>632088</td>\n      <td>655541</td>\n      <td>659446</td>\n      <td>668344</td>\n      <td>683096</td>\n      <td>684278</td>\n      <td>692937</td>\n      <td>702760</td>\n      <td>714990</td>\n    </tr>\n    <tr>\n      <th>5002</th>\n      <td>ANTIOQUIA</td>\n      <td>ABEJORRAL</td>\n      <td>940</td>\n      <td>967</td>\n      <td>962</td>\n      <td>985</td>\n      <td>1023</td>\n      <td>1046</td>\n      <td>1037</td>\n      <td>1072</td>\n      <td>...</td>\n      <td>1074</td>\n      <td>1075</td>\n      <td>16148</td>\n      <td>21365</td>\n      <td>24735</td>\n      <td>2113</td>\n      <td>2303</td>\n      <td>2259</td>\n      <td>2230</td>\n      <td>2405</td>\n    </tr>\n    <tr>\n      <th>5004</th>\n      <td>ANTIOQUIA</td>\n      <td>ABRIAQUÍ</td>\n      <td>68</td>\n      <td>68</td>\n      <td>65</td>\n      <td>73</td>\n      <td>75</td>\n      <td>73</td>\n      <td>71</td>\n      <td>82</td>\n      <td>...</td>\n      <td>83</td>\n      <td>96</td>\n      <td>124</td>\n      <td>135</td>\n      <td>134</td>\n      <td>127</td>\n      <td>129</td>\n      <td>128</td>\n      <td>155</td>\n      <td>159</td>\n    </tr>\n    <tr>\n      <th>5021</th>\n      <td>ANTIOQUIA</td>\n      <td>ALEJANDRÍA</td>\n      <td>293</td>\n      <td>293</td>\n      <td>289</td>\n      <td>302</td>\n      <td>308</td>\n      <td>322</td>\n      <td>317</td>\n      <td>316</td>\n      <td>...</td>\n      <td>303</td>\n      <td>288</td>\n      <td>275</td>\n      <td>266</td>\n      <td>224</td>\n      <td>187</td>\n      <td>399</td>\n      <td>439</td>\n      <td>335</td>\n      <td>668</td>\n    </tr>\n    <tr>\n      <th>5030</th>\n      <td>ANTIOQUIA</td>\n      <td>AMAGÁ</td>\n      <td>2642</td>\n      <td>2519</td>\n      <td>2668</td>\n      <td>2712</td>\n      <td>2804</td>\n      <td>2860</td>\n      <td>3005</td>\n      <td>3113</td>\n      <td>...</td>\n      <td>3181</td>\n      <td>3088</td>\n      <td>3030</td>\n      <td>3110</td>\n      <td>2985</td>\n      <td>3402</td>\n      <td>3809</td>\n      <td>3752</td>\n      <td>3760</td>\n      <td>3679</td>\n    </tr>\n    <tr>\n      <th>...</th>\n      <td>...</td>\n      <td>...</td>\n      <td>...</td>\n      <td>...</td>\n      <td>...</td>\n      <td>...</td>\n      <td>...</td>\n      <td>...</td>\n      <td>...</td>\n      <td>...</td>\n      <td>...</td>\n      <td>...</td>\n      <td>...</td>\n      <td>...</td>\n      <td>...</td>\n      <td>...</td>\n      <td>...</td>\n      <td>...</td>\n      <td>...</td>\n      <td>...</td>\n      <td>...</td>\n    </tr>\n    <tr>\n      <th>97889</th>\n      <td>VAUPÉS</td>\n      <td>YAVARATÉ</td>\n      <td>0</td>\n      <td>0</td>\n      <td>0</td>\n      <td>0</td>\n      <td>0</td>\n      <td>0</td>\n      <td>0</td>\n      <td>0</td>\n      <td>...</td>\n      <td>1</td>\n      <td>1</td>\n      <td>1</td>\n      <td>0</td>\n      <td>1</td>\n      <td>1</td>\n      <td>1</td>\n      <td>1</td>\n      <td>1</td>\n      <td>1</td>\n    </tr>\n    <tr>\n      <th>99001</th>\n      <td>VICHADA</td>\n      <td>PUERTO CARREÑO</td>\n      <td>891</td>\n      <td>899</td>\n      <td>2088</td>\n      <td>1393</td>\n      <td>891</td>\n      <td>782</td>\n      <td>818</td>\n      <td>1142</td>\n      <td>...</td>\n      <td>1091</td>\n      <td>1290</td>\n      <td>1358</td>\n      <td>1397</td>\n      <td>1336</td>\n      <td>1469</td>\n      <td>1393</td>\n      <td>1342</td>\n      <td>1205</td>\n      <td>998</td>\n    </tr>\n    <tr>\n      <th>99524</th>\n      <td>VICHADA</td>\n      <td>LA PRIMAVERA</td>\n      <td>33</td>\n      <td>32</td>\n      <td>40</td>\n      <td>38</td>\n      <td>38</td>\n      <td>34</td>\n      <td>34</td>\n      <td>61</td>\n      <td>...</td>\n      <td>24</td>\n      <td>19</td>\n      <td>19</td>\n      <td>21</td>\n      <td>19</td>\n      <td>20</td>\n      <td>19</td>\n      <td>21</td>\n      <td>23</td>\n      <td>21</td>\n    </tr>\n    <tr>\n      <th>99624</th>\n      <td>VICHADA</td>\n      <td>SANTA ROSALÍA</td>\n      <td>15</td>\n      <td>13</td>\n      <td>13</td>\n      <td>13</td>\n      <td>13</td>\n      <td>12</td>\n      <td>12</td>\n      <td>12</td>\n      <td>...</td>\n      <td>16</td>\n      <td>14</td>\n      <td>14</td>\n      <td>15</td>\n      <td>9</td>\n      <td>9</td>\n      <td>10</td>\n      <td>14</td>\n      <td>12</td>\n      <td>11</td>\n    </tr>\n    <tr>\n      <th>99773</th>\n      <td>VICHADA</td>\n      <td>CUMARIBO</td>\n      <td>72</td>\n      <td>72</td>\n      <td>76</td>\n      <td>76</td>\n      <td>75</td>\n      <td>75</td>\n      <td>72</td>\n      <td>107</td>\n      <td>...</td>\n      <td>34</td>\n      <td>36</td>\n      <td>43</td>\n      <td>41</td>\n      <td>25</td>\n      <td>23</td>\n      <td>23</td>\n      <td>44</td>\n      <td>41</td>\n      <td>49</td>\n    </tr>\n  </tbody>\n</table>\n<p>1120 rows × 22 columns</p>\n</div>"
     },
     "execution_count": 63,
     "metadata": {},
     "output_type": "execute_result"
    }
   ],
   "source": [
    "df = pd.DataFrame(columns=datetime_list)\n",
    "for index, municipio_info in lista_dpto_mpio.iterrows():\n",
    "    df_dpto_temp = df_tv_sucrp_dpto[df_tv_sucrp_dpto['id_municipio'] == municipio_info['id_municipio']].drop(['id_departamento', 'departamento','id_municipio', 'municipio'], axis=1)\n",
    "    df_dpto_temp = df_dpto_temp.rename(columns = {'accesos': municipio_info['id_municipio']}).set_index(['datetime']).T\n",
    "    df_dpto_temp['municipio'] = municipio_info['municipio']\n",
    "    df_dpto_temp['departamento'] = municipio_info['departamento']\n",
    "    df = pd.concat([df, df_dpto_temp])\n",
    "\n",
    "new_columns = list(df.columns)[:-2]\n",
    "new_columns.insert(0, 'departamento')\n",
    "new_columns.insert(1, 'municipio')\n",
    "df.drop(index=[0, 27086], inplace=True)\n",
    "df = df[new_columns]\n",
    "df.dropna(subset=['municipio'], inplace=True)\n",
    "df.to_csv('./bases_datos/suscriptores_internet_mpio_2.csv')\n",
    "df.fillna(0, inplace=True)\n",
    "df"
   ],
   "metadata": {
    "collapsed": false,
    "pycharm": {
     "name": "#%%\n"
    }
   }
  },
  {
   "cell_type": "markdown",
   "source": [
    "## Cruce de los datos de suscripción con los de vivienda (DANE)"
   ],
   "metadata": {
    "collapsed": false,
    "pycharm": {
     "name": "#%% md\n"
    }
   }
  },
  {
   "cell_type": "code",
   "execution_count": 58,
   "outputs": [
    {
     "data": {
      "text/plain": "               depto            mpio      2013      2014      2015      2016  \\\nmpio_id_x                                                                      \n5001.0     Antioquia        Medellín  731307.0  757919.0  785770.0  815365.0   \n5002.0     Antioquia       Abejorral    8743.0    8944.0    9052.0    9171.0   \n5004.0     Antioquia        Abriaquí    1105.0    1122.0    1142.0    1166.0   \n5021.0     Antioquia      Alejandría    2123.0    2205.0    2291.0    2322.0   \n5030.0     Antioquia           Amagá   10302.0   10711.0   11138.0   11405.0   \n...              ...             ...       ...       ...       ...       ...   \n97889.0       Vaupés   Yavaraté (CD)     107.0     113.0     117.0     120.0   \n99001.0      Vichada  Puerto Carreño    6088.0    6310.0    6557.0    6809.0   \n99524.0      Vichada    La Primavera    2776.0    2920.0    3071.0    3223.0   \n99624.0      Vichada   Santa Rosalía     867.0     934.0    1001.0    1051.0   \n99773.0      Vichada        Cumaribo   12394.0   13041.0   13726.0   14493.0   \n\n               2017      2018      2019      2020  ...       2026       2027  \\\nmpio_id_x                                          ...                         \n5001.0     847631.0  875182.0  912028.0  947700.0  ...  1159832.0  1196061.0   \n5002.0       9323.0    9363.0    9478.0    9607.0  ...    11256.0    11543.0   \n5004.0       1193.0    1237.0    1255.0    1273.0  ...     1542.0     1579.0   \n5021.0       2371.0    2520.0    2582.0    2642.0  ...     3069.0     3156.0   \n5030.0      11672.0   12046.0   12351.0   12649.0  ...    15038.0    15435.0   \n...             ...       ...       ...       ...  ...        ...        ...   \n97889.0       124.0     188.0     188.0     188.0  ...      194.0      197.0   \n99001.0      7076.0    7414.0    7667.0    7878.0  ...     8957.0     9138.0   \n99524.0      3401.0    3532.0    3649.0    3752.0  ...     4250.0     4375.0   \n99624.0      1118.0    1261.0    1318.0    1370.0  ...     1540.0     1576.0   \n99773.0     15342.0   16286.0   17274.0   18217.0  ...    22828.0    23675.0   \n\n                2028       2029       2030       2031       2032       2033  \\\nmpio_id_x                                                                     \n5001.0     1231192.0  1264978.0  1297160.0  1328247.0  1358721.0  1388597.0   \n5002.0       11833.0    12133.0    12421.0    12711.0    13002.0    13300.0   \n5004.0        1618.0     1655.0     1701.0     1736.0     1782.0     1817.0   \n5021.0        3243.0     3330.0     3406.0     3493.0     3570.0     3645.0   \n5030.0       15830.0    16231.0    16626.0    17032.0    17423.0    17807.0   \n...              ...        ...        ...        ...        ...        ...   \n97889.0        199.0      201.0      213.0      227.0      242.0      258.0   \n99001.0       9301.0     9495.0     9750.0    10003.0    10239.0    10485.0   \n99524.0       4500.0     4623.0     4764.0     4897.0     5033.0     5169.0   \n99624.0       1620.0     1670.0     1719.0     1769.0     1821.0     1866.0   \n99773.0      24580.0    25498.0    26424.0    27398.0    28398.0    29427.0   \n\n                2034       2035  \nmpio_id_x                        \n5001.0     1417922.0  1446673.0  \n5002.0       13597.0    13868.0  \n5004.0        1861.0     1898.0  \n5021.0        3735.0     3810.0  \n5030.0       18192.0    18570.0  \n...              ...        ...  \n97889.0        277.0      297.0  \n99001.0      10729.0    10959.0  \n99524.0       5299.0     5426.0  \n99624.0       1918.0     1966.0  \n99773.0      30477.0    31560.0  \n\n[1122 rows x 25 columns]",
      "text/html": "<div>\n<style scoped>\n    .dataframe tbody tr th:only-of-type {\n        vertical-align: middle;\n    }\n\n    .dataframe tbody tr th {\n        vertical-align: top;\n    }\n\n    .dataframe thead th {\n        text-align: right;\n    }\n</style>\n<table border=\"1\" class=\"dataframe\">\n  <thead>\n    <tr style=\"text-align: right;\">\n      <th></th>\n      <th>depto</th>\n      <th>mpio</th>\n      <th>2013</th>\n      <th>2014</th>\n      <th>2015</th>\n      <th>2016</th>\n      <th>2017</th>\n      <th>2018</th>\n      <th>2019</th>\n      <th>2020</th>\n      <th>...</th>\n      <th>2026</th>\n      <th>2027</th>\n      <th>2028</th>\n      <th>2029</th>\n      <th>2030</th>\n      <th>2031</th>\n      <th>2032</th>\n      <th>2033</th>\n      <th>2034</th>\n      <th>2035</th>\n    </tr>\n    <tr>\n      <th>mpio_id_x</th>\n      <th></th>\n      <th></th>\n      <th></th>\n      <th></th>\n      <th></th>\n      <th></th>\n      <th></th>\n      <th></th>\n      <th></th>\n      <th></th>\n      <th></th>\n      <th></th>\n      <th></th>\n      <th></th>\n      <th></th>\n      <th></th>\n      <th></th>\n      <th></th>\n      <th></th>\n      <th></th>\n      <th></th>\n    </tr>\n  </thead>\n  <tbody>\n    <tr>\n      <th>5001.0</th>\n      <td>Antioquia</td>\n      <td>Medellín</td>\n      <td>731307.0</td>\n      <td>757919.0</td>\n      <td>785770.0</td>\n      <td>815365.0</td>\n      <td>847631.0</td>\n      <td>875182.0</td>\n      <td>912028.0</td>\n      <td>947700.0</td>\n      <td>...</td>\n      <td>1159832.0</td>\n      <td>1196061.0</td>\n      <td>1231192.0</td>\n      <td>1264978.0</td>\n      <td>1297160.0</td>\n      <td>1328247.0</td>\n      <td>1358721.0</td>\n      <td>1388597.0</td>\n      <td>1417922.0</td>\n      <td>1446673.0</td>\n    </tr>\n    <tr>\n      <th>5002.0</th>\n      <td>Antioquia</td>\n      <td>Abejorral</td>\n      <td>8743.0</td>\n      <td>8944.0</td>\n      <td>9052.0</td>\n      <td>9171.0</td>\n      <td>9323.0</td>\n      <td>9363.0</td>\n      <td>9478.0</td>\n      <td>9607.0</td>\n      <td>...</td>\n      <td>11256.0</td>\n      <td>11543.0</td>\n      <td>11833.0</td>\n      <td>12133.0</td>\n      <td>12421.0</td>\n      <td>12711.0</td>\n      <td>13002.0</td>\n      <td>13300.0</td>\n      <td>13597.0</td>\n      <td>13868.0</td>\n    </tr>\n    <tr>\n      <th>5004.0</th>\n      <td>Antioquia</td>\n      <td>Abriaquí</td>\n      <td>1105.0</td>\n      <td>1122.0</td>\n      <td>1142.0</td>\n      <td>1166.0</td>\n      <td>1193.0</td>\n      <td>1237.0</td>\n      <td>1255.0</td>\n      <td>1273.0</td>\n      <td>...</td>\n      <td>1542.0</td>\n      <td>1579.0</td>\n      <td>1618.0</td>\n      <td>1655.0</td>\n      <td>1701.0</td>\n      <td>1736.0</td>\n      <td>1782.0</td>\n      <td>1817.0</td>\n      <td>1861.0</td>\n      <td>1898.0</td>\n    </tr>\n    <tr>\n      <th>5021.0</th>\n      <td>Antioquia</td>\n      <td>Alejandría</td>\n      <td>2123.0</td>\n      <td>2205.0</td>\n      <td>2291.0</td>\n      <td>2322.0</td>\n      <td>2371.0</td>\n      <td>2520.0</td>\n      <td>2582.0</td>\n      <td>2642.0</td>\n      <td>...</td>\n      <td>3069.0</td>\n      <td>3156.0</td>\n      <td>3243.0</td>\n      <td>3330.0</td>\n      <td>3406.0</td>\n      <td>3493.0</td>\n      <td>3570.0</td>\n      <td>3645.0</td>\n      <td>3735.0</td>\n      <td>3810.0</td>\n    </tr>\n    <tr>\n      <th>5030.0</th>\n      <td>Antioquia</td>\n      <td>Amagá</td>\n      <td>10302.0</td>\n      <td>10711.0</td>\n      <td>11138.0</td>\n      <td>11405.0</td>\n      <td>11672.0</td>\n      <td>12046.0</td>\n      <td>12351.0</td>\n      <td>12649.0</td>\n      <td>...</td>\n      <td>15038.0</td>\n      <td>15435.0</td>\n      <td>15830.0</td>\n      <td>16231.0</td>\n      <td>16626.0</td>\n      <td>17032.0</td>\n      <td>17423.0</td>\n      <td>17807.0</td>\n      <td>18192.0</td>\n      <td>18570.0</td>\n    </tr>\n    <tr>\n      <th>...</th>\n      <td>...</td>\n      <td>...</td>\n      <td>...</td>\n      <td>...</td>\n      <td>...</td>\n      <td>...</td>\n      <td>...</td>\n      <td>...</td>\n      <td>...</td>\n      <td>...</td>\n      <td>...</td>\n      <td>...</td>\n      <td>...</td>\n      <td>...</td>\n      <td>...</td>\n      <td>...</td>\n      <td>...</td>\n      <td>...</td>\n      <td>...</td>\n      <td>...</td>\n      <td>...</td>\n    </tr>\n    <tr>\n      <th>97889.0</th>\n      <td>Vaupés</td>\n      <td>Yavaraté (CD)</td>\n      <td>107.0</td>\n      <td>113.0</td>\n      <td>117.0</td>\n      <td>120.0</td>\n      <td>124.0</td>\n      <td>188.0</td>\n      <td>188.0</td>\n      <td>188.0</td>\n      <td>...</td>\n      <td>194.0</td>\n      <td>197.0</td>\n      <td>199.0</td>\n      <td>201.0</td>\n      <td>213.0</td>\n      <td>227.0</td>\n      <td>242.0</td>\n      <td>258.0</td>\n      <td>277.0</td>\n      <td>297.0</td>\n    </tr>\n    <tr>\n      <th>99001.0</th>\n      <td>Vichada</td>\n      <td>Puerto Carreño</td>\n      <td>6088.0</td>\n      <td>6310.0</td>\n      <td>6557.0</td>\n      <td>6809.0</td>\n      <td>7076.0</td>\n      <td>7414.0</td>\n      <td>7667.0</td>\n      <td>7878.0</td>\n      <td>...</td>\n      <td>8957.0</td>\n      <td>9138.0</td>\n      <td>9301.0</td>\n      <td>9495.0</td>\n      <td>9750.0</td>\n      <td>10003.0</td>\n      <td>10239.0</td>\n      <td>10485.0</td>\n      <td>10729.0</td>\n      <td>10959.0</td>\n    </tr>\n    <tr>\n      <th>99524.0</th>\n      <td>Vichada</td>\n      <td>La Primavera</td>\n      <td>2776.0</td>\n      <td>2920.0</td>\n      <td>3071.0</td>\n      <td>3223.0</td>\n      <td>3401.0</td>\n      <td>3532.0</td>\n      <td>3649.0</td>\n      <td>3752.0</td>\n      <td>...</td>\n      <td>4250.0</td>\n      <td>4375.0</td>\n      <td>4500.0</td>\n      <td>4623.0</td>\n      <td>4764.0</td>\n      <td>4897.0</td>\n      <td>5033.0</td>\n      <td>5169.0</td>\n      <td>5299.0</td>\n      <td>5426.0</td>\n    </tr>\n    <tr>\n      <th>99624.0</th>\n      <td>Vichada</td>\n      <td>Santa Rosalía</td>\n      <td>867.0</td>\n      <td>934.0</td>\n      <td>1001.0</td>\n      <td>1051.0</td>\n      <td>1118.0</td>\n      <td>1261.0</td>\n      <td>1318.0</td>\n      <td>1370.0</td>\n      <td>...</td>\n      <td>1540.0</td>\n      <td>1576.0</td>\n      <td>1620.0</td>\n      <td>1670.0</td>\n      <td>1719.0</td>\n      <td>1769.0</td>\n      <td>1821.0</td>\n      <td>1866.0</td>\n      <td>1918.0</td>\n      <td>1966.0</td>\n    </tr>\n    <tr>\n      <th>99773.0</th>\n      <td>Vichada</td>\n      <td>Cumaribo</td>\n      <td>12394.0</td>\n      <td>13041.0</td>\n      <td>13726.0</td>\n      <td>14493.0</td>\n      <td>15342.0</td>\n      <td>16286.0</td>\n      <td>17274.0</td>\n      <td>18217.0</td>\n      <td>...</td>\n      <td>22828.0</td>\n      <td>23675.0</td>\n      <td>24580.0</td>\n      <td>25498.0</td>\n      <td>26424.0</td>\n      <td>27398.0</td>\n      <td>28398.0</td>\n      <td>29427.0</td>\n      <td>30477.0</td>\n      <td>31560.0</td>\n    </tr>\n  </tbody>\n</table>\n<p>1122 rows × 25 columns</p>\n</div>"
     },
     "execution_count": 58,
     "metadata": {},
     "output_type": "execute_result"
    }
   ],
   "source": [
    "df_viv1=pd.read_excel(\"./dane/vivi1.xlsx\",sheet_name=\"esta\")[1:]\n",
    "df_viv2=pd.read_excel(\"./dane/vivi2.xlsx\",sheet_name=\"esta\")[1:]\n",
    "df_viv=df_viv1.merge(df_viv2,on=[\"depto\",\"mpio\",\"tipo\"],how='outer').fillna(0)\n",
    "del df_viv2,df_viv1\n",
    "df_viv = df_viv[df_viv['tipo']=='Total'].drop(['depto_id_x', 'tipo', 'depto_id_y', 'mpio_id_y',\n",
    "                                               2005, 2006, 2007, 2008, 2009, 2010, 2011,\n",
    "                                               2012], axis=1)\n",
    "df_viv.columns = df_viv.columns.astype(str)\n",
    "df_viv.set_index('mpio_id_x', inplace=True)\n",
    "df_viv"
   ],
   "metadata": {
    "collapsed": false,
    "pycharm": {
     "name": "#%%\n"
    }
   }
  },
  {
   "cell_type": "code",
   "execution_count": 81,
   "outputs": [],
   "source": [
    "lista_info = list()\n",
    "for index, row in df.iterrows():\n",
    "    new_row = [row.name,  row['departamento'], row['municipio']]\n",
    "    for date in datetime_list:\n",
    "        new_row.append(min(100, round(row[date] / df_viv.loc[index][date[:-3]] * 100, 2)))\n",
    "    lista_info.append(new_row)\n",
    "df_internet_suscrip_percent = pd.DataFrame(lista_info, columns=df.columns.insert(0,'municipio_id'))\n",
    "df_internet_suscrip_percent.set_index(['municipio_id'], inplace=True)\n",
    "df_internet_suscrip_percent = df_internet_suscrip_percent.fillna(0)\n",
    "# Guardar los datos\n",
    "df_internet_suscrip_percent.to_csv('./bases_datos/suscriptores_internet_mpio_porcentaje.csv')"
   ],
   "metadata": {
    "collapsed": false,
    "pycharm": {
     "name": "#%%\n"
    }
   }
  },
  {
   "cell_type": "code",
   "execution_count": 82,
   "outputs": [
    {
     "data": {
      "text/plain": "             departamento       municipio  2017/02  2017/03  2017/04  2018/01  \\\nmunicipio_id                                                                    \n5001            ANTIOQUIA        MEDELLÍN    65.67    66.70    67.19    65.62   \n5002            ANTIOQUIA       ABEJORRAL    10.08    10.37    10.32    10.52   \n5004            ANTIOQUIA        ABRIAQUÍ     5.70     5.70     5.45     5.90   \n5021            ANTIOQUIA      ALEJANDRÍA    12.36    12.36    12.19    11.98   \n5030            ANTIOQUIA           AMAGÁ    22.64    21.58    22.86    22.51   \n...                   ...             ...      ...      ...      ...      ...   \n97889              VAUPÉS        YAVARATÉ     0.00     0.00     0.00     0.00   \n99001             VICHADA  PUERTO CARREÑO    12.59    12.70    29.51    18.79   \n99524             VICHADA    LA PRIMAVERA     0.97     0.94     1.18     1.08   \n99624             VICHADA   SANTA ROSALÍA     1.34     1.16     1.16     1.03   \n99773             VICHADA        CUMARIBO     0.47     0.47     0.50     0.47   \n\n              2018/02  2018/03  2018/04  2019/01  ...  2019/04  2020/01  \\\nmunicipio_id                                      ...                     \n5001            66.08    67.01    67.72    65.88  ...    67.85    66.70   \n5002            10.93    11.17    11.08    11.31  ...    11.33    11.19   \n5004             6.06     5.90     5.74     6.53  ...     6.61     7.54   \n5021            12.22    12.78    12.58    12.24  ...    11.74    10.90   \n5030            23.28    23.74    24.95    25.20  ...    25.75    24.41   \n...               ...      ...      ...      ...  ...      ...      ...   \n97889            0.00     0.00     0.00     0.00  ...     0.53     0.53   \n99001           12.02    10.55    11.03    14.90  ...    14.23    16.37   \n99524            1.08     0.96     0.96     1.67  ...     0.66     0.51   \n99624            1.03     0.95     0.95     0.91  ...     1.21     1.02   \n99773            0.46     0.46     0.44     0.62  ...     0.20     0.20   \n\n              2020/02  2020/03  2020/04  2021/01  2021/02  2021/03  2021/04  \\\nmunicipio_id                                                                  \n5001            69.17    69.58    70.52    69.66    69.78    70.66    71.67   \n5002           100.00   100.00   100.00    21.36    23.28    22.83    22.54   \n5004             9.74    10.60    10.53     9.59     9.74     9.67    11.71   \n5021            10.41    10.07     8.48     6.88    14.68    16.15    12.33   \n5030            23.95    24.59    23.60    26.14    29.26    28.82    28.89   \n...               ...      ...      ...      ...      ...      ...      ...   \n97889            0.53     0.00     0.53     0.53     0.53     0.53     0.53   \n99001           17.24    17.73    16.96    18.17    17.23    16.60    14.91   \n99524            0.51     0.56     0.51     0.52     0.50     0.55     0.60   \n99624            1.02     1.09     0.66     0.64     0.71     1.00     0.86   \n99773            0.24     0.23     0.14     0.12     0.12     0.23     0.22   \n\n              2022/01  \nmunicipio_id           \n5001            70.49  \n5002            23.72  \n5004            11.57  \n5021            23.97  \n5030            27.38  \n...               ...  \n97889            0.53  \n99001           12.09  \n99524            0.54  \n99624            0.77  \n99773            0.25  \n\n[1120 rows x 22 columns]",
      "text/html": "<div>\n<style scoped>\n    .dataframe tbody tr th:only-of-type {\n        vertical-align: middle;\n    }\n\n    .dataframe tbody tr th {\n        vertical-align: top;\n    }\n\n    .dataframe thead th {\n        text-align: right;\n    }\n</style>\n<table border=\"1\" class=\"dataframe\">\n  <thead>\n    <tr style=\"text-align: right;\">\n      <th></th>\n      <th>departamento</th>\n      <th>municipio</th>\n      <th>2017/02</th>\n      <th>2017/03</th>\n      <th>2017/04</th>\n      <th>2018/01</th>\n      <th>2018/02</th>\n      <th>2018/03</th>\n      <th>2018/04</th>\n      <th>2019/01</th>\n      <th>...</th>\n      <th>2019/04</th>\n      <th>2020/01</th>\n      <th>2020/02</th>\n      <th>2020/03</th>\n      <th>2020/04</th>\n      <th>2021/01</th>\n      <th>2021/02</th>\n      <th>2021/03</th>\n      <th>2021/04</th>\n      <th>2022/01</th>\n    </tr>\n    <tr>\n      <th>municipio_id</th>\n      <th></th>\n      <th></th>\n      <th></th>\n      <th></th>\n      <th></th>\n      <th></th>\n      <th></th>\n      <th></th>\n      <th></th>\n      <th></th>\n      <th></th>\n      <th></th>\n      <th></th>\n      <th></th>\n      <th></th>\n      <th></th>\n      <th></th>\n      <th></th>\n      <th></th>\n      <th></th>\n      <th></th>\n    </tr>\n  </thead>\n  <tbody>\n    <tr>\n      <th>5001</th>\n      <td>ANTIOQUIA</td>\n      <td>MEDELLÍN</td>\n      <td>65.67</td>\n      <td>66.70</td>\n      <td>67.19</td>\n      <td>65.62</td>\n      <td>66.08</td>\n      <td>67.01</td>\n      <td>67.72</td>\n      <td>65.88</td>\n      <td>...</td>\n      <td>67.85</td>\n      <td>66.70</td>\n      <td>69.17</td>\n      <td>69.58</td>\n      <td>70.52</td>\n      <td>69.66</td>\n      <td>69.78</td>\n      <td>70.66</td>\n      <td>71.67</td>\n      <td>70.49</td>\n    </tr>\n    <tr>\n      <th>5002</th>\n      <td>ANTIOQUIA</td>\n      <td>ABEJORRAL</td>\n      <td>10.08</td>\n      <td>10.37</td>\n      <td>10.32</td>\n      <td>10.52</td>\n      <td>10.93</td>\n      <td>11.17</td>\n      <td>11.08</td>\n      <td>11.31</td>\n      <td>...</td>\n      <td>11.33</td>\n      <td>11.19</td>\n      <td>100.00</td>\n      <td>100.00</td>\n      <td>100.00</td>\n      <td>21.36</td>\n      <td>23.28</td>\n      <td>22.83</td>\n      <td>22.54</td>\n      <td>23.72</td>\n    </tr>\n    <tr>\n      <th>5004</th>\n      <td>ANTIOQUIA</td>\n      <td>ABRIAQUÍ</td>\n      <td>5.70</td>\n      <td>5.70</td>\n      <td>5.45</td>\n      <td>5.90</td>\n      <td>6.06</td>\n      <td>5.90</td>\n      <td>5.74</td>\n      <td>6.53</td>\n      <td>...</td>\n      <td>6.61</td>\n      <td>7.54</td>\n      <td>9.74</td>\n      <td>10.60</td>\n      <td>10.53</td>\n      <td>9.59</td>\n      <td>9.74</td>\n      <td>9.67</td>\n      <td>11.71</td>\n      <td>11.57</td>\n    </tr>\n    <tr>\n      <th>5021</th>\n      <td>ANTIOQUIA</td>\n      <td>ALEJANDRÍA</td>\n      <td>12.36</td>\n      <td>12.36</td>\n      <td>12.19</td>\n      <td>11.98</td>\n      <td>12.22</td>\n      <td>12.78</td>\n      <td>12.58</td>\n      <td>12.24</td>\n      <td>...</td>\n      <td>11.74</td>\n      <td>10.90</td>\n      <td>10.41</td>\n      <td>10.07</td>\n      <td>8.48</td>\n      <td>6.88</td>\n      <td>14.68</td>\n      <td>16.15</td>\n      <td>12.33</td>\n      <td>23.97</td>\n    </tr>\n    <tr>\n      <th>5030</th>\n      <td>ANTIOQUIA</td>\n      <td>AMAGÁ</td>\n      <td>22.64</td>\n      <td>21.58</td>\n      <td>22.86</td>\n      <td>22.51</td>\n      <td>23.28</td>\n      <td>23.74</td>\n      <td>24.95</td>\n      <td>25.20</td>\n      <td>...</td>\n      <td>25.75</td>\n      <td>24.41</td>\n      <td>23.95</td>\n      <td>24.59</td>\n      <td>23.60</td>\n      <td>26.14</td>\n      <td>29.26</td>\n      <td>28.82</td>\n      <td>28.89</td>\n      <td>27.38</td>\n    </tr>\n    <tr>\n      <th>...</th>\n      <td>...</td>\n      <td>...</td>\n      <td>...</td>\n      <td>...</td>\n      <td>...</td>\n      <td>...</td>\n      <td>...</td>\n      <td>...</td>\n      <td>...</td>\n      <td>...</td>\n      <td>...</td>\n      <td>...</td>\n      <td>...</td>\n      <td>...</td>\n      <td>...</td>\n      <td>...</td>\n      <td>...</td>\n      <td>...</td>\n      <td>...</td>\n      <td>...</td>\n      <td>...</td>\n    </tr>\n    <tr>\n      <th>97889</th>\n      <td>VAUPÉS</td>\n      <td>YAVARATÉ</td>\n      <td>0.00</td>\n      <td>0.00</td>\n      <td>0.00</td>\n      <td>0.00</td>\n      <td>0.00</td>\n      <td>0.00</td>\n      <td>0.00</td>\n      <td>0.00</td>\n      <td>...</td>\n      <td>0.53</td>\n      <td>0.53</td>\n      <td>0.53</td>\n      <td>0.00</td>\n      <td>0.53</td>\n      <td>0.53</td>\n      <td>0.53</td>\n      <td>0.53</td>\n      <td>0.53</td>\n      <td>0.53</td>\n    </tr>\n    <tr>\n      <th>99001</th>\n      <td>VICHADA</td>\n      <td>PUERTO CARREÑO</td>\n      <td>12.59</td>\n      <td>12.70</td>\n      <td>29.51</td>\n      <td>18.79</td>\n      <td>12.02</td>\n      <td>10.55</td>\n      <td>11.03</td>\n      <td>14.90</td>\n      <td>...</td>\n      <td>14.23</td>\n      <td>16.37</td>\n      <td>17.24</td>\n      <td>17.73</td>\n      <td>16.96</td>\n      <td>18.17</td>\n      <td>17.23</td>\n      <td>16.60</td>\n      <td>14.91</td>\n      <td>12.09</td>\n    </tr>\n    <tr>\n      <th>99524</th>\n      <td>VICHADA</td>\n      <td>LA PRIMAVERA</td>\n      <td>0.97</td>\n      <td>0.94</td>\n      <td>1.18</td>\n      <td>1.08</td>\n      <td>1.08</td>\n      <td>0.96</td>\n      <td>0.96</td>\n      <td>1.67</td>\n      <td>...</td>\n      <td>0.66</td>\n      <td>0.51</td>\n      <td>0.51</td>\n      <td>0.56</td>\n      <td>0.51</td>\n      <td>0.52</td>\n      <td>0.50</td>\n      <td>0.55</td>\n      <td>0.60</td>\n      <td>0.54</td>\n    </tr>\n    <tr>\n      <th>99624</th>\n      <td>VICHADA</td>\n      <td>SANTA ROSALÍA</td>\n      <td>1.34</td>\n      <td>1.16</td>\n      <td>1.16</td>\n      <td>1.03</td>\n      <td>1.03</td>\n      <td>0.95</td>\n      <td>0.95</td>\n      <td>0.91</td>\n      <td>...</td>\n      <td>1.21</td>\n      <td>1.02</td>\n      <td>1.02</td>\n      <td>1.09</td>\n      <td>0.66</td>\n      <td>0.64</td>\n      <td>0.71</td>\n      <td>1.00</td>\n      <td>0.86</td>\n      <td>0.77</td>\n    </tr>\n    <tr>\n      <th>99773</th>\n      <td>VICHADA</td>\n      <td>CUMARIBO</td>\n      <td>0.47</td>\n      <td>0.47</td>\n      <td>0.50</td>\n      <td>0.47</td>\n      <td>0.46</td>\n      <td>0.46</td>\n      <td>0.44</td>\n      <td>0.62</td>\n      <td>...</td>\n      <td>0.20</td>\n      <td>0.20</td>\n      <td>0.24</td>\n      <td>0.23</td>\n      <td>0.14</td>\n      <td>0.12</td>\n      <td>0.12</td>\n      <td>0.23</td>\n      <td>0.22</td>\n      <td>0.25</td>\n    </tr>\n  </tbody>\n</table>\n<p>1120 rows × 22 columns</p>\n</div>"
     },
     "execution_count": 82,
     "metadata": {},
     "output_type": "execute_result"
    }
   ],
   "source": [
    "df_internet_suscrip_percent"
   ],
   "metadata": {
    "collapsed": false,
    "pycharm": {
     "name": "#%%\n"
    }
   }
  },
  {
   "cell_type": "code",
   "execution_count": null,
   "outputs": [],
   "source": [],
   "metadata": {
    "collapsed": false,
    "pycharm": {
     "name": "#%%\n"
    }
   }
  }
 ],
 "metadata": {
  "kernelspec": {
   "display_name": "Python 3",
   "language": "python",
   "name": "python3"
  },
  "language_info": {
   "codemirror_mode": {
    "name": "ipython",
    "version": 2
   },
   "file_extension": ".py",
   "mimetype": "text/x-python",
   "name": "python",
   "nbconvert_exporter": "python",
   "pygments_lexer": "ipython2",
   "version": "2.7.6"
  }
 },
 "nbformat": 4,
 "nbformat_minor": 0
}