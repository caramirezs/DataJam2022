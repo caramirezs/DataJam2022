{
 "cells": [
  {
   "cell_type": "code",
   "execution_count": 1,
   "outputs": [],
   "source": [
    "import requests\n",
    "import json\n",
    "from IPython.display import clear_output\n",
    "\n",
    "import pandas as pd\n",
    "import numpy as np\n",
    "\n",
    "import matplotlib.pyplot as plt\n",
    "\n",
    "import ipywidgets as widgets\n",
    "from ipywidgets import interact, interactive, fixed, interact_manual"
   ],
   "metadata": {
    "collapsed": false,
    "pycharm": {
     "name": "#%%\n"
    }
   }
  },
  {
   "cell_type": "code",
   "execution_count": 144,
   "outputs": [],
   "source": [
    "# Esta función recupera la información de postdata, dado el link del API y el total de datos a recuperar\n",
    "\n",
    "def get_df_from_link(id):\n",
    "    link = 'https://postdata.gov.co/api/action/datastore/search.json?resource_id='\n",
    "    # descargar 10000 primeros datos\n",
    "    tama = 10000\n",
    "    link_get = requests.get(f'{link}{id}&limit={tama}')\n",
    "    link_full = link_get.json()\n",
    "    link_records = link_full['result']['records']\n",
    "    link_json = json.dumps(link_records)\n",
    "    df_ini = pd.read_json(link_json)\n",
    "    df = df_ini.copy()\n",
    "\n",
    "    print(f'>> datos recuperados: {len(df_ini)}')\n",
    "    df_temp = df_ini.copy()\n",
    "    i = 1\n",
    "    while len(df_temp) == tama:\n",
    "        offset = tama * i\n",
    "        link_get = requests.get(f'{link}{id}&offset={offset}&limit={tama}')\n",
    "        link_full = link_get.json()\n",
    "        link_records = link_full['result']['records']\n",
    "        link_json = json.dumps(link_records)\n",
    "        df_temp = pd.read_json(link_json)\n",
    "\n",
    "        df = pd.concat([df_ini, df_temp])\n",
    "        df.reset_index(drop=True, inplace=True)\n",
    "\n",
    "        df_ini = df.copy()\n",
    "        clear_output(wait=True)\n",
    "        print(f'>> datos recuperados: {len(df_ini)}')\n",
    "\n",
    "        i += 1\n",
    "    print(f'PROCESO FINALIZADO - datos recuperados: {len(df_ini)}')\n",
    "    return df"
   ],
   "metadata": {
    "collapsed": false,
    "pycharm": {
     "name": "#%%\n"
    }
   }
  },
  {
   "cell_type": "markdown",
   "source": [
    "# Descarga de datos\n",
    "- Descarga de los datos\n",
    "- Creación de los dataframe\n",
    "- Guardado de los csv"
   ],
   "metadata": {
    "collapsed": false,
    "pycharm": {
     "name": "#%% md\n"
    }
   }
  },
  {
   "cell_type": "code",
   "execution_count": 145,
   "outputs": [
    {
     "name": "stdout",
     "output_type": "stream",
     "text": [
      "PROCESO FINALIZADO - datos recuperados: 546741\n"
     ]
    },
    {
     "data": {
      "text/plain": "        anno  trimestre  mes tipo_operador  id_operador  \\\n0       2010          1    1   MUNICIPALES    800075305   \n1       2010          1    1   MUNICIPALES    800096566   \n2       2010          1    1   MUNICIPALES    800111243   \n3       2010          1    1   MUNICIPALES    800132211   \n4       2010          1    1   MUNICIPALES    800179562   \n...      ...        ...  ...           ...          ...   \n546736  2022          1    3            NA    901453896   \n546737  2022          1    3            NA    901453896   \n546738  2022          1    3            NA    901460140   \n546739  2022          1    3            NA    901491625   \n546740  2022          1    3            NA    901501135   \n\n                                                 operador  id_departamento  \\\n0       INGENIERIA EN POTENCIA ELECTRICA Y COMUNICACIO...               54   \n1       CENTRO ELECTRONICO SERVI-AUTO RADIO SAR Y COMP...            99999   \n2                                         ALPEVISION S.A.               41   \n3                                   H V TELEVISION S.A.S.               25   \n4                         LEGON TELECOMUNICACIONES S.A.S.                5   \n...                                                   ...              ...   \n546736                            FIBERLINKNETWORKS S.A.S                5   \n546737                            FIBERLINKNETWORKS S.A.S               86   \n546738                 DIGI COMUNICACIONES TV. NET S.A.S.               13   \n546739                       VITEL COMUNICACIONES NET SAS               68   \n546740                                  TUNET-WORK S.A.S.               54   \n\n              departamento  id_municipio      municipio  esal  suscriptores  \\\n0       NORTE DE SANTANDER         54498          OCAÑA     0          2021   \n1                       NA         99999             NA     0             0   \n2                    HUILA         41001          NEIVA     0             0   \n3             CUNDINAMARCA         25754         SOACHA     0         18928   \n4                ANTIOQUIA          5154       CAUCASIA     0           369   \n...                    ...           ...            ...   ...           ...   \n546736           ANTIOQUIA          5736        SEGOVIA     0           903   \n546737            PUTUMAYO         86568    PUERTO ASÍS     0           135   \n546738             BOLÍVAR         13650   SAN FERNANDO     0            49   \n546739           SANTANDER         68276  FLORIDABLANCA     0           142   \n546740  NORTE DE SANTANDER         54405     LOS PATIOS     0           115   \n\n        segmento            desc_segmento  tipo_tecnologia  \\\n0              0                       NA                0   \n1              0                       NA                0   \n2              0                       NA                0   \n3              0                       NA                0   \n4              0                       NA                0   \n...          ...                      ...              ...   \n546736         1  Residencial - Estrato 1                2   \n546737         1  Residencial - Estrato 1                2   \n546738         1  Residencial - Estrato 1                2   \n546739         3  Residencial - Estrato 3                3   \n546740         2  Residencial - Estrato 2                6   \n\n       des_tipo_tecnologia_television  entry_id  \n0                                  NA         1  \n1                                  NA         2  \n2                                  NA         3  \n3                                  NA         4  \n4                                  NA         5  \n...                               ...       ...  \n546736                  HFC Analógica    546737  \n546737                  HFC Analógica    546738  \n546738                  HFC Analógica    546739  \n546739                    HFC Digital    546740  \n546740                           Otro    546741  \n\n[546741 rows x 17 columns]",
      "text/html": "<div>\n<style scoped>\n    .dataframe tbody tr th:only-of-type {\n        vertical-align: middle;\n    }\n\n    .dataframe tbody tr th {\n        vertical-align: top;\n    }\n\n    .dataframe thead th {\n        text-align: right;\n    }\n</style>\n<table border=\"1\" class=\"dataframe\">\n  <thead>\n    <tr style=\"text-align: right;\">\n      <th></th>\n      <th>anno</th>\n      <th>trimestre</th>\n      <th>mes</th>\n      <th>tipo_operador</th>\n      <th>id_operador</th>\n      <th>operador</th>\n      <th>id_departamento</th>\n      <th>departamento</th>\n      <th>id_municipio</th>\n      <th>municipio</th>\n      <th>esal</th>\n      <th>suscriptores</th>\n      <th>segmento</th>\n      <th>desc_segmento</th>\n      <th>tipo_tecnologia</th>\n      <th>des_tipo_tecnologia_television</th>\n      <th>entry_id</th>\n    </tr>\n  </thead>\n  <tbody>\n    <tr>\n      <th>0</th>\n      <td>2010</td>\n      <td>1</td>\n      <td>1</td>\n      <td>MUNICIPALES</td>\n      <td>800075305</td>\n      <td>INGENIERIA EN POTENCIA ELECTRICA Y COMUNICACIO...</td>\n      <td>54</td>\n      <td>NORTE DE SANTANDER</td>\n      <td>54498</td>\n      <td>OCAÑA</td>\n      <td>0</td>\n      <td>2021</td>\n      <td>0</td>\n      <td>NA</td>\n      <td>0</td>\n      <td>NA</td>\n      <td>1</td>\n    </tr>\n    <tr>\n      <th>1</th>\n      <td>2010</td>\n      <td>1</td>\n      <td>1</td>\n      <td>MUNICIPALES</td>\n      <td>800096566</td>\n      <td>CENTRO ELECTRONICO SERVI-AUTO RADIO SAR Y COMP...</td>\n      <td>99999</td>\n      <td>NA</td>\n      <td>99999</td>\n      <td>NA</td>\n      <td>0</td>\n      <td>0</td>\n      <td>0</td>\n      <td>NA</td>\n      <td>0</td>\n      <td>NA</td>\n      <td>2</td>\n    </tr>\n    <tr>\n      <th>2</th>\n      <td>2010</td>\n      <td>1</td>\n      <td>1</td>\n      <td>MUNICIPALES</td>\n      <td>800111243</td>\n      <td>ALPEVISION S.A.</td>\n      <td>41</td>\n      <td>HUILA</td>\n      <td>41001</td>\n      <td>NEIVA</td>\n      <td>0</td>\n      <td>0</td>\n      <td>0</td>\n      <td>NA</td>\n      <td>0</td>\n      <td>NA</td>\n      <td>3</td>\n    </tr>\n    <tr>\n      <th>3</th>\n      <td>2010</td>\n      <td>1</td>\n      <td>1</td>\n      <td>MUNICIPALES</td>\n      <td>800132211</td>\n      <td>H V TELEVISION S.A.S.</td>\n      <td>25</td>\n      <td>CUNDINAMARCA</td>\n      <td>25754</td>\n      <td>SOACHA</td>\n      <td>0</td>\n      <td>18928</td>\n      <td>0</td>\n      <td>NA</td>\n      <td>0</td>\n      <td>NA</td>\n      <td>4</td>\n    </tr>\n    <tr>\n      <th>4</th>\n      <td>2010</td>\n      <td>1</td>\n      <td>1</td>\n      <td>MUNICIPALES</td>\n      <td>800179562</td>\n      <td>LEGON TELECOMUNICACIONES S.A.S.</td>\n      <td>5</td>\n      <td>ANTIOQUIA</td>\n      <td>5154</td>\n      <td>CAUCASIA</td>\n      <td>0</td>\n      <td>369</td>\n      <td>0</td>\n      <td>NA</td>\n      <td>0</td>\n      <td>NA</td>\n      <td>5</td>\n    </tr>\n    <tr>\n      <th>...</th>\n      <td>...</td>\n      <td>...</td>\n      <td>...</td>\n      <td>...</td>\n      <td>...</td>\n      <td>...</td>\n      <td>...</td>\n      <td>...</td>\n      <td>...</td>\n      <td>...</td>\n      <td>...</td>\n      <td>...</td>\n      <td>...</td>\n      <td>...</td>\n      <td>...</td>\n      <td>...</td>\n      <td>...</td>\n    </tr>\n    <tr>\n      <th>546736</th>\n      <td>2022</td>\n      <td>1</td>\n      <td>3</td>\n      <td>NA</td>\n      <td>901453896</td>\n      <td>FIBERLINKNETWORKS S.A.S</td>\n      <td>5</td>\n      <td>ANTIOQUIA</td>\n      <td>5736</td>\n      <td>SEGOVIA</td>\n      <td>0</td>\n      <td>903</td>\n      <td>1</td>\n      <td>Residencial - Estrato 1</td>\n      <td>2</td>\n      <td>HFC Analógica</td>\n      <td>546737</td>\n    </tr>\n    <tr>\n      <th>546737</th>\n      <td>2022</td>\n      <td>1</td>\n      <td>3</td>\n      <td>NA</td>\n      <td>901453896</td>\n      <td>FIBERLINKNETWORKS S.A.S</td>\n      <td>86</td>\n      <td>PUTUMAYO</td>\n      <td>86568</td>\n      <td>PUERTO ASÍS</td>\n      <td>0</td>\n      <td>135</td>\n      <td>1</td>\n      <td>Residencial - Estrato 1</td>\n      <td>2</td>\n      <td>HFC Analógica</td>\n      <td>546738</td>\n    </tr>\n    <tr>\n      <th>546738</th>\n      <td>2022</td>\n      <td>1</td>\n      <td>3</td>\n      <td>NA</td>\n      <td>901460140</td>\n      <td>DIGI COMUNICACIONES TV. NET S.A.S.</td>\n      <td>13</td>\n      <td>BOLÍVAR</td>\n      <td>13650</td>\n      <td>SAN FERNANDO</td>\n      <td>0</td>\n      <td>49</td>\n      <td>1</td>\n      <td>Residencial - Estrato 1</td>\n      <td>2</td>\n      <td>HFC Analógica</td>\n      <td>546739</td>\n    </tr>\n    <tr>\n      <th>546739</th>\n      <td>2022</td>\n      <td>1</td>\n      <td>3</td>\n      <td>NA</td>\n      <td>901491625</td>\n      <td>VITEL COMUNICACIONES NET SAS</td>\n      <td>68</td>\n      <td>SANTANDER</td>\n      <td>68276</td>\n      <td>FLORIDABLANCA</td>\n      <td>0</td>\n      <td>142</td>\n      <td>3</td>\n      <td>Residencial - Estrato 3</td>\n      <td>3</td>\n      <td>HFC Digital</td>\n      <td>546740</td>\n    </tr>\n    <tr>\n      <th>546740</th>\n      <td>2022</td>\n      <td>1</td>\n      <td>3</td>\n      <td>NA</td>\n      <td>901501135</td>\n      <td>TUNET-WORK S.A.S.</td>\n      <td>54</td>\n      <td>NORTE DE SANTANDER</td>\n      <td>54405</td>\n      <td>LOS PATIOS</td>\n      <td>0</td>\n      <td>115</td>\n      <td>2</td>\n      <td>Residencial - Estrato 2</td>\n      <td>6</td>\n      <td>Otro</td>\n      <td>546741</td>\n    </tr>\n  </tbody>\n</table>\n<p>546741 rows × 17 columns</p>\n</div>"
     },
     "execution_count": 145,
     "metadata": {},
     "output_type": "execute_result"
    }
   ],
   "source": [
    "# Suscriptores de TV por Suscripción\n",
    "id = '0c4b69a7-734d-432c-9d9b-9dc600d50391'\n",
    "df_tv_sucrp = get_df_from_link(id)\n",
    "df_tv_sucrp.to_csv(f'./bases_datos/suscriptores_tv.csv', index=False)\n",
    "df_tv_sucrp"
   ],
   "metadata": {
    "collapsed": false,
    "pycharm": {
     "name": "#%%\n"
    }
   }
  },
  {
   "cell_type": "code",
   "execution_count": 146,
   "outputs": [
    {
     "name": "stdout",
     "output_type": "stream",
     "text": [
      ">> datos recuperados: 2182\n",
      "PROCESO FINALIZADO - datos recuperados: 2182\n"
     ]
    },
    {
     "data": {
      "text/plain": "      anno  trimestre  id_empresa  \\\n0     2014          1   800075305   \n1     2014          1   800132211   \n2     2014          1   800179562   \n3     2014          1   800256449   \n4     2014          1   802003000   \n...    ...        ...         ...   \n2177  2022          1   901440102   \n2178  2022          1   901453896   \n2179  2022          1   901460140   \n2180  2022          1   901491625   \n2181  2022          1   901501135   \n\n                                           desc_empresa  id_servicio  \\\n0     INGENIERIA EN POTENCIA ELECTRICA Y COMUNICACIO...          108   \n1                                     HV TELEVISION SAS          108   \n2                              LEGON COMUNICACIONES SAS          108   \n3                                ALFASURT TV CABLE LTDA          108   \n4                                          TEVECOM LTDA          108   \n...                                                 ...          ...   \n2177                                  GLOBAL WEB1 S.A.S          100   \n2178                            FIBERLINKNETWORKS S.A.S          100   \n2179                 DIGI COMUNICACIONES TV. NET S.A.S.          100   \n2180                       VITEL COMUNICACIONES NET SAS          100   \n2181                                  TUNET-WORK S.A.S.          100   \n\n                        servicio  id_concepto concepto      ingresos  \\\n0     Televisión por suscripción            0       NA    46929764,0   \n1     Televisión por suscripción            0       NA  3867871196,0   \n2     Televisión por suscripción            0       NA    19603015,0   \n3     Televisión por suscripción            0       NA   178837437,0   \n4     Televisión por suscripción            0       NA    20273276,0   \n...                          ...          ...      ...           ...   \n2177  Televisión por suscripción            0       NA    34989000,0   \n2178  Televisión por suscripción            0       NA   100576947,0   \n2179  Televisión por suscripción            0       NA     1815210,0   \n2180  Televisión por suscripción            0       NA    14066361,0   \n2181  Televisión por suscripción            0       NA     5532895,0   \n\n     ingr_brutos_pauta_publicitaria  entry_id  \n0                               0,0         1  \n1                               0,0         2  \n2                               0,0         3  \n3                               0,0         4  \n4                               0,0         5  \n...                             ...       ...  \n2177                            0,0      2178  \n2178                            0,0      2179  \n2179                            0,0      2180  \n2180                            0,0      2181  \n2181                            0,0      2182  \n\n[2182 rows x 11 columns]",
      "text/html": "<div>\n<style scoped>\n    .dataframe tbody tr th:only-of-type {\n        vertical-align: middle;\n    }\n\n    .dataframe tbody tr th {\n        vertical-align: top;\n    }\n\n    .dataframe thead th {\n        text-align: right;\n    }\n</style>\n<table border=\"1\" class=\"dataframe\">\n  <thead>\n    <tr style=\"text-align: right;\">\n      <th></th>\n      <th>anno</th>\n      <th>trimestre</th>\n      <th>id_empresa</th>\n      <th>desc_empresa</th>\n      <th>id_servicio</th>\n      <th>servicio</th>\n      <th>id_concepto</th>\n      <th>concepto</th>\n      <th>ingresos</th>\n      <th>ingr_brutos_pauta_publicitaria</th>\n      <th>entry_id</th>\n    </tr>\n  </thead>\n  <tbody>\n    <tr>\n      <th>0</th>\n      <td>2014</td>\n      <td>1</td>\n      <td>800075305</td>\n      <td>INGENIERIA EN POTENCIA ELECTRICA Y COMUNICACIO...</td>\n      <td>108</td>\n      <td>Televisión por suscripción</td>\n      <td>0</td>\n      <td>NA</td>\n      <td>46929764,0</td>\n      <td>0,0</td>\n      <td>1</td>\n    </tr>\n    <tr>\n      <th>1</th>\n      <td>2014</td>\n      <td>1</td>\n      <td>800132211</td>\n      <td>HV TELEVISION SAS</td>\n      <td>108</td>\n      <td>Televisión por suscripción</td>\n      <td>0</td>\n      <td>NA</td>\n      <td>3867871196,0</td>\n      <td>0,0</td>\n      <td>2</td>\n    </tr>\n    <tr>\n      <th>2</th>\n      <td>2014</td>\n      <td>1</td>\n      <td>800179562</td>\n      <td>LEGON COMUNICACIONES SAS</td>\n      <td>108</td>\n      <td>Televisión por suscripción</td>\n      <td>0</td>\n      <td>NA</td>\n      <td>19603015,0</td>\n      <td>0,0</td>\n      <td>3</td>\n    </tr>\n    <tr>\n      <th>3</th>\n      <td>2014</td>\n      <td>1</td>\n      <td>800256449</td>\n      <td>ALFASURT TV CABLE LTDA</td>\n      <td>108</td>\n      <td>Televisión por suscripción</td>\n      <td>0</td>\n      <td>NA</td>\n      <td>178837437,0</td>\n      <td>0,0</td>\n      <td>4</td>\n    </tr>\n    <tr>\n      <th>4</th>\n      <td>2014</td>\n      <td>1</td>\n      <td>802003000</td>\n      <td>TEVECOM LTDA</td>\n      <td>108</td>\n      <td>Televisión por suscripción</td>\n      <td>0</td>\n      <td>NA</td>\n      <td>20273276,0</td>\n      <td>0,0</td>\n      <td>5</td>\n    </tr>\n    <tr>\n      <th>...</th>\n      <td>...</td>\n      <td>...</td>\n      <td>...</td>\n      <td>...</td>\n      <td>...</td>\n      <td>...</td>\n      <td>...</td>\n      <td>...</td>\n      <td>...</td>\n      <td>...</td>\n      <td>...</td>\n    </tr>\n    <tr>\n      <th>2177</th>\n      <td>2022</td>\n      <td>1</td>\n      <td>901440102</td>\n      <td>GLOBAL WEB1 S.A.S</td>\n      <td>100</td>\n      <td>Televisión por suscripción</td>\n      <td>0</td>\n      <td>NA</td>\n      <td>34989000,0</td>\n      <td>0,0</td>\n      <td>2178</td>\n    </tr>\n    <tr>\n      <th>2178</th>\n      <td>2022</td>\n      <td>1</td>\n      <td>901453896</td>\n      <td>FIBERLINKNETWORKS S.A.S</td>\n      <td>100</td>\n      <td>Televisión por suscripción</td>\n      <td>0</td>\n      <td>NA</td>\n      <td>100576947,0</td>\n      <td>0,0</td>\n      <td>2179</td>\n    </tr>\n    <tr>\n      <th>2179</th>\n      <td>2022</td>\n      <td>1</td>\n      <td>901460140</td>\n      <td>DIGI COMUNICACIONES TV. NET S.A.S.</td>\n      <td>100</td>\n      <td>Televisión por suscripción</td>\n      <td>0</td>\n      <td>NA</td>\n      <td>1815210,0</td>\n      <td>0,0</td>\n      <td>2180</td>\n    </tr>\n    <tr>\n      <th>2180</th>\n      <td>2022</td>\n      <td>1</td>\n      <td>901491625</td>\n      <td>VITEL COMUNICACIONES NET SAS</td>\n      <td>100</td>\n      <td>Televisión por suscripción</td>\n      <td>0</td>\n      <td>NA</td>\n      <td>14066361,0</td>\n      <td>0,0</td>\n      <td>2181</td>\n    </tr>\n    <tr>\n      <th>2181</th>\n      <td>2022</td>\n      <td>1</td>\n      <td>901501135</td>\n      <td>TUNET-WORK S.A.S.</td>\n      <td>100</td>\n      <td>Televisión por suscripción</td>\n      <td>0</td>\n      <td>NA</td>\n      <td>5532895,0</td>\n      <td>0,0</td>\n      <td>2182</td>\n    </tr>\n  </tbody>\n</table>\n<p>2182 rows × 11 columns</p>\n</div>"
     },
     "execution_count": 146,
     "metadata": {},
     "output_type": "execute_result"
    }
   ],
   "source": [
    "# Ingresos de TV por Suscripción\n",
    "id = '1033b0f2-8107-4e04-ae33-8b12882b762d'\n",
    "df_tv_ingresos = get_df_from_link(id)\n",
    "df_tv_ingresos.to_csv(f'./bases_datos/ingresos_tv.csv', index=False)\n",
    "df_tv_ingresos"
   ],
   "metadata": {
    "collapsed": false,
    "pycharm": {
     "name": "#%%\n"
    }
   }
  },
  {
   "cell_type": "code",
   "execution_count": 112,
   "outputs": [
    {
     "data": {
      "text/plain": "        anno  trimestre  id_empresa                          empresa  \\\n0       2012          1   800135729                       ERT SA ESP   \n1       2012          1   800135729                       ERT SA ESP   \n2       2012          1   800135729                       ERT SA ESP   \n3       2012          1   800135729                       ERT SA ESP   \n4       2012          1   800135729                       ERT SA ESP   \n...      ...        ...         ...                              ...   \n265101  2022          1   901333616  TPE COMUNICACIONES COLOMBIA SAS   \n265102  2022          1   901333616  TPE COMUNICACIONES COLOMBIA SAS   \n265103  2022          1   901333616  TPE COMUNICACIONES COLOMBIA SAS   \n265104  2022          1   901333616  TPE COMUNICACIONES COLOMBIA SAS   \n265105  2022          1   901333616  TPE COMUNICACIONES COLOMBIA SAS   \n\n       id_departamento     departamento  id_municipio      municipio  \\\n0                   76  VALLE DEL CAUCA         76001           CALI   \n1                   76  VALLE DEL CAUCA         76001           CALI   \n2                   76  VALLE DEL CAUCA         76109   BUENAVENTURA   \n3                   76  VALLE DEL CAUCA         76109   BUENAVENTURA   \n4                   76  VALLE DEL CAUCA         76109   BUENAVENTURA   \n...                ...              ...           ...            ...   \n265101              50             META         50001  VILLAVICENCIO   \n265102              50             META         50001  VILLAVICENCIO   \n265103              50             META         50001  VILLAVICENCIO   \n265104              50             META         50001  VILLAVICENCIO   \n265105              50             META         50001  VILLAVICENCIO   \n\n        id_ubicacion ubicacion  id_segmento                 segmento  lineas  \\\n0                  2    Urbano         1072                Comercial     938   \n1                  2    Urbano         1073                  Oficial     603   \n2                  2    Urbano          101  Residencial - Estrato 1     283   \n3                  2    Urbano          102  Residencial - Estrato 2     636   \n4                  2    Urbano          103  Residencial - Estrato 3     743   \n...              ...       ...          ...                      ...     ...   \n265101             0        NA          101  Residencial - Estrato 1     152   \n265102             0        NA          102  Residencial - Estrato 2     356   \n265103             0        NA          103  Residencial - Estrato 3    1052   \n265104             0        NA          104  Residencial - Estrato 4      77   \n265105             0        NA          105  Residencial - Estrato 5      30   \n\n        entry_id  \n0              1  \n1              2  \n2              3  \n3              4  \n4              5  \n...          ...  \n265101    265102  \n265102    265103  \n265103    265104  \n265104    265105  \n265105    265106  \n\n[265106 rows x 14 columns]",
      "text/html": "<div>\n<style scoped>\n    .dataframe tbody tr th:only-of-type {\n        vertical-align: middle;\n    }\n\n    .dataframe tbody tr th {\n        vertical-align: top;\n    }\n\n    .dataframe thead th {\n        text-align: right;\n    }\n</style>\n<table border=\"1\" class=\"dataframe\">\n  <thead>\n    <tr style=\"text-align: right;\">\n      <th></th>\n      <th>anno</th>\n      <th>trimestre</th>\n      <th>id_empresa</th>\n      <th>empresa</th>\n      <th>id_departamento</th>\n      <th>departamento</th>\n      <th>id_municipio</th>\n      <th>municipio</th>\n      <th>id_ubicacion</th>\n      <th>ubicacion</th>\n      <th>id_segmento</th>\n      <th>segmento</th>\n      <th>lineas</th>\n      <th>entry_id</th>\n    </tr>\n  </thead>\n  <tbody>\n    <tr>\n      <th>0</th>\n      <td>2012</td>\n      <td>1</td>\n      <td>800135729</td>\n      <td>ERT SA ESP</td>\n      <td>76</td>\n      <td>VALLE DEL CAUCA</td>\n      <td>76001</td>\n      <td>CALI</td>\n      <td>2</td>\n      <td>Urbano</td>\n      <td>1072</td>\n      <td>Comercial</td>\n      <td>938</td>\n      <td>1</td>\n    </tr>\n    <tr>\n      <th>1</th>\n      <td>2012</td>\n      <td>1</td>\n      <td>800135729</td>\n      <td>ERT SA ESP</td>\n      <td>76</td>\n      <td>VALLE DEL CAUCA</td>\n      <td>76001</td>\n      <td>CALI</td>\n      <td>2</td>\n      <td>Urbano</td>\n      <td>1073</td>\n      <td>Oficial</td>\n      <td>603</td>\n      <td>2</td>\n    </tr>\n    <tr>\n      <th>2</th>\n      <td>2012</td>\n      <td>1</td>\n      <td>800135729</td>\n      <td>ERT SA ESP</td>\n      <td>76</td>\n      <td>VALLE DEL CAUCA</td>\n      <td>76109</td>\n      <td>BUENAVENTURA</td>\n      <td>2</td>\n      <td>Urbano</td>\n      <td>101</td>\n      <td>Residencial - Estrato 1</td>\n      <td>283</td>\n      <td>3</td>\n    </tr>\n    <tr>\n      <th>3</th>\n      <td>2012</td>\n      <td>1</td>\n      <td>800135729</td>\n      <td>ERT SA ESP</td>\n      <td>76</td>\n      <td>VALLE DEL CAUCA</td>\n      <td>76109</td>\n      <td>BUENAVENTURA</td>\n      <td>2</td>\n      <td>Urbano</td>\n      <td>102</td>\n      <td>Residencial - Estrato 2</td>\n      <td>636</td>\n      <td>4</td>\n    </tr>\n    <tr>\n      <th>4</th>\n      <td>2012</td>\n      <td>1</td>\n      <td>800135729</td>\n      <td>ERT SA ESP</td>\n      <td>76</td>\n      <td>VALLE DEL CAUCA</td>\n      <td>76109</td>\n      <td>BUENAVENTURA</td>\n      <td>2</td>\n      <td>Urbano</td>\n      <td>103</td>\n      <td>Residencial - Estrato 3</td>\n      <td>743</td>\n      <td>5</td>\n    </tr>\n    <tr>\n      <th>...</th>\n      <td>...</td>\n      <td>...</td>\n      <td>...</td>\n      <td>...</td>\n      <td>...</td>\n      <td>...</td>\n      <td>...</td>\n      <td>...</td>\n      <td>...</td>\n      <td>...</td>\n      <td>...</td>\n      <td>...</td>\n      <td>...</td>\n      <td>...</td>\n    </tr>\n    <tr>\n      <th>265101</th>\n      <td>2022</td>\n      <td>1</td>\n      <td>901333616</td>\n      <td>TPE COMUNICACIONES COLOMBIA SAS</td>\n      <td>50</td>\n      <td>META</td>\n      <td>50001</td>\n      <td>VILLAVICENCIO</td>\n      <td>0</td>\n      <td>NA</td>\n      <td>101</td>\n      <td>Residencial - Estrato 1</td>\n      <td>152</td>\n      <td>265102</td>\n    </tr>\n    <tr>\n      <th>265102</th>\n      <td>2022</td>\n      <td>1</td>\n      <td>901333616</td>\n      <td>TPE COMUNICACIONES COLOMBIA SAS</td>\n      <td>50</td>\n      <td>META</td>\n      <td>50001</td>\n      <td>VILLAVICENCIO</td>\n      <td>0</td>\n      <td>NA</td>\n      <td>102</td>\n      <td>Residencial - Estrato 2</td>\n      <td>356</td>\n      <td>265103</td>\n    </tr>\n    <tr>\n      <th>265103</th>\n      <td>2022</td>\n      <td>1</td>\n      <td>901333616</td>\n      <td>TPE COMUNICACIONES COLOMBIA SAS</td>\n      <td>50</td>\n      <td>META</td>\n      <td>50001</td>\n      <td>VILLAVICENCIO</td>\n      <td>0</td>\n      <td>NA</td>\n      <td>103</td>\n      <td>Residencial - Estrato 3</td>\n      <td>1052</td>\n      <td>265104</td>\n    </tr>\n    <tr>\n      <th>265104</th>\n      <td>2022</td>\n      <td>1</td>\n      <td>901333616</td>\n      <td>TPE COMUNICACIONES COLOMBIA SAS</td>\n      <td>50</td>\n      <td>META</td>\n      <td>50001</td>\n      <td>VILLAVICENCIO</td>\n      <td>0</td>\n      <td>NA</td>\n      <td>104</td>\n      <td>Residencial - Estrato 4</td>\n      <td>77</td>\n      <td>265105</td>\n    </tr>\n    <tr>\n      <th>265105</th>\n      <td>2022</td>\n      <td>1</td>\n      <td>901333616</td>\n      <td>TPE COMUNICACIONES COLOMBIA SAS</td>\n      <td>50</td>\n      <td>META</td>\n      <td>50001</td>\n      <td>VILLAVICENCIO</td>\n      <td>0</td>\n      <td>NA</td>\n      <td>105</td>\n      <td>Residencial - Estrato 5</td>\n      <td>30</td>\n      <td>265106</td>\n    </tr>\n  </tbody>\n</table>\n<p>265106 rows × 14 columns</p>\n</div>"
     },
     "execution_count": 112,
     "metadata": {},
     "output_type": "execute_result"
    }
   ],
   "source": [
    "# Líneas de Telefonía Local\n",
    "id = '967fbbd1-1c10-42b8-a6af-88b2376d43e7'\n",
    "df_tel_local = get_df_from_link(id)\n",
    "df_tel_local.to_csv(f'./bases_datos/telefonia_local.csv', index=False)\n",
    "df_tel_local"
   ],
   "metadata": {
    "collapsed": false,
    "pycharm": {
     "name": "#%%\n"
    }
   }
  },
  {
   "cell_type": "code",
   "execution_count": 113,
   "outputs": [
    {
     "data": {
      "text/plain": "     anno  trimestre  id_empresa  \\\n0    2012          1   800135729   \n1    2012          1   800204278   \n2    2012          1   800208518   \n3    2012          1   800224288   \n4    2012          1   805030753   \n..    ...        ...         ...   \n838  2022          1   899999115   \n839  2022          1   900092385   \n840  2022          1   900292948   \n841  2022          1   901169857   \n842  2022          1   901354361   \n\n                                               empresa      ingresos  entry_id  \n0                                           ERT SA ESP    1244080836         1  \n1    METROPOLITANA DE TELECOMUNICACIONES S.A. E.S.P...   14052264110         2  \n2    EMPRESA DE TELEFONOS DE JAMUNDI S.A. E.S.P. - ...  165585465,39         3  \n3                                       UNITEL S.A ESP  1489714939,7         4  \n4                                    IPSOFACTUM S.A.S.       2234340         5  \n..                                                 ...           ...       ...  \n838   EMPRESA DE TELECOMUNICACIONES DE BOGOTA S.A. ESP   88173830909       839  \n839                    UNE EPM TELECOMUNICACIONES S.A.   74886071496       840  \n840  UNIMOS EMPRESA MINICIPAL DE TELECOMUNICACIONES...     186932390       841  \n841                          NODO PACIFICO S.A.S E.S.P             0       842  \n842                      PARTNERS TELECOM COLOMBIA SAS             0       843  \n\n[843 rows x 6 columns]",
      "text/html": "<div>\n<style scoped>\n    .dataframe tbody tr th:only-of-type {\n        vertical-align: middle;\n    }\n\n    .dataframe tbody tr th {\n        vertical-align: top;\n    }\n\n    .dataframe thead th {\n        text-align: right;\n    }\n</style>\n<table border=\"1\" class=\"dataframe\">\n  <thead>\n    <tr style=\"text-align: right;\">\n      <th></th>\n      <th>anno</th>\n      <th>trimestre</th>\n      <th>id_empresa</th>\n      <th>empresa</th>\n      <th>ingresos</th>\n      <th>entry_id</th>\n    </tr>\n  </thead>\n  <tbody>\n    <tr>\n      <th>0</th>\n      <td>2012</td>\n      <td>1</td>\n      <td>800135729</td>\n      <td>ERT SA ESP</td>\n      <td>1244080836</td>\n      <td>1</td>\n    </tr>\n    <tr>\n      <th>1</th>\n      <td>2012</td>\n      <td>1</td>\n      <td>800204278</td>\n      <td>METROPOLITANA DE TELECOMUNICACIONES S.A. E.S.P...</td>\n      <td>14052264110</td>\n      <td>2</td>\n    </tr>\n    <tr>\n      <th>2</th>\n      <td>2012</td>\n      <td>1</td>\n      <td>800208518</td>\n      <td>EMPRESA DE TELEFONOS DE JAMUNDI S.A. E.S.P. - ...</td>\n      <td>165585465,39</td>\n      <td>3</td>\n    </tr>\n    <tr>\n      <th>3</th>\n      <td>2012</td>\n      <td>1</td>\n      <td>800224288</td>\n      <td>UNITEL S.A ESP</td>\n      <td>1489714939,7</td>\n      <td>4</td>\n    </tr>\n    <tr>\n      <th>4</th>\n      <td>2012</td>\n      <td>1</td>\n      <td>805030753</td>\n      <td>IPSOFACTUM S.A.S.</td>\n      <td>2234340</td>\n      <td>5</td>\n    </tr>\n    <tr>\n      <th>...</th>\n      <td>...</td>\n      <td>...</td>\n      <td>...</td>\n      <td>...</td>\n      <td>...</td>\n      <td>...</td>\n    </tr>\n    <tr>\n      <th>838</th>\n      <td>2022</td>\n      <td>1</td>\n      <td>899999115</td>\n      <td>EMPRESA DE TELECOMUNICACIONES DE BOGOTA S.A. ESP</td>\n      <td>88173830909</td>\n      <td>839</td>\n    </tr>\n    <tr>\n      <th>839</th>\n      <td>2022</td>\n      <td>1</td>\n      <td>900092385</td>\n      <td>UNE EPM TELECOMUNICACIONES S.A.</td>\n      <td>74886071496</td>\n      <td>840</td>\n    </tr>\n    <tr>\n      <th>840</th>\n      <td>2022</td>\n      <td>1</td>\n      <td>900292948</td>\n      <td>UNIMOS EMPRESA MINICIPAL DE TELECOMUNICACIONES...</td>\n      <td>186932390</td>\n      <td>841</td>\n    </tr>\n    <tr>\n      <th>841</th>\n      <td>2022</td>\n      <td>1</td>\n      <td>901169857</td>\n      <td>NODO PACIFICO S.A.S E.S.P</td>\n      <td>0</td>\n      <td>842</td>\n    </tr>\n    <tr>\n      <th>842</th>\n      <td>2022</td>\n      <td>1</td>\n      <td>901354361</td>\n      <td>PARTNERS TELECOM COLOMBIA SAS</td>\n      <td>0</td>\n      <td>843</td>\n    </tr>\n  </tbody>\n</table>\n<p>843 rows × 6 columns</p>\n</div>"
     },
     "execution_count": 113,
     "metadata": {},
     "output_type": "execute_result"
    }
   ],
   "source": [
    "# Ingresos de Telefonía Local\n",
    "id = 'f923f3bc-0628-44cc-beed-ca98b8bc3679'\n",
    "df_tel_ingresos = get_df_from_link(id)\n",
    "df_tel_ingresos.to_csv(f'./bases_datos/ingresos_telefonia_local.csv', index=False)\n",
    "df_tel_ingresos"
   ],
   "metadata": {
    "collapsed": false,
    "pycharm": {
     "name": "#%%\n"
    }
   }
  },
  {
   "cell_type": "code",
   "execution_count": 114,
   "outputs": [
    {
     "data": {
      "text/plain": "        anno  trimestre  id_empresa  \\\n0       2012          1   800135729   \n1       2012          1   800135729   \n2       2012          1   800135729   \n3       2012          1   800135729   \n4       2012          1   800135729   \n...      ...        ...         ...   \n264471  2021          4   899999115   \n264472  2021          4   899999115   \n264473  2021          4   899999115   \n264474  2021          4   899999115   \n264475  2021          4   899999115   \n\n                                                 empresa id_departamento  \\\n0                                             ERT SA ESP              76   \n1                                             ERT SA ESP              76   \n2                                             ERT SA ESP              76   \n3                                             ERT SA ESP              76   \n4                                             ERT SA ESP              76   \n...                                                  ...             ...   \n264471  EMPRESA DE TELECOMUNICACIONES DE BOGOTA S.A. ESP              25   \n264472  EMPRESA DE TELECOMUNICACIONES DE BOGOTA S.A. ESP              25   \n264473  EMPRESA DE TELECOMUNICACIONES DE BOGOTA S.A. ESP              25   \n264474  EMPRESA DE TELECOMUNICACIONES DE BOGOTA S.A. ESP              25   \n264475  EMPRESA DE TELECOMUNICACIONES DE BOGOTA S.A. ESP              25   \n\n           departamento  id_municipio  municipio id_ubicacion ubicacion  \\\n0       VALLE DEL CAUCA         76001       CALI            2    Urbano   \n1       VALLE DEL CAUCA         76001       CALI            2    Urbano   \n2       VALLE DEL CAUCA         76001       CALI            2    Urbano   \n3       VALLE DEL CAUCA         76001       CALI            2    Urbano   \n4       VALLE DEL CAUCA         76001       CALI            2    Urbano   \n...                 ...           ...        ...          ...       ...   \n264471     CUNDINAMARCA         25817  TOCANCIPÁ           NA        NA   \n264472     CUNDINAMARCA         25817  TOCANCIPÁ           NA        NA   \n264473     CUNDINAMARCA         25817  TOCANCIPÁ           NA        NA   \n264474     CUNDINAMARCA         25754     SOACHA           NA        NA   \n264475     CUNDINAMARCA         25754     SOACHA           NA        NA   \n\n        id_segmento                 segmento  trafico  entry_id  \n0               101  Residencial - Estrato 1     1184         1  \n1               102  Residencial - Estrato 2    18623         2  \n2               103  Residencial - Estrato 3     2188         3  \n3               104  Residencial - Estrato 4      537         4  \n4               105  Residencial - Estrato 5     1166         5  \n...             ...                      ...      ...       ...  \n264471          102  Residencial - Estrato 2     5975    264472  \n264472          103  Residencial - Estrato 3     2593    264473  \n264473          104  Residencial - Estrato 4        5    264474  \n264474          102  Residencial - Estrato 2  2115650    264475  \n264475          103  Residencial - Estrato 3  1890570    264476  \n\n[264476 rows x 14 columns]",
      "text/html": "<div>\n<style scoped>\n    .dataframe tbody tr th:only-of-type {\n        vertical-align: middle;\n    }\n\n    .dataframe tbody tr th {\n        vertical-align: top;\n    }\n\n    .dataframe thead th {\n        text-align: right;\n    }\n</style>\n<table border=\"1\" class=\"dataframe\">\n  <thead>\n    <tr style=\"text-align: right;\">\n      <th></th>\n      <th>anno</th>\n      <th>trimestre</th>\n      <th>id_empresa</th>\n      <th>empresa</th>\n      <th>id_departamento</th>\n      <th>departamento</th>\n      <th>id_municipio</th>\n      <th>municipio</th>\n      <th>id_ubicacion</th>\n      <th>ubicacion</th>\n      <th>id_segmento</th>\n      <th>segmento</th>\n      <th>trafico</th>\n      <th>entry_id</th>\n    </tr>\n  </thead>\n  <tbody>\n    <tr>\n      <th>0</th>\n      <td>2012</td>\n      <td>1</td>\n      <td>800135729</td>\n      <td>ERT SA ESP</td>\n      <td>76</td>\n      <td>VALLE DEL CAUCA</td>\n      <td>76001</td>\n      <td>CALI</td>\n      <td>2</td>\n      <td>Urbano</td>\n      <td>101</td>\n      <td>Residencial - Estrato 1</td>\n      <td>1184</td>\n      <td>1</td>\n    </tr>\n    <tr>\n      <th>1</th>\n      <td>2012</td>\n      <td>1</td>\n      <td>800135729</td>\n      <td>ERT SA ESP</td>\n      <td>76</td>\n      <td>VALLE DEL CAUCA</td>\n      <td>76001</td>\n      <td>CALI</td>\n      <td>2</td>\n      <td>Urbano</td>\n      <td>102</td>\n      <td>Residencial - Estrato 2</td>\n      <td>18623</td>\n      <td>2</td>\n    </tr>\n    <tr>\n      <th>2</th>\n      <td>2012</td>\n      <td>1</td>\n      <td>800135729</td>\n      <td>ERT SA ESP</td>\n      <td>76</td>\n      <td>VALLE DEL CAUCA</td>\n      <td>76001</td>\n      <td>CALI</td>\n      <td>2</td>\n      <td>Urbano</td>\n      <td>103</td>\n      <td>Residencial - Estrato 3</td>\n      <td>2188</td>\n      <td>3</td>\n    </tr>\n    <tr>\n      <th>3</th>\n      <td>2012</td>\n      <td>1</td>\n      <td>800135729</td>\n      <td>ERT SA ESP</td>\n      <td>76</td>\n      <td>VALLE DEL CAUCA</td>\n      <td>76001</td>\n      <td>CALI</td>\n      <td>2</td>\n      <td>Urbano</td>\n      <td>104</td>\n      <td>Residencial - Estrato 4</td>\n      <td>537</td>\n      <td>4</td>\n    </tr>\n    <tr>\n      <th>4</th>\n      <td>2012</td>\n      <td>1</td>\n      <td>800135729</td>\n      <td>ERT SA ESP</td>\n      <td>76</td>\n      <td>VALLE DEL CAUCA</td>\n      <td>76001</td>\n      <td>CALI</td>\n      <td>2</td>\n      <td>Urbano</td>\n      <td>105</td>\n      <td>Residencial - Estrato 5</td>\n      <td>1166</td>\n      <td>5</td>\n    </tr>\n    <tr>\n      <th>...</th>\n      <td>...</td>\n      <td>...</td>\n      <td>...</td>\n      <td>...</td>\n      <td>...</td>\n      <td>...</td>\n      <td>...</td>\n      <td>...</td>\n      <td>...</td>\n      <td>...</td>\n      <td>...</td>\n      <td>...</td>\n      <td>...</td>\n      <td>...</td>\n    </tr>\n    <tr>\n      <th>264471</th>\n      <td>2021</td>\n      <td>4</td>\n      <td>899999115</td>\n      <td>EMPRESA DE TELECOMUNICACIONES DE BOGOTA S.A. ESP</td>\n      <td>25</td>\n      <td>CUNDINAMARCA</td>\n      <td>25817</td>\n      <td>TOCANCIPÁ</td>\n      <td>NA</td>\n      <td>NA</td>\n      <td>102</td>\n      <td>Residencial - Estrato 2</td>\n      <td>5975</td>\n      <td>264472</td>\n    </tr>\n    <tr>\n      <th>264472</th>\n      <td>2021</td>\n      <td>4</td>\n      <td>899999115</td>\n      <td>EMPRESA DE TELECOMUNICACIONES DE BOGOTA S.A. ESP</td>\n      <td>25</td>\n      <td>CUNDINAMARCA</td>\n      <td>25817</td>\n      <td>TOCANCIPÁ</td>\n      <td>NA</td>\n      <td>NA</td>\n      <td>103</td>\n      <td>Residencial - Estrato 3</td>\n      <td>2593</td>\n      <td>264473</td>\n    </tr>\n    <tr>\n      <th>264473</th>\n      <td>2021</td>\n      <td>4</td>\n      <td>899999115</td>\n      <td>EMPRESA DE TELECOMUNICACIONES DE BOGOTA S.A. ESP</td>\n      <td>25</td>\n      <td>CUNDINAMARCA</td>\n      <td>25817</td>\n      <td>TOCANCIPÁ</td>\n      <td>NA</td>\n      <td>NA</td>\n      <td>104</td>\n      <td>Residencial - Estrato 4</td>\n      <td>5</td>\n      <td>264474</td>\n    </tr>\n    <tr>\n      <th>264474</th>\n      <td>2021</td>\n      <td>4</td>\n      <td>899999115</td>\n      <td>EMPRESA DE TELECOMUNICACIONES DE BOGOTA S.A. ESP</td>\n      <td>25</td>\n      <td>CUNDINAMARCA</td>\n      <td>25754</td>\n      <td>SOACHA</td>\n      <td>NA</td>\n      <td>NA</td>\n      <td>102</td>\n      <td>Residencial - Estrato 2</td>\n      <td>2115650</td>\n      <td>264475</td>\n    </tr>\n    <tr>\n      <th>264475</th>\n      <td>2021</td>\n      <td>4</td>\n      <td>899999115</td>\n      <td>EMPRESA DE TELECOMUNICACIONES DE BOGOTA S.A. ESP</td>\n      <td>25</td>\n      <td>CUNDINAMARCA</td>\n      <td>25754</td>\n      <td>SOACHA</td>\n      <td>NA</td>\n      <td>NA</td>\n      <td>103</td>\n      <td>Residencial - Estrato 3</td>\n      <td>1890570</td>\n      <td>264476</td>\n    </tr>\n  </tbody>\n</table>\n<p>264476 rows × 14 columns</p>\n</div>"
     },
     "execution_count": 114,
     "metadata": {},
     "output_type": "execute_result"
    }
   ],
   "source": [
    "# Tráfico de Telefonía Local\n",
    "id = 'bb2b4afe-f098-4c5d-819a-cba76337c3a9'\n",
    "df_tel_trafico = get_df_from_link(id)\n",
    "df_tel_trafico.to_csv(f'./bases_datos/trafico_telefonia_local.csv', index=False)\n",
    "df_tel_trafico"
   ],
   "metadata": {
    "collapsed": false,
    "pycharm": {
     "name": "#%%\n"
    }
   }
  },
  {
   "cell_type": "code",
   "execution_count": 115,
   "outputs": [
    {
     "data": {
      "text/plain": "        anno  trimestre  id_empresa                           empresa  \\\n0       2010          1   830104796  GILAT NETWORKS COLOMBIA S.A. ESP   \n1       2010          1   830104796  GILAT NETWORKS COLOMBIA S.A. ESP   \n2       2010          1   830104796  GILAT NETWORKS COLOMBIA S.A. ESP   \n3       2010          1   830104796  GILAT NETWORKS COLOMBIA S.A. ESP   \n4       2010          1   830104796  GILAT NETWORKS COLOMBIA S.A. ESP   \n...      ...        ...         ...                               ...   \n789209  2017          1   900209693          CALDAS DATA COMPANY LTDA   \n789210  2017          1   900209693          CALDAS DATA COMPANY LTDA   \n789211  2017          1   900209693          CALDAS DATA COMPANY LTDA   \n789212  2017          1   900209693          CALDAS DATA COMPANY LTDA   \n789213  2017          1   900209693          CALDAS DATA COMPANY LTDA   \n\n        id_departamento departamento  id_municipio              municipio  \\\n0                    13      BOLIVAR         13620          SAN CRISTOBAL   \n1                    13      BOLIVAR         13647         SAN ESTANISLAO   \n2                    13      BOLIVAR         13650           SAN FERNANDO   \n3                    13      BOLIVAR         13654            SAN JACINTO   \n4                    13      BOLIVAR         13655  SAN JACINTO DEL CAUCA   \n...                 ...          ...           ...                    ...   \n789209               17       CALDAS         17444            MARQUETALIA   \n789210               17       CALDAS         17444            MARQUETALIA   \n789211               17       CALDAS         17444            MARQUETALIA   \n789212               17       CALDAS         17444            MARQUETALIA   \n789213               17       CALDAS         17446              MARULANDA   \n\n        id_segmento                 segmento  id_tecnologia tecnologia  \\\n0                14   COMPARTEL - TELECENTRO              6  SATELITAL   \n1                14   COMPARTEL - TELECENTRO              6  SATELITAL   \n2                14   COMPARTEL - TELECENTRO              6  SATELITAL   \n3                14   COMPARTEL - TELECENTRO              6  SATELITAL   \n4                14   COMPARTEL - TELECENTRO              6  SATELITAL   \n...             ...                      ...            ...        ...   \n789209            7              CORPORATIVO              1       WIFI   \n789210            8            CAFÉ INTERNET              1       WIFI   \n789211            8            CAFÉ INTERNET              1       WIFI   \n789212            8            CAFÉ INTERNET              1       WIFI   \n789213            3  RESIDENCIAL - ESTRATO 3              1       WIFI   \n\n        accesos  entry_id  \n0             1         1  \n1             1         2  \n2             1         3  \n3             1         4  \n4             1         5  \n...         ...       ...  \n789209        1    789210  \n789210        3    789211  \n789211        2    789212  \n789212        3    789213  \n789213        1    789214  \n\n[789214 rows x 14 columns]",
      "text/html": "<div>\n<style scoped>\n    .dataframe tbody tr th:only-of-type {\n        vertical-align: middle;\n    }\n\n    .dataframe tbody tr th {\n        vertical-align: top;\n    }\n\n    .dataframe thead th {\n        text-align: right;\n    }\n</style>\n<table border=\"1\" class=\"dataframe\">\n  <thead>\n    <tr style=\"text-align: right;\">\n      <th></th>\n      <th>anno</th>\n      <th>trimestre</th>\n      <th>id_empresa</th>\n      <th>empresa</th>\n      <th>id_departamento</th>\n      <th>departamento</th>\n      <th>id_municipio</th>\n      <th>municipio</th>\n      <th>id_segmento</th>\n      <th>segmento</th>\n      <th>id_tecnologia</th>\n      <th>tecnologia</th>\n      <th>accesos</th>\n      <th>entry_id</th>\n    </tr>\n  </thead>\n  <tbody>\n    <tr>\n      <th>0</th>\n      <td>2010</td>\n      <td>1</td>\n      <td>830104796</td>\n      <td>GILAT NETWORKS COLOMBIA S.A. ESP</td>\n      <td>13</td>\n      <td>BOLIVAR</td>\n      <td>13620</td>\n      <td>SAN CRISTOBAL</td>\n      <td>14</td>\n      <td>COMPARTEL - TELECENTRO</td>\n      <td>6</td>\n      <td>SATELITAL</td>\n      <td>1</td>\n      <td>1</td>\n    </tr>\n    <tr>\n      <th>1</th>\n      <td>2010</td>\n      <td>1</td>\n      <td>830104796</td>\n      <td>GILAT NETWORKS COLOMBIA S.A. ESP</td>\n      <td>13</td>\n      <td>BOLIVAR</td>\n      <td>13647</td>\n      <td>SAN ESTANISLAO</td>\n      <td>14</td>\n      <td>COMPARTEL - TELECENTRO</td>\n      <td>6</td>\n      <td>SATELITAL</td>\n      <td>1</td>\n      <td>2</td>\n    </tr>\n    <tr>\n      <th>2</th>\n      <td>2010</td>\n      <td>1</td>\n      <td>830104796</td>\n      <td>GILAT NETWORKS COLOMBIA S.A. ESP</td>\n      <td>13</td>\n      <td>BOLIVAR</td>\n      <td>13650</td>\n      <td>SAN FERNANDO</td>\n      <td>14</td>\n      <td>COMPARTEL - TELECENTRO</td>\n      <td>6</td>\n      <td>SATELITAL</td>\n      <td>1</td>\n      <td>3</td>\n    </tr>\n    <tr>\n      <th>3</th>\n      <td>2010</td>\n      <td>1</td>\n      <td>830104796</td>\n      <td>GILAT NETWORKS COLOMBIA S.A. ESP</td>\n      <td>13</td>\n      <td>BOLIVAR</td>\n      <td>13654</td>\n      <td>SAN JACINTO</td>\n      <td>14</td>\n      <td>COMPARTEL - TELECENTRO</td>\n      <td>6</td>\n      <td>SATELITAL</td>\n      <td>1</td>\n      <td>4</td>\n    </tr>\n    <tr>\n      <th>4</th>\n      <td>2010</td>\n      <td>1</td>\n      <td>830104796</td>\n      <td>GILAT NETWORKS COLOMBIA S.A. ESP</td>\n      <td>13</td>\n      <td>BOLIVAR</td>\n      <td>13655</td>\n      <td>SAN JACINTO DEL CAUCA</td>\n      <td>14</td>\n      <td>COMPARTEL - TELECENTRO</td>\n      <td>6</td>\n      <td>SATELITAL</td>\n      <td>1</td>\n      <td>5</td>\n    </tr>\n    <tr>\n      <th>...</th>\n      <td>...</td>\n      <td>...</td>\n      <td>...</td>\n      <td>...</td>\n      <td>...</td>\n      <td>...</td>\n      <td>...</td>\n      <td>...</td>\n      <td>...</td>\n      <td>...</td>\n      <td>...</td>\n      <td>...</td>\n      <td>...</td>\n      <td>...</td>\n    </tr>\n    <tr>\n      <th>789209</th>\n      <td>2017</td>\n      <td>1</td>\n      <td>900209693</td>\n      <td>CALDAS DATA COMPANY LTDA</td>\n      <td>17</td>\n      <td>CALDAS</td>\n      <td>17444</td>\n      <td>MARQUETALIA</td>\n      <td>7</td>\n      <td>CORPORATIVO</td>\n      <td>1</td>\n      <td>WIFI</td>\n      <td>1</td>\n      <td>789210</td>\n    </tr>\n    <tr>\n      <th>789210</th>\n      <td>2017</td>\n      <td>1</td>\n      <td>900209693</td>\n      <td>CALDAS DATA COMPANY LTDA</td>\n      <td>17</td>\n      <td>CALDAS</td>\n      <td>17444</td>\n      <td>MARQUETALIA</td>\n      <td>8</td>\n      <td>CAFÉ INTERNET</td>\n      <td>1</td>\n      <td>WIFI</td>\n      <td>3</td>\n      <td>789211</td>\n    </tr>\n    <tr>\n      <th>789211</th>\n      <td>2017</td>\n      <td>1</td>\n      <td>900209693</td>\n      <td>CALDAS DATA COMPANY LTDA</td>\n      <td>17</td>\n      <td>CALDAS</td>\n      <td>17444</td>\n      <td>MARQUETALIA</td>\n      <td>8</td>\n      <td>CAFÉ INTERNET</td>\n      <td>1</td>\n      <td>WIFI</td>\n      <td>2</td>\n      <td>789212</td>\n    </tr>\n    <tr>\n      <th>789212</th>\n      <td>2017</td>\n      <td>1</td>\n      <td>900209693</td>\n      <td>CALDAS DATA COMPANY LTDA</td>\n      <td>17</td>\n      <td>CALDAS</td>\n      <td>17444</td>\n      <td>MARQUETALIA</td>\n      <td>8</td>\n      <td>CAFÉ INTERNET</td>\n      <td>1</td>\n      <td>WIFI</td>\n      <td>3</td>\n      <td>789213</td>\n    </tr>\n    <tr>\n      <th>789213</th>\n      <td>2017</td>\n      <td>1</td>\n      <td>900209693</td>\n      <td>CALDAS DATA COMPANY LTDA</td>\n      <td>17</td>\n      <td>CALDAS</td>\n      <td>17446</td>\n      <td>MARULANDA</td>\n      <td>3</td>\n      <td>RESIDENCIAL - ESTRATO 3</td>\n      <td>1</td>\n      <td>WIFI</td>\n      <td>1</td>\n      <td>789214</td>\n    </tr>\n  </tbody>\n</table>\n<p>789214 rows × 14 columns</p>\n</div>"
     },
     "execution_count": 115,
     "metadata": {},
     "output_type": "execute_result"
    }
   ],
   "source": [
    "# Accesos de Internet Fijo hasta 2017-1T\n",
    "id = '7c738136-b1ba-4f2c-9f99-e67b282d6425'\n",
    "df_internet_1 = get_df_from_link(id)\n",
    "df_internet_1.to_csv(f'./bases_datos/accesos_internet_fijo_hasta20171T.csv', index=False)\n",
    "df_internet_1"
   ],
   "metadata": {
    "collapsed": false,
    "pycharm": {
     "name": "#%%\n"
    }
   }
  },
  {
   "cell_type": "code",
   "execution_count": 116,
   "outputs": [
    {
     "data": {
      "text/plain": "         anno  trimestre  id_empresa                               empresa  \\\n0        2017          2   900217277  SYSTEL COMUNICACIONES CARTAGO S.A.S.   \n1        2017          2   900217277  SYSTEL COMUNICACIONES CARTAGO S.A.S.   \n2        2017          2   900217277  SYSTEL COMUNICACIONES CARTAGO S.A.S.   \n3        2017          2   900217277  SYSTEL COMUNICACIONES CARTAGO S.A.S.   \n4        2017          2   900217277  SYSTEL COMUNICACIONES CARTAGO S.A.S.   \n...       ...        ...         ...                                   ...   \n1505576  2022          1   901397346        AJ GLOBAL PROYECTOS NET S.A.S.   \n1505577  2022          1   901397346        AJ GLOBAL PROYECTOS NET S.A.S.   \n1505578  2022          1   901397346        AJ GLOBAL PROYECTOS NET S.A.S.   \n1505579  2022          1   901397346        AJ GLOBAL PROYECTOS NET S.A.S.   \n1505580  2022          1   901397346        AJ GLOBAL PROYECTOS NET S.A.S.   \n\n         id_municipio       municipio  id_departamento     departamento  \\\n0               76147         CARTAGO               76  VALLE DEL CAUCA   \n1               76147         CARTAGO               76  VALLE DEL CAUCA   \n2               76147         CARTAGO               76  VALLE DEL CAUCA   \n3               76147         CARTAGO               76  VALLE DEL CAUCA   \n4               76147         CARTAGO               76  VALLE DEL CAUCA   \n...               ...             ...              ...              ...   \n1505576         15407  VILLA DE LEYVA               15           BOYACÁ   \n1505577         15776     SUTAMARCHÁN               15           BOYACÁ   \n1505578         15407  VILLA DE LEYVA               15           BOYACÁ   \n1505579         15407  VILLA DE LEYVA               15           BOYACÁ   \n1505580         15776     SUTAMARCHÁN               15           BOYACÁ   \n\n         id_segmento                 segmento velocidad_efectiva_downstream  \\\n0                104  Residencial - Estrato 4                             1   \n1                101  Residencial - Estrato 1                             2   \n2                107              Corporativo                           0,8   \n3                107              Corporativo                           2,8   \n4                104  Residencial - Estrato 4                           1,5   \n...              ...                      ...                           ...   \n1505576          107              Corporativo                            40   \n1505577          102  Residencial - Estrato 2                            15   \n1505578          102  Residencial - Estrato 2                             5   \n1505579          107              Corporativo                            30   \n1505580          107              Corporativo                             8   \n\n        velocidad_efectiva_upstream  id_tecnologia  \\\n0                               0,5            114   \n1                                 1            114   \n2                               0,5            114   \n3                                 2            114   \n4                               0,7            114   \n...                             ...            ...   \n1505576                          20            104   \n1505577                         7,5            104   \n1505578                         2,5            104   \n1505579                          15            104   \n1505580                           4            104   \n\n                             tecnologia  accesos  entry_id  \n0        Otras tecnologías inalámbricas        7         1  \n1        Otras tecnologías inalámbricas        1         2  \n2        Otras tecnologías inalámbricas        1         3  \n3        Otras tecnologías inalámbricas       13         4  \n4        Otras tecnologías inalámbricas        2         5  \n...                                 ...      ...       ...  \n1505576                            WiFi        2   1505577  \n1505577                            WiFi        2   1505578  \n1505578                            WiFi       10   1505579  \n1505579                            WiFi        2   1505580  \n1505580                            WiFi        1   1505581  \n\n[1505581 rows x 16 columns]",
      "text/html": "<div>\n<style scoped>\n    .dataframe tbody tr th:only-of-type {\n        vertical-align: middle;\n    }\n\n    .dataframe tbody tr th {\n        vertical-align: top;\n    }\n\n    .dataframe thead th {\n        text-align: right;\n    }\n</style>\n<table border=\"1\" class=\"dataframe\">\n  <thead>\n    <tr style=\"text-align: right;\">\n      <th></th>\n      <th>anno</th>\n      <th>trimestre</th>\n      <th>id_empresa</th>\n      <th>empresa</th>\n      <th>id_municipio</th>\n      <th>municipio</th>\n      <th>id_departamento</th>\n      <th>departamento</th>\n      <th>id_segmento</th>\n      <th>segmento</th>\n      <th>velocidad_efectiva_downstream</th>\n      <th>velocidad_efectiva_upstream</th>\n      <th>id_tecnologia</th>\n      <th>tecnologia</th>\n      <th>accesos</th>\n      <th>entry_id</th>\n    </tr>\n  </thead>\n  <tbody>\n    <tr>\n      <th>0</th>\n      <td>2017</td>\n      <td>2</td>\n      <td>900217277</td>\n      <td>SYSTEL COMUNICACIONES CARTAGO S.A.S.</td>\n      <td>76147</td>\n      <td>CARTAGO</td>\n      <td>76</td>\n      <td>VALLE DEL CAUCA</td>\n      <td>104</td>\n      <td>Residencial - Estrato 4</td>\n      <td>1</td>\n      <td>0,5</td>\n      <td>114</td>\n      <td>Otras tecnologías inalámbricas</td>\n      <td>7</td>\n      <td>1</td>\n    </tr>\n    <tr>\n      <th>1</th>\n      <td>2017</td>\n      <td>2</td>\n      <td>900217277</td>\n      <td>SYSTEL COMUNICACIONES CARTAGO S.A.S.</td>\n      <td>76147</td>\n      <td>CARTAGO</td>\n      <td>76</td>\n      <td>VALLE DEL CAUCA</td>\n      <td>101</td>\n      <td>Residencial - Estrato 1</td>\n      <td>2</td>\n      <td>1</td>\n      <td>114</td>\n      <td>Otras tecnologías inalámbricas</td>\n      <td>1</td>\n      <td>2</td>\n    </tr>\n    <tr>\n      <th>2</th>\n      <td>2017</td>\n      <td>2</td>\n      <td>900217277</td>\n      <td>SYSTEL COMUNICACIONES CARTAGO S.A.S.</td>\n      <td>76147</td>\n      <td>CARTAGO</td>\n      <td>76</td>\n      <td>VALLE DEL CAUCA</td>\n      <td>107</td>\n      <td>Corporativo</td>\n      <td>0,8</td>\n      <td>0,5</td>\n      <td>114</td>\n      <td>Otras tecnologías inalámbricas</td>\n      <td>1</td>\n      <td>3</td>\n    </tr>\n    <tr>\n      <th>3</th>\n      <td>2017</td>\n      <td>2</td>\n      <td>900217277</td>\n      <td>SYSTEL COMUNICACIONES CARTAGO S.A.S.</td>\n      <td>76147</td>\n      <td>CARTAGO</td>\n      <td>76</td>\n      <td>VALLE DEL CAUCA</td>\n      <td>107</td>\n      <td>Corporativo</td>\n      <td>2,8</td>\n      <td>2</td>\n      <td>114</td>\n      <td>Otras tecnologías inalámbricas</td>\n      <td>13</td>\n      <td>4</td>\n    </tr>\n    <tr>\n      <th>4</th>\n      <td>2017</td>\n      <td>2</td>\n      <td>900217277</td>\n      <td>SYSTEL COMUNICACIONES CARTAGO S.A.S.</td>\n      <td>76147</td>\n      <td>CARTAGO</td>\n      <td>76</td>\n      <td>VALLE DEL CAUCA</td>\n      <td>104</td>\n      <td>Residencial - Estrato 4</td>\n      <td>1,5</td>\n      <td>0,7</td>\n      <td>114</td>\n      <td>Otras tecnologías inalámbricas</td>\n      <td>2</td>\n      <td>5</td>\n    </tr>\n    <tr>\n      <th>...</th>\n      <td>...</td>\n      <td>...</td>\n      <td>...</td>\n      <td>...</td>\n      <td>...</td>\n      <td>...</td>\n      <td>...</td>\n      <td>...</td>\n      <td>...</td>\n      <td>...</td>\n      <td>...</td>\n      <td>...</td>\n      <td>...</td>\n      <td>...</td>\n      <td>...</td>\n      <td>...</td>\n    </tr>\n    <tr>\n      <th>1505576</th>\n      <td>2022</td>\n      <td>1</td>\n      <td>901397346</td>\n      <td>AJ GLOBAL PROYECTOS NET S.A.S.</td>\n      <td>15407</td>\n      <td>VILLA DE LEYVA</td>\n      <td>15</td>\n      <td>BOYACÁ</td>\n      <td>107</td>\n      <td>Corporativo</td>\n      <td>40</td>\n      <td>20</td>\n      <td>104</td>\n      <td>WiFi</td>\n      <td>2</td>\n      <td>1505577</td>\n    </tr>\n    <tr>\n      <th>1505577</th>\n      <td>2022</td>\n      <td>1</td>\n      <td>901397346</td>\n      <td>AJ GLOBAL PROYECTOS NET S.A.S.</td>\n      <td>15776</td>\n      <td>SUTAMARCHÁN</td>\n      <td>15</td>\n      <td>BOYACÁ</td>\n      <td>102</td>\n      <td>Residencial - Estrato 2</td>\n      <td>15</td>\n      <td>7,5</td>\n      <td>104</td>\n      <td>WiFi</td>\n      <td>2</td>\n      <td>1505578</td>\n    </tr>\n    <tr>\n      <th>1505578</th>\n      <td>2022</td>\n      <td>1</td>\n      <td>901397346</td>\n      <td>AJ GLOBAL PROYECTOS NET S.A.S.</td>\n      <td>15407</td>\n      <td>VILLA DE LEYVA</td>\n      <td>15</td>\n      <td>BOYACÁ</td>\n      <td>102</td>\n      <td>Residencial - Estrato 2</td>\n      <td>5</td>\n      <td>2,5</td>\n      <td>104</td>\n      <td>WiFi</td>\n      <td>10</td>\n      <td>1505579</td>\n    </tr>\n    <tr>\n      <th>1505579</th>\n      <td>2022</td>\n      <td>1</td>\n      <td>901397346</td>\n      <td>AJ GLOBAL PROYECTOS NET S.A.S.</td>\n      <td>15407</td>\n      <td>VILLA DE LEYVA</td>\n      <td>15</td>\n      <td>BOYACÁ</td>\n      <td>107</td>\n      <td>Corporativo</td>\n      <td>30</td>\n      <td>15</td>\n      <td>104</td>\n      <td>WiFi</td>\n      <td>2</td>\n      <td>1505580</td>\n    </tr>\n    <tr>\n      <th>1505580</th>\n      <td>2022</td>\n      <td>1</td>\n      <td>901397346</td>\n      <td>AJ GLOBAL PROYECTOS NET S.A.S.</td>\n      <td>15776</td>\n      <td>SUTAMARCHÁN</td>\n      <td>15</td>\n      <td>BOYACÁ</td>\n      <td>107</td>\n      <td>Corporativo</td>\n      <td>8</td>\n      <td>4</td>\n      <td>104</td>\n      <td>WiFi</td>\n      <td>1</td>\n      <td>1505581</td>\n    </tr>\n  </tbody>\n</table>\n<p>1505581 rows × 16 columns</p>\n</div>"
     },
     "execution_count": 116,
     "metadata": {},
     "output_type": "execute_result"
    }
   ],
   "source": [
    "# Accesos de Internet Fijo desde 2017-2T\n",
    "id = '540ea080-bf16-4d63-911f-3b4814e8e4f1'\n",
    "df_internet_2 = get_df_from_link(id)\n",
    "df_internet_2.to_csv(f'./bases_datos/accesos_internet_fijo_desde20172T.csv', index=False)\n",
    "df_internet_2"
   ],
   "metadata": {
    "collapsed": false,
    "pycharm": {
     "name": "#%%\n"
    }
   }
  },
  {
   "cell_type": "code",
   "execution_count": 117,
   "outputs": [
    {
     "data": {
      "text/plain": "       anno  trimestre  id_empresa  \\\n0      2012          1   900022836   \n1      2012          1   830016046   \n2      2012          1   830119051   \n3      2012          1   900258177   \n4      2012          1   900047715   \n...     ...        ...         ...   \n11212  2022          1  2800000008   \n11213  2022          1  2800000009   \n11214  2022          1  2800000010   \n11215  2022          1  2800000011   \n11216  2022          1  2800000014   \n\n                                              empresa  id_servicio  \\\n0                                   @NY PHONE S A ESP          101   \n1                                       AVANTEL S.A.S          101   \n2                                         AXESAT S.A.          101   \n3      BRASIL TELECOM DE COLOMBIA EMPRESA UNIPERSONAL          101   \n4                                CABLE & TV YOPAL SAS          101   \n...                                               ...          ...   \n11212                GROUP TELECOMUNICACIONES P&C SAS          101   \n11213                                 SUSETELCO S.A.S          101   \n11214  REDES INTEGRALES DE TELECOMUNICACIONES AyG SAS          101   \n11215                                     TV SUR LTDA          101   \n11216                                SERTELCON S.A.S.          101   \n\n                     servicio id_concepto concepto    ingresos  entry_id  \n0      Acceso fijo a Internet          NA       NA    46053095         1  \n1      Acceso fijo a Internet          NA       NA   198129006         2  \n2      Acceso fijo a Internet          NA       NA  2534730983         3  \n3      Acceso fijo a Internet          NA       NA   208241534         4  \n4      Acceso fijo a Internet          NA       NA    57420000         5  \n...                       ...         ...      ...         ...       ...  \n11212  Acceso fijo a Internet           0       NA   242697160     11213  \n11213  Acceso fijo a Internet           0       NA   155468564     11214  \n11214  Acceso fijo a Internet           0       NA   400219675     11215  \n11215  Acceso fijo a Internet           0       NA    42857336     11216  \n11216  Acceso fijo a Internet           0       NA    13762873     11217  \n\n[11217 rows x 10 columns]",
      "text/html": "<div>\n<style scoped>\n    .dataframe tbody tr th:only-of-type {\n        vertical-align: middle;\n    }\n\n    .dataframe tbody tr th {\n        vertical-align: top;\n    }\n\n    .dataframe thead th {\n        text-align: right;\n    }\n</style>\n<table border=\"1\" class=\"dataframe\">\n  <thead>\n    <tr style=\"text-align: right;\">\n      <th></th>\n      <th>anno</th>\n      <th>trimestre</th>\n      <th>id_empresa</th>\n      <th>empresa</th>\n      <th>id_servicio</th>\n      <th>servicio</th>\n      <th>id_concepto</th>\n      <th>concepto</th>\n      <th>ingresos</th>\n      <th>entry_id</th>\n    </tr>\n  </thead>\n  <tbody>\n    <tr>\n      <th>0</th>\n      <td>2012</td>\n      <td>1</td>\n      <td>900022836</td>\n      <td>@NY PHONE S A ESP</td>\n      <td>101</td>\n      <td>Acceso fijo a Internet</td>\n      <td>NA</td>\n      <td>NA</td>\n      <td>46053095</td>\n      <td>1</td>\n    </tr>\n    <tr>\n      <th>1</th>\n      <td>2012</td>\n      <td>1</td>\n      <td>830016046</td>\n      <td>AVANTEL S.A.S</td>\n      <td>101</td>\n      <td>Acceso fijo a Internet</td>\n      <td>NA</td>\n      <td>NA</td>\n      <td>198129006</td>\n      <td>2</td>\n    </tr>\n    <tr>\n      <th>2</th>\n      <td>2012</td>\n      <td>1</td>\n      <td>830119051</td>\n      <td>AXESAT S.A.</td>\n      <td>101</td>\n      <td>Acceso fijo a Internet</td>\n      <td>NA</td>\n      <td>NA</td>\n      <td>2534730983</td>\n      <td>3</td>\n    </tr>\n    <tr>\n      <th>3</th>\n      <td>2012</td>\n      <td>1</td>\n      <td>900258177</td>\n      <td>BRASIL TELECOM DE COLOMBIA EMPRESA UNIPERSONAL</td>\n      <td>101</td>\n      <td>Acceso fijo a Internet</td>\n      <td>NA</td>\n      <td>NA</td>\n      <td>208241534</td>\n      <td>4</td>\n    </tr>\n    <tr>\n      <th>4</th>\n      <td>2012</td>\n      <td>1</td>\n      <td>900047715</td>\n      <td>CABLE &amp; TV YOPAL SAS</td>\n      <td>101</td>\n      <td>Acceso fijo a Internet</td>\n      <td>NA</td>\n      <td>NA</td>\n      <td>57420000</td>\n      <td>5</td>\n    </tr>\n    <tr>\n      <th>...</th>\n      <td>...</td>\n      <td>...</td>\n      <td>...</td>\n      <td>...</td>\n      <td>...</td>\n      <td>...</td>\n      <td>...</td>\n      <td>...</td>\n      <td>...</td>\n      <td>...</td>\n    </tr>\n    <tr>\n      <th>11212</th>\n      <td>2022</td>\n      <td>1</td>\n      <td>2800000008</td>\n      <td>GROUP TELECOMUNICACIONES P&amp;C SAS</td>\n      <td>101</td>\n      <td>Acceso fijo a Internet</td>\n      <td>0</td>\n      <td>NA</td>\n      <td>242697160</td>\n      <td>11213</td>\n    </tr>\n    <tr>\n      <th>11213</th>\n      <td>2022</td>\n      <td>1</td>\n      <td>2800000009</td>\n      <td>SUSETELCO S.A.S</td>\n      <td>101</td>\n      <td>Acceso fijo a Internet</td>\n      <td>0</td>\n      <td>NA</td>\n      <td>155468564</td>\n      <td>11214</td>\n    </tr>\n    <tr>\n      <th>11214</th>\n      <td>2022</td>\n      <td>1</td>\n      <td>2800000010</td>\n      <td>REDES INTEGRALES DE TELECOMUNICACIONES AyG SAS</td>\n      <td>101</td>\n      <td>Acceso fijo a Internet</td>\n      <td>0</td>\n      <td>NA</td>\n      <td>400219675</td>\n      <td>11215</td>\n    </tr>\n    <tr>\n      <th>11215</th>\n      <td>2022</td>\n      <td>1</td>\n      <td>2800000011</td>\n      <td>TV SUR LTDA</td>\n      <td>101</td>\n      <td>Acceso fijo a Internet</td>\n      <td>0</td>\n      <td>NA</td>\n      <td>42857336</td>\n      <td>11216</td>\n    </tr>\n    <tr>\n      <th>11216</th>\n      <td>2022</td>\n      <td>1</td>\n      <td>2800000014</td>\n      <td>SERTELCON S.A.S.</td>\n      <td>101</td>\n      <td>Acceso fijo a Internet</td>\n      <td>0</td>\n      <td>NA</td>\n      <td>13762873</td>\n      <td>11217</td>\n    </tr>\n  </tbody>\n</table>\n<p>11217 rows × 10 columns</p>\n</div>"
     },
     "execution_count": 117,
     "metadata": {},
     "output_type": "execute_result"
    }
   ],
   "source": [
    "# Ingresos de Internet Fijo\n",
    "id = 'd917a68d-9cb9-4257-82f1-74115a4cf629'\n",
    "df_internet_ingresos = get_df_from_link(id)\n",
    "df_internet_ingresos.to_csv(f'./bases_datos/ingresos_internet_fijo.csv', index=False)\n",
    "df_internet_ingresos"
   ],
   "metadata": {
    "collapsed": false,
    "pycharm": {
     "name": "#%%\n"
    }
   }
  }
 ],
 "metadata": {
  "kernelspec": {
   "display_name": "Python 3",
   "language": "python",
   "name": "python3"
  },
  "language_info": {
   "codemirror_mode": {
    "name": "ipython",
    "version": 2
   },
   "file_extension": ".py",
   "mimetype": "text/x-python",
   "name": "python",
   "nbconvert_exporter": "python",
   "pygments_lexer": "ipython2",
   "version": "2.7.6"
  }
 },
 "nbformat": 4,
 "nbformat_minor": 0
}